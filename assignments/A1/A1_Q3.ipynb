{
 "cells": [
  {
   "cell_type": "markdown",
   "metadata": {
    "collapsed": true,
    "nbgrader": {
     "grade": false,
     "grade_id": "q3_prompt",
     "locked": true,
     "solution": false
    }
   },
   "source": [
    "# Q3\n",
    "\n",
    "In this question, we'll focus on looping."
   ]
  },
  {
   "cell_type": "markdown",
   "metadata": {
    "nbgrader": {
     "grade": false,
     "grade_id": "q3a_prompt",
     "locked": true,
     "solution": false
    }
   },
   "source": [
    "### A\n",
    "\n",
    "In the question below, you'll write code that generates a new list, `reverse`, that is the same as the input list except with its elements backwards relative to the original.\n",
    "\n",
    "As an example, if the input list is `[1, 2, 3]`, the output list `reverse` should be `[3, 2, 1]`."
   ]
  },
  {
   "cell_type": "code",
   "execution_count": null,
   "metadata": {
    "collapsed": true,
    "nbgrader": {
     "grade": false,
     "grade_id": "q3a",
     "locked": false,
     "solution": true
    }
   },
   "outputs": [],
   "source": [
    "def reverse_list(inlist):\n",
    "    reverse = []\n",
    "\n",
    "    ### BEGIN SOLUTION\n",
    "    \n",
    "    ### END SOLUTION\n",
    "    \n",
    "    return reverse"
   ]
  },
  {
   "cell_type": "code",
   "execution_count": null,
   "metadata": {
    "collapsed": true,
    "nbgrader": {
     "grade": true,
     "grade_id": "q3a_test",
     "locked": true,
     "points": 5,
     "solution": false
    }
   },
   "outputs": [],
   "source": [
    "t1 = [1, 2, 3]\n",
    "t2 = [3, 2, 1]\n",
    "assert set(t2) == set(reverse_list(t1))\n",
    "\n",
    "t1 = [2, 6, 52, 64, 3.4, \"something\", 3, 6.2]\n",
    "t2 = [6.2, 3, \"something\", 3.4, 64, 52, 6, 2]\n",
    "assert set(t1) == set(reverse_list(t2))"
   ]
  },
  {
   "cell_type": "markdown",
   "metadata": {
    "nbgrader": {
     "grade": false,
     "grade_id": "q3b_prompt",
     "locked": true,
     "solution": false
    }
   },
   "source": [
    "---\n",
    "### B\n",
    "\n",
    "In this question, you'll implement a piece of the Fibonacci sequence. Specifically, you'll fill in code that's required to compute the *next* number in the sequence, given a list of all previous numbers.\n",
    "\n",
    "Remember how the Fibonacci sequence works: the $n^{th}$ number in the sequence is the sum of numbers $n - 1$ and $n - 2$. So if you're given an input list of just the first two numbers, `[1, 1]`, then you should compute 2. If you're given a list of the first five numbers, `[1, 1, 2, 3, 5]`, then you should return 8.\n",
    "\n",
    "Use the variable `n` to store the next number in the sequence."
   ]
  },
  {
   "cell_type": "code",
   "execution_count": null,
   "metadata": {
    "collapsed": true,
    "nbgrader": {
     "grade": false,
     "grade_id": "q3b",
     "locked": false,
     "solution": true
    }
   },
   "outputs": [],
   "source": [
    "def next_fib(prev_fibs):\n",
    "    n = -1\n",
    "    \n",
    "    ### BEGIN SOLUTION\n",
    "    \n",
    "    ### END SOLUTION\n",
    "    \n",
    "    return n"
   ]
  },
  {
   "cell_type": "code",
   "execution_count": null,
   "metadata": {
    "collapsed": true,
    "nbgrader": {
     "grade": true,
     "grade_id": "q3b_test1",
     "locked": true,
     "points": 5,
     "solution": false
    }
   },
   "outputs": [],
   "source": [
    "i1 = [1, 1]\n",
    "a1 = 2\n",
    "assert a1 == next_fib(i1)"
   ]
  },
  {
   "cell_type": "code",
   "execution_count": null,
   "metadata": {
    "collapsed": true,
    "nbgrader": {
     "grade": true,
     "grade_id": "q3b_test2",
     "locked": true,
     "points": 5,
     "solution": false
    }
   },
   "outputs": [],
   "source": [
    "i2 = [1, 1, 2, 3, 5, 8, 13, 21, 34]\n",
    "a2 = 55\n",
    "assert a2 == next_fib(i2)"
   ]
  }
 ],
 "metadata": {
  "celltoolbar": "Create Assignment",
  "kernelspec": {
   "display_name": "Python 3",
   "language": "python",
   "name": "python3"
  },
  "language_info": {
   "codemirror_mode": {
    "name": "ipython",
    "version": 3
   },
   "file_extension": ".py",
   "mimetype": "text/x-python",
   "name": "python",
   "nbconvert_exporter": "python",
   "pygments_lexer": "ipython3",
   "version": "3.5.2"
  }
 },
 "nbformat": 4,
 "nbformat_minor": 0
}
