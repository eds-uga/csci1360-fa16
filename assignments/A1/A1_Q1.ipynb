{
 "cells": [
  {
   "cell_type": "markdown",
   "metadata": {
    "nbgrader": {
     "grade": false,
     "grade_id": "q1_prompt",
     "locked": true,
     "solution": false
    }
   },
   "source": [
    "# Q1\n",
    "\n",
    "In this question, you'll write some coding that performs string manipulation. This is pretty much your warm-up."
   ]
  },
  {
   "cell_type": "markdown",
   "metadata": {
    "collapsed": true,
    "nbgrader": {
     "grade": false,
     "grade_id": "q1a_prompt",
     "locked": true,
     "points": 10,
     "solution": false
    }
   },
   "source": [
    "### A\n",
    "\n",
    "What's your favorite *positive* number? Reassign the `favorite_number` variable with something that's at least larger than 0."
   ]
  },
  {
   "cell_type": "code",
   "execution_count": null,
   "metadata": {
    "collapsed": true,
    "nbgrader": {
     "grade": false,
     "grade_id": "q1a",
     "locked": false,
     "solution": true
    }
   },
   "outputs": [],
   "source": [
    "favorite_number = -1\n",
    "\n",
    "### BEGIN SOLUTION\n",
    "\n",
    "### END SOLUTION\n",
    "\n",
    "print(\"My favorite number is: \" + favorite_number)"
   ]
  },
  {
   "cell_type": "code",
   "execution_count": null,
   "metadata": {
    "collapsed": true,
    "nbgrader": {
     "grade": true,
     "grade_id": "q1a_test",
     "locked": true,
     "points": 3,
     "solution": false
    }
   },
   "outputs": [],
   "source": [
    "assert favorite_number >= 0"
   ]
  },
  {
   "cell_type": "markdown",
   "metadata": {
    "nbgrader": {
     "grade": false,
     "grade_id": "q1b_prompt",
     "locked": true,
     "solution": false
    }
   },
   "source": [
    "### B\n",
    "\n",
    "Print out a famous quote! In the code below, fill out the string variables to contain the name of a famous person, and a quote that they said."
   ]
  },
  {
   "cell_type": "code",
   "execution_count": null,
   "metadata": {
    "collapsed": true,
    "nbgrader": {
     "grade": false,
     "grade_id": "q1b",
     "locked": false,
     "solution": true
    }
   },
   "outputs": [],
   "source": [
    "famous_person = \"\"\n",
    "their_quote = \"\"\n",
    "\n",
    "### BEGIN SOLUTION\n",
    "\n",
    "### END SOLUTION\n",
    "\n",
    "print(\"{}, at age {}, said:\\n\\n\\\"{}\\\"\".format(famous_person, favorite_number, their_quote))"
   ]
  },
  {
   "cell_type": "code",
   "execution_count": null,
   "metadata": {
    "collapsed": true,
    "nbgrader": {
     "grade": true,
     "grade_id": "q1b_test",
     "locked": true,
     "points": 3,
     "solution": false
    }
   },
   "outputs": [],
   "source": [
    "assert len(famous_person) > 0\n",
    "assert len(their_quote) > 0"
   ]
  },
  {
   "cell_type": "markdown",
   "metadata": {
    "nbgrader": {
     "grade": false,
     "grade_id": "q1c_prompt",
     "locked": true,
     "solution": false
    }
   },
   "source": [
    "### C\n",
    "\n",
    "You're working late on a homework assignment and have copied a few lines from a Wikipedia article. In your tired stupor, your copy/paste skills leave something to be desired. Rather than try to force your mouse hand to stop shaking, you figure it's easier to write a small Python program to strip out errant whitespace from your copying-pasting.\n",
    "\n",
    "Reassign each of the three variables (keeping their names the same, and their respective content otherwise unaltered) so that the trailing whitespace on both ends is removed."
   ]
  },
  {
   "cell_type": "code",
   "execution_count": null,
   "metadata": {
    "collapsed": true,
    "nbgrader": {
     "grade": false,
     "grade_id": "q1c",
     "locked": false,
     "solution": true
    }
   },
   "outputs": [],
   "source": [
    "line1 = 'Python supports multiple programming paradigms, including object-oriented, imperative\\n'\n",
    "line2 = '  and functional programming or procedural styles. It features a dynamic type\\n'\n",
    "line3 = ' system and automatic memory management and has a large and comprehensive standard library.\\n '\n",
    "\n",
    "### BEGIN SOLUTION\n",
    "\n",
    "### END SOLUTION"
   ]
  },
  {
   "cell_type": "code",
   "execution_count": null,
   "metadata": {
    "collapsed": true,
    "nbgrader": {
     "grade": true,
     "grade_id": "q1c_test",
     "locked": true,
     "points": 3,
     "solution": false
    }
   },
   "outputs": [],
   "source": [
    "assert line1[-1] != '\\n'\n",
    "assert line2[0] != line2[1] != ' '\n",
    "assert line2[-1] != '\\n'\n",
    "assert line3[0] != ' '\n",
    "assert line3[-1] != '\\n'"
   ]
  },
  {
   "cell_type": "markdown",
   "metadata": {
    "nbgrader": {
     "grade": false,
     "grade_id": "q1d_prompt",
     "locked": true,
     "solution": false
    }
   },
   "source": [
    "### D\n",
    "\n",
    "You discover that there are numbers in the text you'd like to be able to parse out for some math down the road. After stripping out the trailing whitespace, convert the numbers to their proper numerical form. Assign them to the variables `num1`, `num2`, and `num3` respectively."
   ]
  },
  {
   "cell_type": "code",
   "execution_count": null,
   "metadata": {
    "collapsed": true,
    "nbgrader": {
     "grade": false,
     "grade_id": "q1d",
     "locked": false,
     "solution": true
    }
   },
   "outputs": [],
   "source": [
    "line1 = ' 495.59863 \\n'\n",
    "line2 = '\\t134  '\n",
    "line3 = '\\n\\t -5.4 \\t'\n",
    "\n",
    "num1 = -1\n",
    "num2 = -1\n",
    "num3 = -1\n",
    "\n",
    "### BEGIN SOLUTION\n",
    "\n",
    "### END SOLUTION"
   ]
  },
  {
   "cell_type": "code",
   "execution_count": null,
   "metadata": {
    "collapsed": true,
    "nbgrader": {
     "grade": true,
     "grade_id": "q1d_test",
     "locked": true,
     "points": 3,
     "solution": false
    }
   },
   "outputs": [],
   "source": [
    "assert num1 > 495 and num1 < 496\n",
    "assert num2 == 134\n",
    "assert num3 > -6 and num3 < -5"
   ]
  },
  {
   "cell_type": "markdown",
   "metadata": {
    "nbgrader": {
     "grade": false,
     "grade_id": "q1e_prompt",
     "locked": true,
     "solution": false
    }
   },
   "source": [
    "### E\n",
    "\n",
    "Take the number below, find its square root, convert it to a string, and then print it out. You must use the correct arithmetic operator for the square root, as well as the correct casting function for the string conversion. Put the result in the variable `str_version` and print that out."
   ]
  },
  {
   "cell_type": "code",
   "execution_count": null,
   "metadata": {
    "collapsed": true,
    "nbgrader": {
     "grade": false,
     "grade_id": "q1e",
     "locked": false,
     "solution": true
    }
   },
   "outputs": [],
   "source": [
    "number = 3.14159265359\n",
    "\n",
    "str_version = \"\"\n",
    "\n",
    "### BEGIN SOLUTION\n",
    "\n",
    "### END SOLUTION"
   ]
  },
  {
   "cell_type": "code",
   "execution_count": null,
   "metadata": {
    "collapsed": true,
    "nbgrader": {
     "grade": true,
     "grade_id": "q1e_test",
     "locked": true,
     "points": 3,
     "solution": false
    }
   },
   "outputs": [],
   "source": [
    "assert str_version == \"1.7724538509055743\""
   ]
  }
 ],
 "metadata": {
  "anaconda-cloud": {},
  "celltoolbar": "Create Assignment",
  "kernelspec": {
   "display_name": "Python [default]",
   "language": "python",
   "name": "python3"
  },
  "language_info": {
   "codemirror_mode": {
    "name": "ipython",
    "version": 3
   },
   "file_extension": ".py",
   "mimetype": "text/x-python",
   "name": "python",
   "nbconvert_exporter": "python",
   "pygments_lexer": "ipython3",
   "version": "3.5.2"
  }
 },
 "nbformat": 4,
 "nbformat_minor": 0
}
