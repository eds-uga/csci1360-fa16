{
 "cells": [
  {
   "cell_type": "markdown",
   "metadata": {
    "collapsed": true,
    "nbgrader": {
     "grade": false,
     "grade_id": "q4_prompt",
     "locked": true,
     "solution": false
    }
   },
   "source": [
    "# Q4\n",
    "\n",
    "Now we'll start working with some basic Python data structures."
   ]
  },
  {
   "cell_type": "markdown",
   "metadata": {
    "nbgrader": {
     "grade": false,
     "grade_id": "q4a_prompt",
     "locked": true,
     "solution": false
    }
   },
   "source": [
    "### A\n",
    "\n",
    "In this question, you'll implement a cumulative product method. Given a list, you'll compute a list that's the same length, but which contains the cumulative product of the current number with all the previous numbers.\n",
    "\n",
    "Assume the initial product is 1, and I provide a list with the numbers 2, 1, 4, and 3. I multiply my initial product (1) by 2, and put that new product into another list. Then I repeat: multiply my new product by the next element of the list (1), and store that new-new product (2) in the second list. Repeat again: multiply my new-new product (2) with the next number in the list (4), and store that new-new-new product (8) in the second list.\n",
    "\n",
    "Example Input: [2, 1, 4, 3]\n",
    "\n",
    "Example Output: [2, 2, 8, 24]"
   ]
  },
  {
   "cell_type": "code",
   "execution_count": null,
   "metadata": {
    "collapsed": true,
    "nbgrader": {
     "grade": false,
     "grade_id": "q4a",
     "locked": false,
     "solution": true
    }
   },
   "outputs": [],
   "source": [
    "def cumulative_product(start_list):\n",
    "    out_list = []\n",
    "    \n",
    "    ### BEGIN SOLUTION\n",
    "    \n",
    "    ### END SOLUTION\n",
    "    \n",
    "    return out_list"
   ]
  },
  {
   "cell_type": "code",
   "execution_count": null,
   "metadata": {
    "collapsed": true,
    "nbgrader": {
     "grade": true,
     "grade_id": "q4a_test",
     "locked": true,
     "points": 5,
     "solution": false
    }
   },
   "outputs": [],
   "source": [
    "inlist = [89, 22,  3, 24,  8, 59, 43, 97, 30, 88]\n",
    "outlist = [89, 1958, 5874, 140976, 1127808, 66540672, 2861248896, 277541142912, 8326234287360, 732708617287680]\n",
    "assert set(cumulative_product(inlist)) == set(outlist)\n",
    "\n",
    "inlist = [56, 22, 81, 65, 40, 44, 95, 48, 45, 26]\n",
    "outlist = [56, 1232, 99792, 6486480, 259459200, 11416204800, 1084539456000, 52057893888000, 2342605224960000, 60907735848960000]\n",
    "assert set(cumulative_product(inlist)) == set(outlist)"
   ]
  },
  {
   "cell_type": "markdown",
   "metadata": {
    "nbgrader": {
     "grade": false,
     "grade_id": "q4b_prompt",
     "locked": true,
     "solution": false
    }
   },
   "source": [
    "### B\n",
    "\n",
    "This time, you'll implement a method for computing the average value of a list of numbers. Remember how to compute an average: add up all the values, then divide that sum by the number of values you initially added together.\n",
    "\n",
    "Example Input: [2, 1, 4, 3]\n",
    "\n",
    "Example Output: 2.5"
   ]
  },
  {
   "cell_type": "code",
   "execution_count": null,
   "metadata": {
    "collapsed": true,
    "nbgrader": {
     "grade": false,
     "grade_id": "q4b",
     "locked": false,
     "solution": true
    }
   },
   "outputs": [],
   "source": [
    "def average(numbers):\n",
    "    avg_val = 0.0\n",
    "    \n",
    "    ### BEGIN SOLUTION\n",
    "    \n",
    "    ### END SOLUTION\n",
    "    \n",
    "    return avg_val"
   ]
  },
  {
   "cell_type": "code",
   "execution_count": null,
   "metadata": {
    "collapsed": true,
    "nbgrader": {
     "grade": true,
     "grade_id": "q4b_test",
     "locked": true,
     "points": 5,
     "solution": false
    }
   },
   "outputs": [],
   "source": [
    "import numpy as np\n",
    "\n",
    "inlist = np.random.randint(10, 100, 10).tolist()\n",
    "np.testing.assert_allclose(average(inlist), np.mean(inlist))\n",
    "\n",
    "inlist = np.random.randint(10, 1000, 10).tolist()\n",
    "np.testing.assert_allclose(average(inlist), np.mean(inlist))"
   ]
  },
  {
   "cell_type": "markdown",
   "metadata": {
    "nbgrader": {
     "grade": false,
     "grade_id": "q4c_prompt",
     "locked": true,
     "solution": false
    }
   },
   "source": [
    "### C\n",
    "\n",
    "In this question, you'll write a method that takes a list of numbers [0-9] and returns a corresponding list with the \"ordinal\" versions. That is, if you see a 1 in the list, you'll create a string \"1st\". If you see a 3, you'll create a string \"3rd\", and so on.\n",
    "\n",
    "Example Input: [2, 1, 4, 3, 4]\n",
    "\n",
    "Example Output: [\"2nd\", \"1st\", \"4th\", \"3rd\", \"4th\"]"
   ]
  },
  {
   "cell_type": "code",
   "execution_count": null,
   "metadata": {
    "collapsed": true,
    "nbgrader": {
     "grade": false,
     "grade_id": "q4c",
     "locked": false,
     "solution": true
    }
   },
   "outputs": [],
   "source": [
    "def return_ordinals(numbers):\n",
    "    out_list = []\n",
    "    \n",
    "    ### BEGIN SOLUTION\n",
    "    \n",
    "    ### END SOLUTION\n",
    "    \n",
    "    return out_list"
   ]
  },
  {
   "cell_type": "code",
   "execution_count": null,
   "metadata": {
    "collapsed": true,
    "nbgrader": {
     "grade": true,
     "grade_id": "q4c_test",
     "locked": true,
     "points": 5,
     "solution": false
    }
   },
   "outputs": [],
   "source": [
    "inlist = [5, 6, 1, 9, 5, 5, 3, 3, 9, 4]\n",
    "outlist = [\"5th\", \"6th\", \"1st\", \"9th\", \"5th\", \"5th\", \"3rd\", \"3rd\", \"9th\", \"4th\"]\n",
    "for y_true, y_pred in zip(outlist, return_ordinals(inlist)):\n",
    "    assert y_true == y_pred.lower()\n",
    "\n",
    "inlist = [7, 5, 6, 6, 3, 5, 1, 0, 5, 2]\n",
    "outlist = [\"7th\", \"5th\", \"6th\", \"6th\", \"3rd\", \"5th\", \"1st\", \"0th\", \"5th\", \"2nd\"]\n",
    "for y_true, y_pred in zip(outlist, return_ordinals(inlist)):\n",
    "    assert y_true == y_pred.lower()"
   ]
  }
 ],
 "metadata": {
  "celltoolbar": "Create Assignment",
  "kernelspec": {
   "display_name": "Python 3",
   "language": "python",
   "name": "python3"
  },
  "language_info": {
   "codemirror_mode": {
    "name": "ipython",
    "version": 3
   },
   "file_extension": ".py",
   "mimetype": "text/x-python",
   "name": "python",
   "nbconvert_exporter": "python",
   "pygments_lexer": "ipython3",
   "version": "3.5.2"
  }
 },
 "nbformat": 4,
 "nbformat_minor": 0
}
