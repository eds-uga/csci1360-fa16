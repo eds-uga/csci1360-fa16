{
 "cells": [
  {
   "cell_type": "markdown",
   "metadata": {
    "nbgrader": {
     "grade": false,
     "grade_id": "q7_prompt",
     "locked": true,
     "solution": false
    }
   },
   "source": [
    "# Q7\n",
    "\n",
    "These are some free-answer questions. Yep, you have to write! Edit the cells to include your answer below the prompts.\n",
    "\n",
    "Remember: every time you write a sentence fragment, the Athens GA summer gets 1 day longer!"
   ]
  },
  {
   "cell_type": "markdown",
   "metadata": {
    "nbgrader": {
     "grade": false,
     "grade_id": "q7a_prompt",
     "locked": true,
     "points": 10,
     "solution": false
    }
   },
   "source": [
    "### A\n",
    "\n",
    "What are the differences between *static* typing and *dynamic* typing? Are there situations where you would prefer one over the other? Which is Python?"
   ]
  },
  {
   "cell_type": "markdown",
   "metadata": {
    "nbgrader": {
     "grade": true,
     "grade_id": "q7a",
     "locked": false,
     "points": 2,
     "solution": true
    }
   },
   "source": []
  },
  {
   "cell_type": "markdown",
   "metadata": {
    "nbgrader": {
     "grade": false,
     "grade_id": "q7b_prompt",
     "locked": true,
     "points": 10,
     "solution": false
    }
   },
   "source": [
    "### B\n",
    "\n",
    "Matlab and R are two popular data science languages, but Python is rapidly gaining. Give one reason for each language as to why you think Python is making such gains in the data science community. Justify your reasons."
   ]
  },
  {
   "cell_type": "markdown",
   "metadata": {
    "nbgrader": {
     "grade": true,
     "grade_id": "q7b",
     "locked": false,
     "points": 2,
     "solution": true
    }
   },
   "source": []
  },
  {
   "cell_type": "markdown",
   "metadata": {
    "nbgrader": {
     "grade": false,
     "grade_id": "q7c_prompt",
     "locked": true,
     "points": 10,
     "solution": false
    }
   },
   "source": [
    "### C\n",
    "\n",
    "What are round-off errors? Why are they significant? Briefly describe an example where a round-off error would result in unexpected behavior."
   ]
  },
  {
   "cell_type": "markdown",
   "metadata": {
    "nbgrader": {
     "grade": true,
     "grade_id": "q7c",
     "locked": false,
     "points": 2,
     "solution": true
    }
   },
   "source": []
  },
  {
   "cell_type": "markdown",
   "metadata": {
    "nbgrader": {
     "grade": false,
     "grade_id": "q7d_prompt",
     "locked": true,
     "solution": false
    }
   },
   "source": [
    "### D\n",
    "\n",
    "Describe the different looping mechanisms available in Python, and when you would use one over another."
   ]
  },
  {
   "cell_type": "markdown",
   "metadata": {
    "nbgrader": {
     "grade": true,
     "grade_id": "q7d",
     "locked": false,
     "points": 2,
     "solution": true
    }
   },
   "source": []
  },
  {
   "cell_type": "markdown",
   "metadata": {
    "nbgrader": {
     "grade": false,
     "grade_id": "q7e_prompt",
     "locked": true,
     "points": 10,
     "solution": false
    }
   },
   "source": [
    "### E\n",
    "\n",
    "Why are you interested in data science?"
   ]
  },
  {
   "cell_type": "markdown",
   "metadata": {
    "nbgrader": {
     "grade": true,
     "grade_id": "q7e",
     "locked": false,
     "points": 2,
     "solution": true
    }
   },
   "source": []
  }
 ],
 "metadata": {
  "celltoolbar": "Create Assignment",
  "kernelspec": {
   "display_name": "Python 3",
   "language": "python",
   "name": "python3"
  },
  "language_info": {
   "codemirror_mode": {
    "name": "ipython",
    "version": 3
   },
   "file_extension": ".py",
   "mimetype": "text/x-python",
   "name": "python",
   "nbconvert_exporter": "python",
   "pygments_lexer": "ipython3",
   "version": "3.5.2"
  }
 },
 "nbformat": 4,
 "nbformat_minor": 0
}
