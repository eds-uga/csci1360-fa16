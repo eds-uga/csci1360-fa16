{
 "cells": [
  {
   "cell_type": "markdown",
   "metadata": {
    "collapsed": true,
    "nbgrader": {
     "grade": false,
     "grade_id": "a1_header",
     "locked": true,
     "solution": false
    }
   },
   "source": [
    "# Assignment 1\n",
    "CSCI 1360: Foundations for Informatics and Analytics\n",
    "\n",
    "## Important Dates\n",
    "\n",
    " - Released: 2016-08-25 at 12:00:00am [EDT](http://www.timeanddate.com/worldclock/usa/athens)\n",
    " - Deadline: 2016-09-01 at 11:59:59pm [EDT](http://www.timeanddate.com/worldclock/usa/athens)\n",
    "\n",
    "## Grading Breakdown\n",
    "\n",
    " - Q1: 15pts\n",
    " - Q2: 15pts\n",
    " - Q3: 15pts\n",
    " - Q4: 15pts\n",
    " - Q5: 15pts\n",
    " - Q6: 15pts\n",
    " - Q7: 10pts\n",
    " \n",
    "Total: 100pts\n",
    " \n",
    "## Overview\n",
    "\n",
    "This homework assignment is meant to reinforce the basics of Python that we've been going over in the last couple weeks: data types, data structures, and looping.\n",
    "\n",
    "When you're coding and you see a line that starts with **`raise ...`**, you can either comment it out (use the pound sign \"`#`\") or delete it entirely. That is how the autograder identifies the parts you have not yet filled in."
   ]
  }
 ],
 "metadata": {
  "celltoolbar": "Create Assignment",
  "kernelspec": {
   "display_name": "Python 3",
   "language": "python",
   "name": "python3"
  },
  "language_info": {
   "codemirror_mode": {
    "name": "ipython",
    "version": 3
   },
   "file_extension": ".py",
   "mimetype": "text/x-python",
   "name": "python",
   "nbconvert_exporter": "python",
   "pygments_lexer": "ipython3",
   "version": "3.5.2"
  }
 },
 "nbformat": 4,
 "nbformat_minor": 0
}
