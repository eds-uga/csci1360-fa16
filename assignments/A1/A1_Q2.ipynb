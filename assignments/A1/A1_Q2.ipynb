{
 "cells": [
  {
   "cell_type": "markdown",
   "metadata": {
    "nbgrader": {
     "grade": false,
     "grade_id": "q2_prompt",
     "locked": true,
     "solution": false
    }
   },
   "source": [
    "## Q2\n",
    "\n",
    "In this question, we'll dive a bit deeper into some arithmetic operations."
   ]
  },
  {
   "cell_type": "markdown",
   "metadata": {
    "nbgrader": {
     "grade": false,
     "grade_id": "q2a_prompt",
     "locked": true,
     "solution": false
    }
   },
   "source": [
    "### A\n",
    "\n",
    "Five numbers are given below. Keeping them in that same order, compute a single result with Python addition, multiplication, subtraction, and division, respectively.\n",
    "\n",
    "Put another way--add the first and second numbers, multiply the second and third numbers, subtract the third and fourth numbers, and divide the fourth and fifth numbers. Don't use any parentheses; let order of operations take care of things. Do this in a single statement, and store the result in the `result` variable below."
   ]
  },
  {
   "cell_type": "code",
   "execution_count": null,
   "metadata": {
    "collapsed": true,
    "nbgrader": {
     "grade": false,
     "grade_id": "q2a",
     "locked": false,
     "points": 10,
     "solution": true
    }
   },
   "outputs": [],
   "source": [
    "n1 = 0.4589\n",
    "n2 = 13\n",
    "n3 = -59\n",
    "n4 = 8.43333333\n",
    "n5 = 2.1\n",
    "\n",
    "result = -1\n",
    "\n",
    "### BEGIN SOLUTION\n",
    "\n",
    "### END SOLUTION"
   ]
  },
  {
   "cell_type": "code",
   "execution_count": null,
   "metadata": {
    "collapsed": true,
    "nbgrader": {
     "grade": true,
     "grade_id": "q2a_test",
     "locked": true,
     "points": 3,
     "solution": false
    }
   },
   "outputs": [],
   "source": [
    "import numpy as np\n",
    "np.testing.assert_allclose(result, -770.5569730142857)"
   ]
  },
  {
   "cell_type": "markdown",
   "metadata": {
    "nbgrader": {
     "grade": false,
     "grade_id": "q2b_prompt",
     "locked": true,
     "solution": false
    }
   },
   "source": [
    "### B\n",
    "\n",
    "Using the same five numbers as before, this time use parentheses around your arithmetic operation to enforce that the *addition* and *subtraction* operations should happen before the others. Again, store your result in the variable `result`."
   ]
  },
  {
   "cell_type": "code",
   "execution_count": null,
   "metadata": {
    "collapsed": true,
    "nbgrader": {
     "grade": false,
     "grade_id": "q2b",
     "locked": false,
     "solution": true
    }
   },
   "outputs": [],
   "source": [
    "n1 = 0.4589\n",
    "n2 = 13\n",
    "n3 = -59\n",
    "n4 = 8.43333333\n",
    "n5 = 2.1\n",
    "\n",
    "result = -1\n",
    "\n",
    "### BEGIN SOLUTION\n",
    "\n",
    "### END SOLUTION"
   ]
  },
  {
   "cell_type": "code",
   "execution_count": null,
   "metadata": {
    "collapsed": true,
    "nbgrader": {
     "grade": true,
     "grade_id": "q2b_test",
     "locked": true,
     "points": 3,
     "solution": false
    }
   },
   "outputs": [],
   "source": [
    "import numpy as np\n",
    "np.testing.assert_allclose(result, -432.1802333119699)"
   ]
  },
  {
   "cell_type": "markdown",
   "metadata": {
    "nbgrader": {
     "grade": false,
     "grade_id": "q2c_prompt",
     "locked": true,
     "solution": false
    }
   },
   "source": [
    "### C\n",
    "\n",
    "Repeat the steps you took in Part B, this time casting each variable to an integer data type before performing any computation. Store your answer in the variable `result`."
   ]
  },
  {
   "cell_type": "code",
   "execution_count": null,
   "metadata": {
    "collapsed": true,
    "nbgrader": {
     "grade": false,
     "grade_id": "q2c",
     "locked": false,
     "solution": true
    }
   },
   "outputs": [],
   "source": [
    "n1 = 0.4589\n",
    "n2 = 13\n",
    "n3 = -59\n",
    "n4 = 8.43333333\n",
    "n5 = 2.1\n",
    "\n",
    "result = -1\n",
    "\n",
    "### BEGIN SOLUTION\n",
    "\n",
    "### END SOLUTION"
   ]
  },
  {
   "cell_type": "code",
   "execution_count": null,
   "metadata": {
    "collapsed": true,
    "nbgrader": {
     "grade": true,
     "grade_id": "q2c_test",
     "locked": true,
     "points": 3,
     "solution": false
    }
   },
   "outputs": [],
   "source": [
    "assert result == -435.5"
   ]
  },
  {
   "cell_type": "markdown",
   "metadata": {
    "collapsed": true,
    "nbgrader": {
     "grade": false,
     "grade_id": "q2d_prompt",
     "locked": true,
     "solution": false
    }
   },
   "source": [
    "### D\n",
    "\n",
    "Two numbers are given below. When you perform the operation `n1 / n2`, what is the quotient? Store this quantity in the variable named `quotient`.\n",
    "\n",
    "What is the remainder? Store this quantity in the variable named `remainder`."
   ]
  },
  {
   "cell_type": "code",
   "execution_count": null,
   "metadata": {
    "collapsed": true,
    "nbgrader": {
     "grade": false,
     "grade_id": "q2d",
     "locked": false,
     "solution": true
    }
   },
   "outputs": [],
   "source": [
    "n1 = 20344983945038.48374839\n",
    "n2 = 984374.783894273\n",
    "\n",
    "quotient = -1\n",
    "remainder = -1\n",
    "\n",
    "### BEGIN SOLUTION\n",
    "\n",
    "### END SOLUTION"
   ]
  },
  {
   "cell_type": "code",
   "execution_count": null,
   "metadata": {
    "collapsed": true,
    "nbgrader": {
     "grade": true,
     "grade_id": "q2d_test",
     "locked": true,
     "points": 3,
     "solution": false
    }
   },
   "outputs": [],
   "source": [
    "import numpy as np\n",
    "np.testing.assert_allclose(quotient, 20667924.735487375)\n",
    "np.testing.assert_allclose(remainder, 723995.2262485754)"
   ]
  },
  {
   "cell_type": "markdown",
   "metadata": {
    "nbgrader": {
     "grade": false,
     "grade_id": "q2e_prompt",
     "locked": true,
     "solution": false
    }
   },
   "source": [
    "### E\n",
    "\n",
    "Is there a mathematical operator that can be used to determine if a number is odd or even? If so, which one? If not, can you think of a way how to test if a number is odd or even?"
   ]
  },
  {
   "cell_type": "markdown",
   "metadata": {
    "collapsed": true,
    "nbgrader": {
     "grade": true,
     "grade_id": "q2e",
     "locked": false,
     "points": 3,
     "solution": true
    }
   },
   "source": []
  }
 ],
 "metadata": {
  "celltoolbar": "Create Assignment",
  "kernelspec": {
   "display_name": "Python 3",
   "language": "python",
   "name": "python3"
  },
  "language_info": {
   "codemirror_mode": {
    "name": "ipython",
    "version": 3
   },
   "file_extension": ".py",
   "mimetype": "text/x-python",
   "name": "python",
   "nbconvert_exporter": "python",
   "pygments_lexer": "ipython3",
   "version": "3.5.2"
  }
 },
 "nbformat": 4,
 "nbformat_minor": 0
}
