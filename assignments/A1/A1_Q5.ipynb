{
 "cells": [
  {
   "cell_type": "markdown",
   "metadata": {
    "collapsed": true,
    "nbgrader": {
     "grade": false,
     "grade_id": "q5_prompt",
     "locked": true,
     "solution": false
    }
   },
   "source": [
    "# Q5\n",
    "\n",
    "In this question, we'll work exclusively with `while` loops."
   ]
  },
  {
   "cell_type": "markdown",
   "metadata": {
    "nbgrader": {
     "grade": false,
     "grade_id": "q5a_prompt",
     "locked": true,
     "solution": false
    }
   },
   "source": [
    "### A\n",
    "\n",
    "In the code below, there's a function named `how_many_loops` that takes one argument. That argument is a number (an integer); specifically, a stopping criterion. The other function, `magic`, returns a random number between 0 and 10 (both inclusive).\n",
    "\n",
    "Your goal is to write a `while` loop that counts how many times it needed to run before the magic function `magic` returned the same number as `stop_val`. Store that count in the `loops` variable and return it."
   ]
  },
  {
   "cell_type": "code",
   "execution_count": null,
   "metadata": {
    "collapsed": true,
    "nbgrader": {
     "grade": false,
     "grade_id": "q5a",
     "locked": false,
     "solution": true
    }
   },
   "outputs": [],
   "source": [
    "import numpy as np\n",
    "\n",
    "def magic():\n",
    "    return np.random.randint(0, 10)\n",
    "\n",
    "def how_many_loops(stop_val):\n",
    "    loops = 0\n",
    "    \n",
    "    ### BEGIN SOLUTION\n",
    "    \n",
    "    ### END SOLUTION\n",
    "    \n",
    "    return loops"
   ]
  },
  {
   "cell_type": "code",
   "execution_count": null,
   "metadata": {
    "collapsed": true,
    "nbgrader": {
     "grade": true,
     "grade_id": "q5a_test",
     "locked": true,
     "points": 5,
     "solution": false
    }
   },
   "outputs": [],
   "source": [
    "np.random.seed(3849)\n",
    "s1 = 5\n",
    "l1 = 6\n",
    "assert l1 == how_many_loops(s1)\n",
    "\n",
    "np.random.seed(895768)\n",
    "s2 = 3\n",
    "l2 = 20\n",
    "assert l2 == how_many_loops(s2)"
   ]
  },
  {
   "cell_type": "markdown",
   "metadata": {
    "nbgrader": {
     "grade": false,
     "grade_id": "q5b_prompt",
     "locked": true,
     "solution": false
    }
   },
   "source": [
    "---\n",
    "### B\n",
    "\n",
    "In this question, you'll loop over a list, looking for the first negative number. When you find a negative number, you'll return the *index* of that element in the list.\n",
    "\n",
    "So if my input list is `[3, -1, 14, -2]`, I would return 1. If my list is `[13, 68, 2, -4, 6]`, I would return 3. Store this value in the variable `index`."
   ]
  },
  {
   "cell_type": "code",
   "execution_count": null,
   "metadata": {
    "collapsed": true,
    "nbgrader": {
     "grade": false,
     "grade_id": "q5b",
     "locked": false,
     "solution": true
    }
   },
   "outputs": [],
   "source": [
    "def first_negative(inlist):\n",
    "    index = 0\n",
    "    \n",
    "    ### BEGIN SOLUTION\n",
    "    \n",
    "    ### END SOLUTION\n",
    "    \n",
    "    return index"
   ]
  },
  {
   "cell_type": "code",
   "execution_count": null,
   "metadata": {
    "collapsed": true,
    "nbgrader": {
     "grade": true,
     "grade_id": "q5b_test",
     "locked": true,
     "points": 5,
     "solution": false
    }
   },
   "outputs": [],
   "source": [
    "import numpy as np\n",
    "\n",
    "np.random.seed(85435)\n",
    "i1 = np.random.randint(-50, 50, 10).tolist()\n",
    "assert 0 == first_negative(i1)\n",
    "\n",
    "np.random.seed(9893743)\n",
    "i2 = np.random.randint(-25, 75, 10000).tolist()\n",
    "assert 4 == first_negative(i2)"
   ]
  },
  {
   "cell_type": "markdown",
   "metadata": {
    "nbgrader": {
     "grade": false,
     "grade_id": "q5c_prompt",
     "locked": true,
     "solution": false
    }
   },
   "source": [
    "---\n",
    "### C\n",
    "\n",
    "Often when you're testing some boolean expression, the expression itself doesn't consist of just one check; it can consist of many conditions you're testing simultaneously. For example, just in Part B above, what would have happened if none of the numbers I passed in were negative? Rather than simply looping until you found a negative number (which would have gone on forever or until the program crashed), you could look for a negative number while also counting how many numbers you've looked at, and \"giving up\" after a certain number of checks to prevent going on forever.\n",
    "\n",
    "You can string multiple boolean conditions together with the keyword **`and`**.\n",
    "\n",
    "`while x < 5 and x > 0:`\n",
    "\n",
    "In doing so, you're telling the loop to continue only as long as **both** conditions are `True`; once even one of them changes to `False`, break the loop.\n",
    "\n",
    "In this problem, you'll fill in the code below for a new version of the Part B code that also maintains a counter to see how many checks it's made. If the number of checks surpass a given limit, the loop ends and the current value of `index` is returned.\n",
    "\n",
    "In summary: you'll do the same thing as before, but check two conditions in your `while` loop: if the number you're looking at is negative, and if you've checked fewer than `limit` numbers, then return that index as before. But if you exceed the check limit, then just return whatever the value of `index` is when the loop ends."
   ]
  },
  {
   "cell_type": "code",
   "execution_count": null,
   "metadata": {
    "collapsed": true,
    "nbgrader": {
     "grade": false,
     "grade_id": "q5c",
     "locked": false,
     "solution": true
    }
   },
   "outputs": [],
   "source": [
    "def first_negative_limit(inlist, limit):\n",
    "    index = 0\n",
    "    \n",
    "    ### BEGIN SOLUTION\n",
    "    \n",
    "    ### END SOLUTION\n",
    "    \n",
    "    return index"
   ]
  },
  {
   "cell_type": "code",
   "execution_count": null,
   "metadata": {
    "collapsed": true,
    "nbgrader": {
     "grade": true,
     "grade_id": "q5c_test",
     "locked": true,
     "points": 5,
     "solution": false
    }
   },
   "outputs": [],
   "source": [
    "import numpy as np\n",
    "\n",
    "np.random.seed(85435)\n",
    "i1 = np.random.randint(-50, 50, 10).tolist()\n",
    "assert 0 == first_negative_limit(i1, 10)\n",
    "\n",
    "np.random.seed(9893743)\n",
    "i2 = np.random.randint(-25, 75, 10000).tolist()\n",
    "assert 3 == first_negative_limit(i2, 3)"
   ]
  }
 ],
 "metadata": {
  "anaconda-cloud": {},
  "celltoolbar": "Create Assignment",
  "kernelspec": {
   "display_name": "Python [default]",
   "language": "python",
   "name": "python3"
  },
  "language_info": {
   "codemirror_mode": {
    "name": "ipython",
    "version": 3
   },
   "file_extension": ".py",
   "mimetype": "text/x-python",
   "name": "python",
   "nbconvert_exporter": "python",
   "pygments_lexer": "ipython3",
   "version": "3.5.2"
  }
 },
 "nbformat": 4,
 "nbformat_minor": 0
}
