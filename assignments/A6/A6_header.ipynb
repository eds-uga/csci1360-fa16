{
 "cells": [
  {
   "cell_type": "markdown",
   "metadata": {
    "collapsed": true,
    "nbgrader": {
     "grade": false,
     "grade_id": "a6_title",
     "locked": true,
     "solution": false
    }
   },
   "source": [
    "# Assignment 6\n",
    "CSCI 1360: Foundations for Informatics and Analytics"
   ]
  },
  {
   "cell_type": "markdown",
   "metadata": {
    "nbgrader": {
     "grade": false,
     "grade_id": "a6_dates",
     "locked": true,
     "solution": false
    }
   },
   "source": [
    "## Important Dates\n",
    "\n",
    " - Released: 2016-09-29 at 12am [EDT](http://www.timeanddate.com/worldclock/usa/athens)\n",
    " - Deadline: 2016-10-06 at 11:59:59pm [EDT](http://www.timeanddate.com/worldclock/usa/athens)"
   ]
  },
  {
   "cell_type": "markdown",
   "metadata": {
    "nbgrader": {
     "grade": false,
     "grade_id": "a6_grades",
     "locked": true,
     "solution": false
    }
   },
   "source": [
    "## Grading Breakdown\n",
    "\n",
    " - Q1: 45pts\n",
    " - Q2: 55pts\n",
    " \n",
    "Total: 100pts"
   ]
  },
  {
   "cell_type": "markdown",
   "metadata": {
    "nbgrader": {
     "grade": false,
     "grade_id": "a6_overview",
     "locked": true,
     "solution": false
    }
   },
   "source": [
    "## Overview\n",
    "\n",
    "This assignment will focus on NumPy arrays: slicing, dicing, broadcasting, and vectorized programming. You'll also work with Python file I/O capabilities.\n",
    "\n",
    "If you have any questions or difficulties with the assignment, don't hesitate to post them in `#questions`!"
   ]
  }
 ],
 "metadata": {
  "anaconda-cloud": {},
  "celltoolbar": "Create Assignment",
  "kernelspec": {
   "display_name": "Python [default]",
   "language": "python",
   "name": "python3"
  },
  "language_info": {
   "codemirror_mode": {
    "name": "ipython",
    "version": 3
   },
   "file_extension": ".py",
   "mimetype": "text/x-python",
   "name": "python",
   "nbconvert_exporter": "python",
   "pygments_lexer": "ipython3",
   "version": "3.5.2"
  }
 },
 "nbformat": 4,
 "nbformat_minor": 0
}
