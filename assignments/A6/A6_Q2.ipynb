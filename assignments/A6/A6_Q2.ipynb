{
 "cells": [
  {
   "cell_type": "markdown",
   "metadata": {
    "nbgrader": {
     "grade": false,
     "grade_id": "q2_prompt",
     "locked": true,
     "solution": false
    }
   },
   "source": [
    "# Q2\n",
    "\n",
    "This question will focus entirely on NumPy arrays: vectorized programming, slicing, and broadcasting."
   ]
  },
  {
   "cell_type": "markdown",
   "metadata": {
    "nbgrader": {
     "grade": false,
     "grade_id": "q2a_prompt",
     "locked": true,
     "solution": false
    }
   },
   "source": [
    "### A\n",
    "\n",
    "Write a function, `dot`, which takes two NumPy arrays and returns their dot product as a float.\n",
    "\n",
    "Recall how a [dot product](https://en.wikipedia.org/wiki/Dot_product) works: corresponding elements of two arrays are multiplied together, then all these products are summed.\n",
    "\n",
    "For example: if I have two NumPy arrays `[1, 2, 3]` and `[4, 5, 6]`, their dot product would be `(1*4) + (2*5) + (3*6)`, or `4 + 10 + 18`, or 32.\n",
    "\n",
    "You can use NumPy arrays, but no other NumPy functions."
   ]
  },
  {
   "cell_type": "code",
   "execution_count": null,
   "metadata": {
    "collapsed": true,
    "nbgrader": {
     "grade": false,
     "grade_id": "q2a",
     "locked": false,
     "solution": true
    }
   },
   "outputs": [],
   "source": []
  },
  {
   "cell_type": "code",
   "execution_count": null,
   "metadata": {
    "collapsed": true,
    "nbgrader": {
     "grade": true,
     "grade_id": "q2a_test1",
     "locked": true,
     "points": 5,
     "solution": false
    }
   },
   "outputs": [],
   "source": [
    "import numpy as np\n",
    "np.random.seed(57442)\n",
    "\n",
    "x1 = np.random.random(10)\n",
    "x2 = np.random.random(10)\n",
    "np.testing.assert_allclose(x1.dot(x2), dot(x1, x2))"
   ]
  },
  {
   "cell_type": "code",
   "execution_count": null,
   "metadata": {
    "collapsed": true,
    "nbgrader": {
     "grade": true,
     "grade_id": "q2a_test2",
     "locked": true,
     "points": 5,
     "solution": false
    }
   },
   "outputs": [],
   "source": [
    "import numpy as np\n",
    "np.random.seed(495835)\n",
    "\n",
    "x1 = np.random.random(100)\n",
    "x2 = np.random.random(100)\n",
    "np.testing.assert_allclose(x1.dot(x2), dot(x1, x2))"
   ]
  },
  {
   "cell_type": "markdown",
   "metadata": {
    "nbgrader": {
     "grade": false,
     "grade_id": "q2b_prompt",
     "locked": true,
     "solution": false
    }
   },
   "source": [
    "### B\n",
    "\n",
    "Write a function, `subarray`, which takes two arguments:\n",
    "\n",
    " - a NumPy array of data\n",
    " - a NumPy array of indices\n",
    " \n",
    "The function should return a NumPy array that corresponds to the elements of the input array of data selected by the indices array.\n",
    "\n",
    "For example, `subarray([1, 2, 3], [2])` should return a NumPy array of `[3]`."
   ]
  },
  {
   "cell_type": "code",
   "execution_count": null,
   "metadata": {
    "collapsed": true,
    "nbgrader": {
     "grade": false,
     "grade_id": "q2b",
     "locked": false,
     "solution": true
    }
   },
   "outputs": [],
   "source": []
  },
  {
   "cell_type": "code",
   "execution_count": null,
   "metadata": {
    "collapsed": true,
    "nbgrader": {
     "grade": true,
     "grade_id": "q2b_test",
     "locked": true,
     "points": 5,
     "solution": false
    }
   },
   "outputs": [],
   "source": [
    "import numpy as np\n",
    "np.random.seed(5381)\n",
    "\n",
    "x1 = np.random.random(43)\n",
    "i1 = np.random.randint(0, 43, 10)\n",
    "a1 = np.array([ 0.24317871,  0.16900041,  0.20687451,  0.38726974,  0.49798077,\n",
    "        0.32797843,  0.18801287,  0.29021025,  0.65418547,  0.78651195])\n",
    "np.testing.assert_allclose(a1, subarray(x1, i1), rtol = 1e-5)\n",
    "\n",
    "x2 = np.random.random(74)\n",
    "i2 = np.random.randint(0, 74, 5)\n",
    "a2 = np.array([ 0.96372034,  0.84256813,  0.08188566,  0.71852542,  0.92384611])\n",
    "np.testing.assert_allclose(a2, subarray(x2, i2), rtol = 1e-5)"
   ]
  },
  {
   "cell_type": "markdown",
   "metadata": {
    "nbgrader": {
     "grade": false,
     "grade_id": "q2c_prompt",
     "locked": true,
     "solution": false
    }
   },
   "source": [
    "### C\n",
    "\n",
    "Write a function, `length`, which computes the lengths of a 1-dimensional NumPy array.\n",
    "\n",
    "Recall that the length $l$ of a vector $\\vec{x}$ is defined as the square root of the sum of all the elements in the vector squared:\n",
    "\n",
    "$$\n",
    "l = \\sqrt{x_1^2 + x_2^2 + ... + x_n^2}\n",
    "$$\n",
    "\n",
    "Here's the rub: you should do this **without any loops**. Use pure vectorized programming to compute the length of an input NumPy array. Return the length (a floating point value) from the function.\n",
    "\n",
    "You *can* use the `np.sum()` function, but no others."
   ]
  },
  {
   "cell_type": "code",
   "execution_count": null,
   "metadata": {
    "collapsed": true,
    "nbgrader": {
     "grade": false,
     "grade_id": "q2c",
     "locked": false,
     "solution": true
    }
   },
   "outputs": [],
   "source": []
  },
  {
   "cell_type": "code",
   "execution_count": null,
   "metadata": {
    "collapsed": true,
    "nbgrader": {
     "grade": true,
     "grade_id": "q2c_test1",
     "locked": true,
     "points": 5,
     "solution": false
    }
   },
   "outputs": [],
   "source": [
    "import numpy as np\n",
    "np.random.seed(84853)\n",
    "\n",
    "x1 = np.random.random(848)\n",
    "a1 = 17.118570444957424\n",
    "np.testing.assert_allclose(a1, length(x1))"
   ]
  },
  {
   "cell_type": "code",
   "execution_count": null,
   "metadata": {
    "collapsed": true,
    "nbgrader": {
     "grade": true,
     "grade_id": "q2c_test2",
     "locked": true,
     "points": 5,
     "solution": false
    }
   },
   "outputs": [],
   "source": [
    "import numpy as np\n",
    "np.random.seed(596862)\n",
    "\n",
    "x1 = np.random.random(43958)\n",
    "a1 = 120.98201554071815\n",
    "np.testing.assert_allclose(a1, length(x1))"
   ]
  },
  {
   "cell_type": "markdown",
   "metadata": {
    "nbgrader": {
     "grade": false,
     "grade_id": "q2d_prompt",
     "locked": true,
     "solution": false
    }
   },
   "source": [
    "### D\n",
    "\n",
    "Write a function `less_than` which takes two parameters:\n",
    "\n",
    " - a NumPy array\n",
    " - a floating-point number, the threshold\n",
    " \n",
    "You should use a boolean mask to return only the values in the NumPy array that are less than the specified `threshold` value (the second parameter). No loops are allowed.\n",
    "\n",
    "For example, `less_than([1, 2, 3], 2.5)` should return a NumPy array of `[1, 2]`."
   ]
  },
  {
   "cell_type": "code",
   "execution_count": null,
   "metadata": {
    "collapsed": true,
    "nbgrader": {
     "grade": false,
     "grade_id": "q2d",
     "locked": false,
     "solution": true
    }
   },
   "outputs": [],
   "source": []
  },
  {
   "cell_type": "code",
   "execution_count": null,
   "metadata": {
    "collapsed": true,
    "nbgrader": {
     "grade": true,
     "grade_id": "q2d_test",
     "locked": true,
     "points": 5,
     "solution": false
    }
   },
   "outputs": [],
   "source": [
    "import numpy as np\n",
    "np.random.seed(85928)\n",
    "\n",
    "x = np.random.random((10, 20, 30))\n",
    "t = 0.001\n",
    "y = np.array([ 0.0005339 ,  0.00085714,  0.00091265,  0.00037283])\n",
    "np.testing.assert_allclose(y, less_than(x, t))"
   ]
  },
  {
   "cell_type": "markdown",
   "metadata": {
    "nbgrader": {
     "grade": false,
     "grade_id": "q2e_prompt",
     "locked": true,
     "solution": false
    }
   },
   "source": [
    "### E\n",
    "\n",
    "Write a function `greater_than` which takes two parameters:\n",
    "\n",
    " - a NumPy array\n",
    " - a floating-point number, the threshold\n",
    " \n",
    "You should use a boolean mask to return only the values in the NumPy array that are greater than the specified `threshold` value (the second parameter). No loops are allowed.\n",
    "\n",
    "For example, `greater_than([1, 2, 3], 2.5)` should return a NumPy array of `[3]`."
   ]
  },
  {
   "cell_type": "code",
   "execution_count": null,
   "metadata": {
    "collapsed": true,
    "nbgrader": {
     "grade": false,
     "grade_id": "q2e",
     "locked": false,
     "solution": true
    }
   },
   "outputs": [],
   "source": []
  },
  {
   "cell_type": "code",
   "execution_count": null,
   "metadata": {
    "collapsed": true,
    "nbgrader": {
     "grade": false,
     "grade_id": "q2e_test",
     "locked": false,
     "solution": true
    }
   },
   "outputs": [],
   "source": [
    "import numpy as np\n",
    "np.random.seed(592582)\n",
    "\n",
    "x = np.random.random((10, 20, 30))\n",
    "t = 0.999\n",
    "y = np.array([ 0.99910167,  0.99982779,  0.99982253,  0.9991043 ])\n",
    "np.testing.assert_allclose(y, greater_than(x, t))"
   ]
  },
  {
   "cell_type": "markdown",
   "metadata": {
    "nbgrader": {
     "grade": false,
     "grade_id": "q2f_prompt",
     "locked": true,
     "solution": false
    }
   },
   "source": [
    "### F\n",
    "\n",
    "Write a function `in_between` which takes three parameters:\n",
    "\n",
    " - a NumPy array\n",
    " - a `lower` threshold, a floating point value\n",
    " - an `upper` threshold, a floating point value\n",
    " \n",
    "You should use a boolean mask to return only the values in the NumPy array that are *in between* the two specified threshold values, `lower` and `upper`. No loops are allowed.\n",
    "\n",
    "For example, `in_between([1, 2, 3], 1, 3)` should return a NumPy array of `[2]`.\n",
    "\n",
    "Hint: you can use your functions from Parts D and E to help!"
   ]
  },
  {
   "cell_type": "code",
   "execution_count": null,
   "metadata": {
    "collapsed": true,
    "nbgrader": {
     "grade": false,
     "grade_id": "q2f",
     "locked": false,
     "solution": true
    }
   },
   "outputs": [],
   "source": []
  },
  {
   "cell_type": "code",
   "execution_count": null,
   "metadata": {
    "collapsed": true,
    "nbgrader": {
     "grade": true,
     "grade_id": "q2f_test1",
     "locked": true,
     "points": 5,
     "solution": false
    }
   },
   "outputs": [],
   "source": [
    "import numpy as np\n",
    "np.random.seed(7472)\n",
    "\n",
    "x = np.random.random((10, 20, 30))\n",
    "lo = 0.499\n",
    "hi = 0.501\n",
    "y = np.array([ 0.50019884,  0.50039172,  0.500711  ,  0.49983418,  0.49942259,\n",
    "        0.4994417 ,  0.49979261,  0.50029046,  0.5008376 ,  0.49985266,\n",
    "        0.50015914,  0.50068227,  0.50060399,  0.49968918,  0.50091042,\n",
    "        0.50063015,  0.50050032])\n",
    "np.testing.assert_allclose(y, in_between(x, lo, hi))"
   ]
  },
  {
   "cell_type": "code",
   "execution_count": null,
   "metadata": {
    "collapsed": true,
    "nbgrader": {
     "grade": true,
     "grade_id": "q2f_test2",
     "locked": true,
     "points": 5,
     "solution": false
    }
   },
   "outputs": [],
   "source": [
    "import numpy as np\n",
    "np.random.seed(14985)\n",
    "\n",
    "x = np.random.random((30, 40, 50))\n",
    "lo = 0.49999\n",
    "hi = 0.50001\n",
    "y = np.array([ 0.50000714,  0.49999045])\n",
    "np.testing.assert_allclose(y, in_between(x, lo, hi))"
   ]
  },
  {
   "cell_type": "markdown",
   "metadata": {
    "nbgrader": {
     "grade": false,
     "grade_id": "q2g_prompt",
     "locked": true,
     "solution": false
    }
   },
   "source": [
    "### G\n",
    "\n",
    "Write a function, `not_in_between`, which takes three parameters:\n",
    "\n",
    " - a NumPy array\n",
    " - a `lower` threshold, a floating point value\n",
    " - an `upper` threshold, a floating point value\n",
    " \n",
    "You should use a boolean mask to return only the values in the NumPy array that are *NOT in between* the two specified threshold values, `lower` and `upper`. No loops are allowed.\n",
    "\n",
    "For example, `in_between([1, 2, 3, 4], 1, 3)` should return a NumPy array of `[4]`.\n",
    "\n",
    "Hint: you can use your functions from Parts D and E to help!"
   ]
  },
  {
   "cell_type": "code",
   "execution_count": null,
   "metadata": {
    "collapsed": true,
    "nbgrader": {
     "grade": false,
     "grade_id": "q2g",
     "locked": false,
     "solution": true
    }
   },
   "outputs": [],
   "source": []
  },
  {
   "cell_type": "code",
   "execution_count": null,
   "metadata": {
    "collapsed": true,
    "nbgrader": {
     "grade": true,
     "grade_id": "q2g_test1",
     "locked": true,
     "points": 5,
     "solution": false
    }
   },
   "outputs": [],
   "source": [
    "import numpy as np\n",
    "np.random.seed(475185)\n",
    "\n",
    "x = np.random.random((10, 20, 30))\n",
    "lo = 0.001\n",
    "hi = 0.999\n",
    "y = np.array([  9.52511605e-04,   8.62993716e-04,   3.70243252e-04,\n",
    "         9.99945849e-01,   7.21751759e-04,   9.36931041e-04,\n",
    "         5.10792605e-04,   6.44911672e-04])\n",
    "np.testing.assert_allclose(y, not_in_between(x, lo, hi))"
   ]
  },
  {
   "cell_type": "code",
   "execution_count": null,
   "metadata": {
    "collapsed": true,
    "nbgrader": {
     "grade": true,
     "grade_id": "q2g_test2",
     "locked": true,
     "points": 5,
     "solution": false
    }
   },
   "outputs": [],
   "source": [
    "import numpy as np\n",
    "np.random.seed(51954)\n",
    "\n",
    "x = np.random.random((30, 40, 50))\n",
    "lo = 0.00001\n",
    "hi = 0.99999\n",
    "y = np.array([  8.46159001e-06,   9.99998669e-01,   9.99993873e-01,\n",
    "         5.58488698e-06,   9.99993348e-01])\n",
    "np.testing.assert_allclose(y, not_in_between(x, lo, hi))"
   ]
  },
  {
   "cell_type": "markdown",
   "metadata": {
    "nbgrader": {
     "grade": false,
     "grade_id": "q2h_prompt",
     "locked": true,
     "solution": false
    }
   },
   "source": [
    "### H\n",
    "\n",
    "Write a function, `reverse_array`, which takes one parameter:\n",
    "\n",
    " - a 1D NumPy array of data\n",
    "\n",
    "This function uses fancy indexing to reverse the ordering of the elements in the input array, and returns the reversed array. You *cannot* use the `[::-1]` notation, nor the built-in `reversed` method, or any other Python function or loops. You **can** use the `list()`, `range()`, and `np.arange()` functions, however, and only some or all of those (but again, no loops!).\n",
    "\n",
    "You must construct a list of indexes and use NumPy fancy indexing to reverse the ordering of the elements in the input list, then return the reversed list."
   ]
  },
  {
   "cell_type": "code",
   "execution_count": null,
   "metadata": {
    "collapsed": true,
    "nbgrader": {
     "grade": false,
     "grade_id": "q2h",
     "locked": false,
     "solution": true
    }
   },
   "outputs": [],
   "source": []
  },
  {
   "cell_type": "code",
   "execution_count": null,
   "metadata": {
    "collapsed": true,
    "nbgrader": {
     "grade": true,
     "grade_id": "q2h_test",
     "locked": true,
     "points": 5,
     "solution": false
    }
   },
   "outputs": [],
   "source": [
    "import numpy as np\n",
    "np.random.seed(5748)\n",
    "\n",
    "x1 = np.random.random(75)\n",
    "y1 = x1[::-1]  # Sorry, you're not allowed to do this!\n",
    "np.testing.assert_allclose(y1, reverse_array(x1))\n",
    "\n",
    "x2 = np.random.random(581)\n",
    "y2 = x2[::-1]  # Sorry, you're not allowed to do this!\n",
    "np.testing.assert_allclose(y2, reverse_array(x2))"
   ]
  }
 ],
 "metadata": {
  "anaconda-cloud": {},
  "celltoolbar": "Create Assignment",
  "kernelspec": {
   "display_name": "Python [default]",
   "language": "python",
   "name": "python3"
  },
  "language_info": {
   "codemirror_mode": {
    "name": "ipython",
    "version": 3
   },
   "file_extension": ".py",
   "mimetype": "text/x-python",
   "name": "python",
   "nbconvert_exporter": "python",
   "pygments_lexer": "ipython3",
   "version": "3.5.2"
  }
 },
 "nbformat": 4,
 "nbformat_minor": 0
}
