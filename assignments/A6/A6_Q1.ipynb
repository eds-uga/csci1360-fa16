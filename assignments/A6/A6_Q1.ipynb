{
 "cells": [
  {
   "cell_type": "markdown",
   "metadata": {
    "nbgrader": {
     "grade": false,
     "grade_id": "q1_prompt",
     "locked": true,
     "solution": false
    }
   },
   "source": [
    "# Q1\n",
    "\n",
    "In this question, we'll review the basics of file I/O (file input/output) and the various function calls and modes required (this will draw on material from L14)."
   ]
  },
  {
   "cell_type": "markdown",
   "metadata": {
    "nbgrader": {
     "grade": false,
     "grade_id": "q1a_prompt",
     "locked": true,
     "solution": false
    }
   },
   "source": [
    "### A\n",
    "\n",
    "Write a function **`read_file_contents`** which takes a string pathname as an argument, and returns a single string that contains all the contents of the file. Don't import any additional packages.\n",
    "\n",
    "If I have a file `random_text.txt`, I'll give the full path to this file to the function: `contents = read_file_contents(\"random_text.txt\")`, and I should get back a single string `contents` that contains all the contents of the file.\n",
    "\n",
    "**NOTE:** Your function should be able to handle errors gracefully! If an error occurs when trying to read from the file, your function should return `None` (note the capitalization of the first letter)."
   ]
  },
  {
   "cell_type": "code",
   "execution_count": null,
   "metadata": {
    "collapsed": true,
    "nbgrader": {
     "grade": false,
     "grade_id": "q1a",
     "locked": false,
     "solution": true
    }
   },
   "outputs": [],
   "source": []
  },
  {
   "cell_type": "code",
   "execution_count": null,
   "metadata": {
    "collapsed": true,
    "nbgrader": {
     "grade": true,
     "grade_id": "q1a_test1",
     "locked": true,
     "points": 5,
     "solution": false
    }
   },
   "outputs": [],
   "source": [
    "truth = \"This is some text.\\nMore text, but on a different line!\\nInsert your favorite meme here.\\n\"\n",
    "pred = read_file_contents(\"q1data/file1.txt\")\n",
    "assert truth == pred"
   ]
  },
  {
   "cell_type": "code",
   "execution_count": null,
   "metadata": {
    "collapsed": true,
    "nbgrader": {
     "grade": true,
     "grade_id": "q1a_test2",
     "locked": true,
     "points": 5,
     "solution": false
    }
   },
   "outputs": [],
   "source": [
    "retval = -1\n",
    "try:\n",
    "    retval = read_file_contents(\"nonexistent/path.txt\")\n",
    "except:\n",
    "    assert False\n",
    "else:\n",
    "    assert retval is None"
   ]
  },
  {
   "cell_type": "markdown",
   "metadata": {
    "nbgrader": {
     "grade": false,
     "grade_id": "q1b_prompt",
     "locked": true,
     "solution": false
    }
   },
   "source": [
    "### B\n",
    "\n",
    "This time, write a function `read_file` that takes **two** arguments: the first is the path to the file (same as before), and the second is an *optional* boolean argument `as_list` that defaults to `False`. When this flag is `False` (the default), your function should behave identically to `read_file_contents`. In fact, if `as_list` is `False`, you can just call your previous function.\n",
    "\n",
    "If `as_list` is `True`, instead of returning a single string of the file's contents, return a list of strings, where each item in the list is a line from the file.\n",
    "\n",
    "**NOTE:** Your function should be able to handle errors gracefully! If an error occurs when trying to read from the file, your function should return `None` (note the capitalization of the first letter)."
   ]
  },
  {
   "cell_type": "code",
   "execution_count": null,
   "metadata": {
    "collapsed": true,
    "nbgrader": {
     "grade": false,
     "grade_id": "q1b",
     "locked": false,
     "solution": true
    }
   },
   "outputs": [],
   "source": []
  },
  {
   "cell_type": "code",
   "execution_count": null,
   "metadata": {
    "collapsed": true,
    "nbgrader": {
     "grade": true,
     "grade_id": "q1b_test1",
     "locked": true,
     "points": 5,
     "solution": false
    }
   },
   "outputs": [],
   "source": [
    "truth = \"Yo dawg, I heard yo and yo dawg like yo-yos.\\nSo we put yo dawg in a yo-yo.\\nSo yo can yo-yo yo dawg while yo dawg yo-yos, dawg.\\nMaximum ridiculousness reached.\\n\"\n",
    "pred = read_file(\"q1data/file2.txt\")\n",
    "assert truth == pred"
   ]
  },
  {
   "cell_type": "code",
   "execution_count": null,
   "metadata": {
    "collapsed": true,
    "nbgrader": {
     "grade": true,
     "grade_id": "q1b_test2",
     "locked": true,
     "points": 5,
     "solution": false
    }
   },
   "outputs": [],
   "source": [
    "truth = ['Yo dawg, I heard yo and yo dawg like yo-yos.\\n',\n",
    " 'So we put yo dawg in a yo-yo.\\n',\n",
    " 'So yo can yo-yo yo dawg while yo dawg yo-yos, dawg.\\n',\n",
    " 'Maximum ridiculousness reached.\\n']\n",
    "pred = read_file(\"q1data/file2.txt\", as_list = True)\n",
    "for item in truth:\n",
    "    assert item in pred\n",
    "for item in pred:\n",
    "    assert item in truth"
   ]
  },
  {
   "cell_type": "code",
   "execution_count": null,
   "metadata": {
    "collapsed": true,
    "nbgrader": {
     "grade": true,
     "grade_id": "q1b_test3",
     "locked": true,
     "points": 5,
     "solution": false
    }
   },
   "outputs": [],
   "source": [
    "retval = -1\n",
    "try:\n",
    "    retval = read_file(\"another/nonexistent/path.txt\")\n",
    "except:\n",
    "    assert False\n",
    "else:\n",
    "    assert retval is None"
   ]
  },
  {
   "cell_type": "markdown",
   "metadata": {
    "nbgrader": {
     "grade": false,
     "grade_id": "q1c_prompt",
     "locked": true,
     "solution": false
    }
   },
   "source": [
    "### C\n",
    "\n",
    "In this question, you'll read from one file, perform a simple computation, and write the results to a new file.\n",
    "\n",
    "Write a function **`count_lines`** that takes two arguments: the first is a path to a file to read, the second is the path to an output file. Your function will count the number of lines in the file at the first argument, and write this number to a file at the second argument.\n",
    "\n",
    "Your function should return `True` on success, and `False` if an error occurred.\n",
    "\n",
    "**NOTE:** Your function should be able to handle errors gracefully! If an error occurs when trying to read from the file or write to the output file, your function should return `False`."
   ]
  },
  {
   "cell_type": "code",
   "execution_count": null,
   "metadata": {
    "collapsed": true,
    "nbgrader": {
     "grade": false,
     "grade_id": "q1c",
     "locked": false,
     "solution": true
    }
   },
   "outputs": [],
   "source": []
  },
  {
   "cell_type": "code",
   "execution_count": null,
   "metadata": {
    "collapsed": true,
    "nbgrader": {
     "grade": true,
     "grade_id": "q1c_test1",
     "locked": true,
     "points": 5,
     "solution": false
    }
   },
   "outputs": [],
   "source": [
    "import os.path\n",
    "assert count_lines(\"q1data/file1.txt\", \"q1data/file1_out.txt\")\n",
    "assert os.path.exists(\"q1data/file1_out.txt\")\n",
    "assert int(open(\"q1data/file1_out.txt\", \"r\").read()) == 3"
   ]
  },
  {
   "cell_type": "code",
   "execution_count": null,
   "metadata": {
    "collapsed": true,
    "nbgrader": {
     "grade": true,
     "grade_id": "q1c_test2",
     "locked": true,
     "points": 5,
     "solution": false
    }
   },
   "outputs": [],
   "source": [
    "r1 = None\n",
    "try:\n",
    "    r1 = count_lines(\"yet/another/nonexistent/path.txt\", \"meaningless\")\n",
    "except:\n",
    "    assert False\n",
    "else:\n",
    "    assert not r1\n",
    "\n",
    "r2 = None\n",
    "try:\n",
    "    r2 = count_lines(\"q1data/file1.txt\", \"/this/should/throw/an/error.txt\")\n",
    "except:\n",
    "    assert False\n",
    "else:\n",
    "    assert not r2"
   ]
  },
  {
   "cell_type": "markdown",
   "metadata": {
    "nbgrader": {
     "grade": false,
     "grade_id": "q1d_prompt",
     "locked": true,
     "solution": false
    }
   },
   "source": [
    "### D\n",
    "\n",
    "In this question, you'll write a function **`acount_lines`** that performs the same operation as before, except in the case that the output file already exists: in this case, you'll **append** the line count to the file instead of overwriting it, thus preserving any existing previous line counts.\n",
    "\n",
    "Each new appended line count should be *on its own line in the output file*. You may need to manually insert newline characters, which are a backslash followed by the letter n: **`\\n`**\n",
    "\n",
    "Your function should return `True` on success, and `False` if an error occurred.\n",
    "\n",
    "**NOTE:** Your function should be able to handle errors gracefully! If an error occurs when trying to read from the file or write to the output file, your function should return `False`."
   ]
  },
  {
   "cell_type": "code",
   "execution_count": null,
   "metadata": {
    "collapsed": true,
    "nbgrader": {
     "grade": false,
     "grade_id": "q1d",
     "locked": false,
     "solution": true
    }
   },
   "outputs": [],
   "source": []
  },
  {
   "cell_type": "code",
   "execution_count": null,
   "metadata": {
    "collapsed": true,
    "nbgrader": {
     "grade": true,
     "grade_id": "q1d_test1",
     "locked": true,
     "points": 2.5,
     "solution": false
    }
   },
   "outputs": [],
   "source": [
    "if os.path.exists(\"q1data/out_again.txt\"):\n",
    "    os.remove(\"q1data/out_again.txt\")\n",
    "\n",
    "assert acount_lines(\"q1data/file1.txt\", \"q1data/out_again.txt\")\n",
    "assert os.path.exists(\"q1data/out_again.txt\")\n",
    "assert int(open(\"q1data/out_again.txt\", \"r\").read()) == 3"
   ]
  },
  {
   "cell_type": "code",
   "execution_count": null,
   "metadata": {
    "collapsed": true,
    "nbgrader": {
     "grade": true,
     "grade_id": "q1d_test2",
     "locked": true,
     "points": 2.5,
     "solution": false
    }
   },
   "outputs": [],
   "source": [
    "assert acount_lines(\"q1data/file2.txt\", \"q1data/out_again.txt\")\n",
    "assert os.path.exists(\"q1data/out_again.txt\")\n",
    "assert int(\"\".join(open(\"q1data/out_again.txt\", \"r\").read().split(\"\\n\"))) == 34"
   ]
  },
  {
   "cell_type": "code",
   "execution_count": null,
   "metadata": {
    "collapsed": true,
    "nbgrader": {
     "grade": true,
     "grade_id": "q1d_test3",
     "locked": true,
     "points": 5,
     "solution": false
    }
   },
   "outputs": [],
   "source": [
    "r1 = None\n",
    "try:\n",
    "    r1 = acount_lines(\"yet/another/nonexistent/path.txt\", \"meaningless\")\n",
    "except:\n",
    "    assert False\n",
    "else:\n",
    "    assert not r1\n",
    "\n",
    "r2 = None\n",
    "try:\n",
    "    r2 = acount_lines(\"q1data/file2.txt\", \"/this/should/throw/an/error.txt\")\n",
    "except:\n",
    "    assert False\n",
    "else:\n",
    "    assert not r2"
   ]
  }
 ],
 "metadata": {
  "anaconda-cloud": {},
  "celltoolbar": "Create Assignment",
  "kernelspec": {
   "display_name": "Python [default]",
   "language": "python",
   "name": "python3"
  },
  "language_info": {
   "codemirror_mode": {
    "name": "ipython",
    "version": 3
   },
   "file_extension": ".py",
   "mimetype": "text/x-python",
   "name": "python",
   "nbconvert_exporter": "python",
   "pygments_lexer": "ipython3",
   "version": "3.5.2"
  }
 },
 "nbformat": 4,
 "nbformat_minor": 0
}
