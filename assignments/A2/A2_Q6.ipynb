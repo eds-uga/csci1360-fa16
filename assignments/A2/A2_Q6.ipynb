{
 "cells": [
  {
   "cell_type": "markdown",
   "metadata": {
    "nbgrader": {
     "grade": false,
     "grade_id": "q6_prompt",
     "locked": true,
     "solution": false
    }
   },
   "source": [
    "# Q6\n",
    "\n",
    "In this question, we'll dive more deeply into some of the review questions from the last flipped session."
   ]
  },
  {
   "cell_type": "markdown",
   "metadata": {
    "nbgrader": {
     "grade": false,
     "grade_id": "q6a_prompt",
     "locked": true,
     "solution": false
    }
   },
   "source": [
    "### A\n",
    "\n",
    "In one of the review questions, we discussed creating nested for-loops in order to list out all possible combinations of `(x, y)` values for a given range of numbers. Somebody pointed out that this would indeed generate some duplicates--e.g., `(0, 9)` and `(9, 0)` could be considered exactly the same.\n",
    "\n",
    "In this question, you'll replicate the double-for loop for a range of numbers, but you'll only generate a range of *unique* pairwise combinations. This is exactly what `itertools.combinations(list, 2)` does, but you'll implement it yourself. For example, the list `[1, 2, 3]` should return `[ (1, 2), (1, 3), (2, 3) ]` (the ordering of the internal tuple pairs doesn't matter).\n",
    "\n",
    "Put your answer in the `list_of_pairs` variable."
   ]
  },
  {
   "cell_type": "code",
   "execution_count": null,
   "metadata": {
    "collapsed": true,
    "nbgrader": {
     "grade": false,
     "grade_id": "q6a",
     "locked": false,
     "solution": true
    }
   },
   "outputs": [],
   "source": [
    "def my_pairs(x):\n",
    "    list_of_pairs = []\n",
    "    \n",
    "    ### BEGIN SOLUTION\n",
    "    \n",
    "    ### END SOLUTION\n",
    "    \n",
    "    return list_of_pairs"
   ]
  },
  {
   "cell_type": "code",
   "execution_count": null,
   "metadata": {
    "collapsed": true,
    "nbgrader": {
     "grade": true,
     "grade_id": "q6a_test1",
     "locked": true,
     "points": 1,
     "solution": false
    }
   },
   "outputs": [],
   "source": [
    "try:\n",
    "    combinations\n",
    "    itertools.combinations\n",
    "except:\n",
    "    assert True\n",
    "else:\n",
    "    assert False"
   ]
  },
  {
   "cell_type": "code",
   "execution_count": null,
   "metadata": {
    "collapsed": true,
    "nbgrader": {
     "grade": true,
     "grade_id": "q6a_test2",
     "locked": true,
     "points": 4,
     "solution": false
    }
   },
   "outputs": [],
   "source": [
    "from itertools import combinations as c\n",
    "\n",
    "i1 = [1, 2, 3]\n",
    "a1 = set(list(c(i1, 2)))\n",
    "assert a1 == set(my_pairs(i1))\n",
    "\n",
    "i2 = [8934, 123, 23, 1, 6, 8, 553, 8, 98.345, 354, 876796.5, 34]\n",
    "a2 = set(list(c(i2, 2)))\n",
    "assert a2 == set(my_pairs(i2))"
   ]
  },
  {
   "cell_type": "markdown",
   "metadata": {
    "nbgrader": {
     "grade": false,
     "grade_id": "q6b_prompt",
     "locked": true,
     "solution": false
    }
   },
   "source": [
    "---\n",
    "### B\n",
    "\n",
    "This question is a straight-up rip-off from one of the lecture review questions. In the code below, you'll be given a matrix in list-of-lists format. You'll need to iterate through the matrix and replace each row list with a *tuple*, where the first element of the tuple is the row *index*, and the second element is the original row list.\n",
    "\n",
    "For example, if the input matrix list-of-lists is\n",
    "\n",
    "```\n",
    "x = [ [1, 2, 3], [4, 5, 6] ]\n",
    "```\n",
    "\n",
    "then the output should be\n",
    "\n",
    "```\n",
    "y = [ (0, [1, 2, 3]), (1, [4, 5, 6]) ]\n",
    "```\n",
    "\n",
    "In other words, `y[0]` would give the tuple `(0, [1, 2, 3])`, and `y[1]` would give `(1, [4, 5, 6])`.\n",
    "\n",
    "Put your answer in the `tuple_matrix` variable."
   ]
  },
  {
   "cell_type": "code",
   "execution_count": null,
   "metadata": {
    "collapsed": true,
    "nbgrader": {
     "grade": false,
     "grade_id": "q6b",
     "locked": false,
     "solution": true
    }
   },
   "outputs": [],
   "source": [
    "def add_row_ids(matrix):\n",
    "    tuple_matrix = []\n",
    "    \n",
    "    ### BEGIN SOLUTION\n",
    "    \n",
    "    ### END SOLUTION\n",
    "    \n",
    "    return tuple_matrix"
   ]
  },
  {
   "cell_type": "code",
   "execution_count": null,
   "metadata": {
    "collapsed": true,
    "nbgrader": {
     "grade": true,
     "grade_id": "q6b_test",
     "locked": true,
     "points": 5,
     "solution": false
    }
   },
   "outputs": [],
   "source": [
    "i1 = [ [1, 2, 3], [4, 5, 6] ]\n",
    "a1 = set((1, (4, 5, 6)))\n",
    "i, t = add_row_ids(i1)[1]\n",
    "assert a1 == set((i, tuple(t)))\n",
    "\n",
    "i2 = [ [1, 2], [2, 3], [4, 5], [6, 7], [8, 9] ]\n",
    "a2 = set((4, (8, 9)))\n",
    "i, t = add_row_ids(i2)[4]\n",
    "assert a2 == set((i, tuple(t)))"
   ]
  },
  {
   "cell_type": "markdown",
   "metadata": {
    "nbgrader": {
     "grade": false,
     "grade_id": "q6c_prompt",
     "locked": true,
     "solution": false
    }
   },
   "source": [
    "---\n",
    "### C\n",
    "\n",
    "You could solve Part B in one of several different ways--some combination of `range`, `zip`, and `enumerate`, either just one, or two, or even all three. Regardless of how you solved Part B, describe in words (and pseudocode if you'd like) how you could condense the entirety of Part B into a list comprehension statement, using one or more of the aforementioned iterating tools."
   ]
  },
  {
   "cell_type": "markdown",
   "metadata": {
    "nbgrader": {
     "grade": true,
     "grade_id": "q6c",
     "locked": false,
     "points": 5,
     "solution": true
    }
   },
   "source": []
  }
 ],
 "metadata": {
  "anaconda-cloud": {},
  "celltoolbar": "Create Assignment",
  "kernelspec": {
   "display_name": "Python [default]",
   "language": "python",
   "name": "python3"
  },
  "language_info": {
   "codemirror_mode": {
    "name": "ipython",
    "version": 3
   },
   "file_extension": ".py",
   "mimetype": "text/x-python",
   "name": "python",
   "nbconvert_exporter": "python",
   "pygments_lexer": "ipython3",
   "version": "3.5.2"
  }
 },
 "nbformat": 4,
 "nbformat_minor": 0
}
