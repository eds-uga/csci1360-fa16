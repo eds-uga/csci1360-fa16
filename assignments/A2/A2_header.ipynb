{
 "cells": [
  {
   "cell_type": "markdown",
   "metadata": {
    "collapsed": true,
    "nbgrader": {
     "grade": false,
     "grade_id": "a1_intro",
     "locked": true,
     "solution": false
    }
   },
   "source": [
    "# Assignment 2\n",
    "CSCI 1360: Foundations for Informatics and Analytics\n",
    "\n",
    "## Important Dates\n",
    "\n",
    " - Released: 2016-09-01 at 12am [EDT](http://www.timeanddate.com/worldclock/usa/athens)\n",
    " - Deadline: 2016-09-08 at 11:59:59pm [EDT](http://www.timeanddate.com/worldclock/usa/athens)\n",
    "\n",
    "## Grading Breakdown\n",
    "\n",
    " - Q1: 10pts\n",
    " - Q2: 15pts\n",
    " - Q3: 15pts\n",
    " - Q4: 15pts\n",
    " - Q5: 15pts\n",
    " - Q6: 15pts\n",
    " - Q7: 15pts\n",
    " \n",
    "Total: 100pts\n",
    " \n",
    "## Overview\n",
    "\n",
    "This assignment will familiarize you with the built-in Python data structures, looping, conditionals, and exceptions.\n",
    "\n",
    "Remember in your code to delete (or comment out) any lines that say `raise NotImplementedError()` and replace it with your own code."
   ]
  }
 ],
 "metadata": {
  "anaconda-cloud": {},
  "celltoolbar": "Create Assignment",
  "kernelspec": {
   "display_name": "Python [default]",
   "language": "python",
   "name": "python3"
  },
  "language_info": {
   "codemirror_mode": {
    "name": "ipython",
    "version": 3
   },
   "file_extension": ".py",
   "mimetype": "text/x-python",
   "name": "python",
   "nbconvert_exporter": "python",
   "pygments_lexer": "ipython3",
   "version": "3.5.2"
  }
 },
 "nbformat": 4,
 "nbformat_minor": 0
}
