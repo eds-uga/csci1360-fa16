{
 "cells": [
  {
   "cell_type": "markdown",
   "metadata": {
    "nbgrader": {
     "grade": false,
     "grade_id": "q2_prompt",
     "locked": true,
     "solution": false
    }
   },
   "source": [
    "# Q2\n",
    "\n",
    "In this question, we'll look at using conditionals to change the behavior of code."
   ]
  },
  {
   "cell_type": "markdown",
   "metadata": {
    "nbgrader": {
     "grade": false,
     "grade_id": "q2a_prompt",
     "locked": true,
     "solution": false
    }
   },
   "source": [
    "### A\n",
    "\n",
    "In this question, you'll write a method that takes a list of numbers [0-9] and returns a corresponding list with the \"ordinal\" versions. That is, if you see a 1 in the list, you'll create a string \"1st\". If you see a 3, you'll create a string \"3rd\", and so on.\n",
    "\n",
    "For example, if you receive `[2, 1, 4, 3, 4]` as input, you should create a list of strings that looks like this: `[\"2nd\", \"1st\", \"4th\", \"3rd\", \"4th\"]`."
   ]
  },
  {
   "cell_type": "code",
   "execution_count": null,
   "metadata": {
    "collapsed": true,
    "nbgrader": {
     "grade": false,
     "grade_id": "q2a",
     "locked": false,
     "solution": true
    }
   },
   "outputs": [],
   "source": [
    "def return_ordinals(numbers):\n",
    "    out_list = []\n",
    "    \n",
    "    ### BEGIN SOLUTION\n",
    "    \n",
    "    ### END SOLUTION\n",
    "    \n",
    "    return out_list"
   ]
  },
  {
   "cell_type": "code",
   "execution_count": null,
   "metadata": {
    "collapsed": true,
    "nbgrader": {
     "grade": true,
     "grade_id": "q2a_test1",
     "locked": true,
     "points": 5,
     "solution": false
    }
   },
   "outputs": [],
   "source": [
    "inlist = [5, 6, 1, 9, 5, 5, 3, 3, 9, 4]\n",
    "outlist = [\"5th\", \"6th\", \"1st\", \"9th\", \"5th\", \"5th\", \"3rd\", \"3rd\", \"9th\", \"4th\"]\n",
    "for y_true, y_pred in zip(outlist, return_ordinals(inlist)):\n",
    "    assert y_true == y_pred.lower()\n",
    "\n",
    "inlist = [7, 5, 6, 6, 3, 5, 1, 0, 5, 2]\n",
    "outlist = [\"7th\", \"5th\", \"6th\", \"6th\", \"3rd\", \"5th\", \"1st\", \"0th\", \"5th\", \"2nd\"]\n",
    "for y_true, y_pred in zip(outlist, return_ordinals(inlist)):\n",
    "    assert y_true == y_pred.lower()"
   ]
  },
  {
   "cell_type": "markdown",
   "metadata": {
    "nbgrader": {
     "grade": false,
     "grade_id": "q2b_prompt",
     "locked": true,
     "solution": false
    }
   },
   "source": [
    "---\n",
    "### B\n",
    "\n",
    "In this question, you'll write code that computes the median of a sorted list of numbers. You can assume the list you receive is already sorted in ascending order (least to greatest).\n",
    "\n",
    "If your input list is `[1, 1, 2, 4, 7, 7, 8]`, then your output should be `4`. Recall the rule about median: if you get a list with an *even* number of elements, you should return the average of the two middle ones.\n",
    "\n",
    "Store your answer in the variable `med_num`."
   ]
  },
  {
   "cell_type": "code",
   "execution_count": null,
   "metadata": {
    "collapsed": true,
    "nbgrader": {
     "grade": false,
     "grade_id": "q2b",
     "locked": false,
     "solution": true
    }
   },
   "outputs": [],
   "source": [
    "def median(numbers):\n",
    "    med_num = 0\n",
    "    \n",
    "    ### BEGIN SOLUTION\n",
    "    \n",
    "    ### END SOLUTION\n",
    "    \n",
    "    return med_num"
   ]
  },
  {
   "cell_type": "code",
   "execution_count": null,
   "metadata": {
    "collapsed": true,
    "nbgrader": {
     "grade": true,
     "grade_id": "q2b_test",
     "locked": true,
     "points": 5,
     "solution": false
    }
   },
   "outputs": [],
   "source": [
    "inlist = [ 35.20575598,  45.05634995,  45.42573818,  55.07275661,\n",
    "        66.42501038,  66.48337884,  73.59004688,  81.09609177,\n",
    "        87.67779046,  93.90508029]\n",
    "outmed = 66\n",
    "assert outmed == int(median(inlist))\n",
    "\n",
    "inlist = [ 12899.59248764,  19792.31177415,  31156.00415682,  31764.93625914,\n",
    "        41443.07238461,  50669.10268086,  55408.34012113,  61352.47232585,\n",
    "        72682.91992934,  86883.37175784]\n",
    "outmed = 46056\n",
    "assert outmed == int(median(inlist))"
   ]
  },
  {
   "cell_type": "markdown",
   "metadata": {
    "nbgrader": {
     "grade": false,
     "grade_id": "q2c_prompt",
     "locked": true,
     "solution": false
    }
   },
   "source": [
    "---\n",
    "### C\n",
    "\n",
    "In this question, you'll write code to find the mode of a list of numbers. Recall that the mode is the number that occurs most frequently. Ties can be broken arbitrarily (meaning you can pick whichever number among those tied for the most frequent).\n",
    "\n",
    "If your input list is `[5, 1, 3, 1, 2, 5, 1]`, you should return `1`.\n",
    "\n",
    "Store your answer in the variable `mode_num`."
   ]
  },
  {
   "cell_type": "code",
   "execution_count": null,
   "metadata": {
    "collapsed": true,
    "nbgrader": {
     "grade": false,
     "grade_id": "q2c",
     "locked": false,
     "solution": true
    }
   },
   "outputs": [],
   "source": [
    "def mode(numbers):\n",
    "    mode_num = 0\n",
    "    \n",
    "    ### BEGIN SOLUTION\n",
    "    \n",
    "    ### END SOLUTION\n",
    "    \n",
    "    return mode_num"
   ]
  },
  {
   "cell_type": "code",
   "execution_count": null,
   "metadata": {
    "collapsed": true,
    "nbgrader": {
     "grade": true,
     "grade_id": "q2c_test",
     "locked": true,
     "points": 5,
     "solution": false
    }
   },
   "outputs": [],
   "source": [
    "l1 = [5, 1, 3, 1, 2, 5, 1]\n",
    "a1 = 1\n",
    "assert mode(l1) == a1\n",
    "\n",
    "l2 = [1, 2, 3, 1, 2, 3, 1, 2, 3]\n",
    "a2 = mode(l2)\n",
    "assert a2 == 1 or a2 == 2 or a2 == 3"
   ]
  }
 ],
 "metadata": {
  "anaconda-cloud": {},
  "celltoolbar": "Create Assignment",
  "kernelspec": {
   "display_name": "Python [default]",
   "language": "python",
   "name": "python3"
  },
  "language_info": {
   "codemirror_mode": {
    "name": "ipython",
    "version": 3
   },
   "file_extension": ".py",
   "mimetype": "text/x-python",
   "name": "python",
   "nbconvert_exporter": "python",
   "pygments_lexer": "ipython3",
   "version": "3.5.2"
  }
 },
 "nbformat": 4,
 "nbformat_minor": 0
}
