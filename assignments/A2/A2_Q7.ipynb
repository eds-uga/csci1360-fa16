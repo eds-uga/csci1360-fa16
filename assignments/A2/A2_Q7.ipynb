{
 "cells": [
  {
   "cell_type": "markdown",
   "metadata": {
    "nbgrader": {
     "grade": false,
     "grade_id": "q7_prompt",
     "locked": true,
     "solution": false
    }
   },
   "source": [
    "# Q7\n",
    "\n",
    "More written answers!"
   ]
  },
  {
   "cell_type": "markdown",
   "metadata": {
    "nbgrader": {
     "grade": false,
     "grade_id": "q7a_prompt",
     "locked": true,
     "solution": false
    }
   },
   "source": [
    "### A\n",
    "\n",
    "How are generators and lists similar? How are they different?"
   ]
  },
  {
   "cell_type": "markdown",
   "metadata": {
    "nbgrader": {
     "grade": true,
     "grade_id": "q7a",
     "locked": false,
     "points": 3,
     "solution": true
    }
   },
   "source": []
  },
  {
   "cell_type": "markdown",
   "metadata": {
    "nbgrader": {
     "grade": false,
     "grade_id": "q7b_prompt",
     "locked": true,
     "solution": false
    }
   },
   "source": [
    "---\n",
    "### B\n",
    "\n",
    "Let's say I'm inside a `for` loop, iterating through a large generator object (e.g. `range`). I come across a sequence of values I want to skip, moving several iterations ahead, but for whatever reason I don't know about `continue`. I decide to simply increment my loop variable by 5 inside the loop body after checking if it meets a certain condition. Will this work? Why or why not?"
   ]
  },
  {
   "cell_type": "markdown",
   "metadata": {
    "nbgrader": {
     "grade": true,
     "grade_id": "q7b",
     "locked": false,
     "points": 3,
     "solution": true
    }
   },
   "source": []
  },
  {
   "cell_type": "markdown",
   "metadata": {
    "nbgrader": {
     "grade": false,
     "grade_id": "q7c_prompt",
     "locked": true,
     "solution": false
    }
   },
   "source": [
    "---\n",
    "### C\n",
    "\n",
    "If I want to check if two lists contain identical elements *irrespective of ordering*, how could I do that?"
   ]
  },
  {
   "cell_type": "markdown",
   "metadata": {
    "nbgrader": {
     "grade": true,
     "grade_id": "q7c",
     "locked": false,
     "points": 3,
     "solution": true
    }
   },
   "source": []
  },
  {
   "cell_type": "markdown",
   "metadata": {
    "nbgrader": {
     "grade": false,
     "grade_id": "q7d_prompt",
     "locked": true,
     "solution": false
    }
   },
   "source": [
    "---\n",
    "### D\n",
    "\n",
    "I have four lists, each with `N` elements. I want to loop through them all simultaneously, so I `zip()` them together. How many elements will now be in my `zip()` generator?"
   ]
  },
  {
   "cell_type": "markdown",
   "metadata": {
    "nbgrader": {
     "grade": true,
     "grade_id": "q7d",
     "locked": false,
     "points": 3,
     "solution": true
    }
   },
   "source": []
  },
  {
   "cell_type": "markdown",
   "metadata": {
    "nbgrader": {
     "grade": false,
     "grade_id": "q7e_prompt",
     "locked": true,
     "solution": false
    }
   },
   "source": [
    "---\n",
    "### E\n",
    "\n",
    "I have a matrix, and to iterate through it I use nested `for` loops. In doing so, I check the value at each matrix element, looking for a specific match. If the match is found, I execute a `break` statement:\n",
    "\n",
    "```\n",
    "matrix = [ ... ]\n",
    "for i in range(len(matrix)):\n",
    "    for j in range(len(matrix[i])):\n",
    "        if matrix[i][j] == some_value:\n",
    "            break\n",
    "```\n",
    "\n",
    "What happens?"
   ]
  },
  {
   "cell_type": "markdown",
   "metadata": {
    "nbgrader": {
     "grade": true,
     "grade_id": "q7e",
     "locked": false,
     "points": 3,
     "solution": true
    }
   },
   "source": []
  }
 ],
 "metadata": {
  "anaconda-cloud": {},
  "celltoolbar": "Create Assignment",
  "kernelspec": {
   "display_name": "Python [default]",
   "language": "python",
   "name": "python3"
  },
  "language_info": {
   "codemirror_mode": {
    "name": "ipython",
    "version": 3
   },
   "file_extension": ".py",
   "mimetype": "text/x-python",
   "name": "python",
   "nbconvert_exporter": "python",
   "pygments_lexer": "ipython3",
   "version": "3.5.2"
  }
 },
 "nbformat": 4,
 "nbformat_minor": 0
}
