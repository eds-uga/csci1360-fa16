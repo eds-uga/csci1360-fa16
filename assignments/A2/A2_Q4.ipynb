{
 "cells": [
  {
   "cell_type": "markdown",
   "metadata": {
    "nbgrader": {
     "grade": false,
     "grade_id": "q4_prompt",
     "locked": true,
     "solution": false
    }
   },
   "source": [
    "# Q4\n",
    "\n",
    "Here, we'll do some basic anomaly detection!"
   ]
  },
  {
   "cell_type": "markdown",
   "metadata": {
    "nbgrader": {
     "grade": false,
     "grade_id": "q4a_prompt",
     "locked": true,
     "solution": false
    }
   },
   "source": [
    "### A\n",
    "\n",
    "Anomaly detection is a huge area of data science and cybersecurity. Even on a single computer, there are hundreds of little programs running simultaneously, all generating log files that record their behavior. Parsing these log files is tricky by itself, but detecting when a program may be misbehaving from its logs can be very challenging; what's the threshold at which behavior goes from normal to malicious?\n",
    "\n",
    "In this first part, you'll write code that flags certain sequences of numbers. Your log file will be a list of 1s and 0s. If you find that four or more 1s occur sequentially, this is considered \"suspicious\" and you should flag this activity by saving its *starting* index in the log file in the `flag_indices` list.\n",
    "\n",
    "For example, if the input log file is `[1, 0, 1, 1, 1, 1, 0, 0, 1, 1, 1, 1]`, you should return `[2, 8]`."
   ]
  },
  {
   "cell_type": "code",
   "execution_count": null,
   "metadata": {
    "collapsed": true,
    "nbgrader": {
     "grade": false,
     "grade_id": "q4a",
     "locked": false,
     "solution": true
    }
   },
   "outputs": [],
   "source": [
    "def count_flags(logs):\n",
    "    flag_indices = []\n",
    "    \n",
    "    ### BEGIN SOLUTION\n",
    "    \n",
    "    ### END SOLUTION\n",
    "    \n",
    "    return flag_indices"
   ]
  },
  {
   "cell_type": "code",
   "execution_count": null,
   "metadata": {
    "collapsed": true,
    "nbgrader": {
     "grade": true,
     "grade_id": "q4a_test1",
     "locked": true,
     "points": 10,
     "solution": false
    }
   },
   "outputs": [],
   "source": [
    "import numpy as np\n",
    "\n",
    "np.random.seed(583945)\n",
    "l1 = np.random.randint(2, size = 1000).tolist()\n",
    "a1 = set([39,87,96,132,137,169,174,185,235,257,269,292, 323, 472, 564, 583, 610, 628, 653, 695, 735, 783, 808, 865, 872, 880, 905,933,957,963,990])\n",
    "assert set(count_flags(l1)) == a1\n",
    "\n",
    "np.random.seed(49854)\n",
    "l2 = np.random.randint(2, size = 1000).tolist()\n",
    "a2 = set([61, 74, 90, 117, 124, 132, 151, 163, 179, 198, 229, 265, 297, 302, 354, 420, 479, 546, 582, 597, 632, 694, 778, 791, 923])\n",
    "assert set(count_flags(l2)) == a2"
   ]
  },
  {
   "cell_type": "markdown",
   "metadata": {
    "nbgrader": {
     "grade": false,
     "grade_id": "q4b_prompt",
     "locked": true,
     "solution": false
    }
   },
   "source": [
    "---\n",
    "### B\n",
    "\n",
    "On average, how many consecutive 0s precede a flagged sequence of suspicious 1s? Finish the code below to compute this average for a given log file and its flagged indices, and store your value in `avg_zeros`."
   ]
  },
  {
   "cell_type": "code",
   "execution_count": null,
   "metadata": {
    "collapsed": true,
    "nbgrader": {
     "grade": false,
     "grade_id": "q4b",
     "locked": false,
     "solution": true
    }
   },
   "outputs": [],
   "source": [
    "def preceding_zeros(logs, flags):\n",
    "    avg_zeros = 0.0\n",
    "    \n",
    "    ### BEGIN SOLUTION\n",
    "    \n",
    "    ### END SOLUTION\n",
    "    \n",
    "    return avg_zeros"
   ]
  },
  {
   "cell_type": "code",
   "execution_count": null,
   "metadata": {
    "collapsed": true,
    "nbgrader": {
     "grade": true,
     "grade_id": "q4b_test",
     "locked": true,
     "points": 5,
     "solution": false
    }
   },
   "outputs": [],
   "source": [
    "import numpy as np\n",
    "\n",
    "np.random.seed(8959384)\n",
    "l1 = np.random.randint(2, size = 1000).tolist()\n",
    "f1 = [25, 86, 104, 157, 180, 215, 259, 321, 346, 430, 518, 523, 537, 636, 657, 678, 687, 714, 771, 796, 820, 828, 850, 894, 902, 926, 954, 959]\n",
    "a1 = 2.357143\n",
    "np.testing.assert_allclose(preceding_zeros(l1, f1), a1)\n",
    "\n",
    "np.random.seed(94721)\n",
    "l2 = np.random.randint(2, size = 1000).tolist()\n",
    "f2 = [0, 13, 28, 48, 53, 72, 78, 102, 125, 132, 139, 155, 166, 206, 229, 319, 391, 418, 463, 532, 566, 574, 636, 661, 697, 732, 785, 830, 863, 912, 944, 980]\n",
    "a2 = 1.875000\n",
    "np.testing.assert_allclose(preceding_zeros(l2, f2), a2)"
   ]
  }
 ],
 "metadata": {
  "anaconda-cloud": {},
  "celltoolbar": "Create Assignment",
  "kernelspec": {
   "display_name": "Python [default]",
   "language": "python",
   "name": "python3"
  },
  "language_info": {
   "codemirror_mode": {
    "name": "ipython",
    "version": 3
   },
   "file_extension": ".py",
   "mimetype": "text/x-python",
   "name": "python",
   "nbconvert_exporter": "python",
   "pygments_lexer": "ipython3",
   "version": "3.5.2"
  }
 },
 "nbformat": 4,
 "nbformat_minor": 0
}
