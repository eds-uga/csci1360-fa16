{
 "cells": [
  {
   "cell_type": "markdown",
   "metadata": {
    "nbgrader": {
     "grade": false,
     "grade_id": "q3_prompt",
     "locked": true,
     "solution": false
    }
   },
   "source": [
    "# Q3\n",
    "\n",
    "In this question, you'll be doing some error handling. There's only one function to finish coding below--the logger function--but there's a LOT of other code that's already written for you! This will start introducing you to working with existing codebases."
   ]
  },
  {
   "cell_type": "markdown",
   "metadata": {
    "nbgrader": {
     "grade": false,
     "grade_id": "q3a_prompt",
     "locked": true,
     "solution": false
    }
   },
   "source": [
    "### A\n",
    "\n",
    "In this question, you'll write a logger. This is a critical component of any full-scale application: when something goes wrong, and you start the debugging process, it helps immensely to have logs of activity of your application to see where it started going off the rails.\n",
    "\n",
    "The log will take the form of a dictionary. The keys of the dictionary will be the name of the method called, and the value will be the integer code of the method's output. OR, in the case of an exception, the integer code of the exception. You can access this code in the `except` block:\n",
    "\n",
    "```\n",
    "try:\n",
    "    some_code\n",
    "except Exception as e:\n",
    "    e.value\n",
    "```\n",
    "    \n",
    "You'll need to save this `e.value` in your log dictionary for the output of the function call.\n",
    "\n",
    "Call all three of the functions below:\n",
    "\n",
    " - unreliable1\n",
    " - unreliable2\n",
    " - unreliable3\n",
    " \n",
    "and record their outputs in the dictionary.\n",
    "\n",
    "In summary, these are your goals:\n",
    " 1. In logger(), call each of the three methods once: unreliable1(), unreliable2(), unreliable3()\n",
    " 2. When calling each method, wrap them in try / except blocks so no exceptions escape to crash the program.\n",
    " 3. If an exception occurs, record its value to the dictionary for that function.\n",
    " 4. If NO exception occurs, and the function completes, it will return a value. Record that value in the dictionary for that function."
   ]
  },
  {
   "cell_type": "code",
   "execution_count": null,
   "metadata": {
    "collapsed": true,
    "nbgrader": {
     "grade": false,
     "grade_id": "q3a",
     "locked": false,
     "solution": true
    }
   },
   "outputs": [],
   "source": [
    "\"\"\"\n",
    "The below classes--Error1, Error2, and Error3--are the names of the possible\n",
    "errors that can be raised, and which you'll have to protect against.\n",
    "\"\"\"\n",
    "import random\n",
    "class Error1(Exception):\n",
    "    def __init__(self, value):\n",
    "        self.value = value\n",
    "    def __str__(self):\n",
    "        return repr(self.value)\n",
    "\n",
    "class Error2(Exception):\n",
    "    def __init__(self, value):\n",
    "        self.value = value\n",
    "    def __str__(self):\n",
    "        return repr(self.value)\n",
    "\n",
    "class Error3(Exception):\n",
    "    def __init__(self, value):\n",
    "        self.value = value\n",
    "    def __str__(self):\n",
    "        return repr(self.value)\n",
    "    \n",
    "\"\"\"\n",
    "The following three functions do SUPER IMPORTANT THINGS!\n",
    "However, they are very prone to throwing exceptions, so when\n",
    "you call them, you'll need to properly protect the calls!\n",
    "\"\"\"\n",
    "    \n",
    "def unreliable1():\n",
    "    for i in range(1, 4):\n",
    "        if random.randint(0, 1) == 1:\n",
    "            raise Error1(i)\n",
    "    return random.randint(10, 1000000)\n",
    "\n",
    "def unreliable2():\n",
    "    for i in range(4, 7):\n",
    "        if random.randint(0, 1) == 1:\n",
    "            raise Error2(i)\n",
    "    return random.randint(10, 1000000)\n",
    "\n",
    "def unreliable3():\n",
    "    for i in range(7, 10):\n",
    "        if random.randint(0, 1) == 1:\n",
    "            raise Error3(i)\n",
    "    return random.randint(10, 1000000)\n",
    "\n",
    "###\n",
    "# Finish this method!\n",
    "###\n",
    "\n",
    "def logger():\n",
    "    logs = {\n",
    "        'unreliable1': 0,\n",
    "        'unreliable2': 0,\n",
    "        'unreliable3': 0,\n",
    "    }\n",
    "    \n",
    "    ### BEGIN SOLUTION\n",
    "    \n",
    "    ### END SOLUTION\n",
    "    \n",
    "    return logs"
   ]
  },
  {
   "cell_type": "code",
   "execution_count": null,
   "metadata": {
    "collapsed": true,
    "nbgrader": {
     "grade": true,
     "grade_id": "q3a_test1",
     "locked": true,
     "points": 5,
     "solution": false
    }
   },
   "outputs": [],
   "source": [
    "random.seed(10)\n",
    "logs = logger()\n",
    "assert logs['unreliable1'] == 2\n",
    "assert logs['unreliable2'] == 4\n",
    "assert logs['unreliable3'] == 9"
   ]
  },
  {
   "cell_type": "code",
   "execution_count": null,
   "metadata": {
    "collapsed": true,
    "nbgrader": {
     "grade": true,
     "grade_id": "q3a_test2",
     "locked": true,
     "points": 5,
     "solution": false
    }
   },
   "outputs": [],
   "source": [
    "random.seed(381734)\n",
    "logs = logger()\n",
    "assert logs['unreliable1'] == 1\n",
    "assert logs['unreliable2'] == 5\n",
    "assert logs['unreliable3'] == 7"
   ]
  },
  {
   "cell_type": "code",
   "execution_count": null,
   "metadata": {
    "collapsed": true,
    "nbgrader": {
     "grade": true,
     "grade_id": "q3a_test3",
     "locked": true,
     "points": 5,
     "solution": false
    }
   },
   "outputs": [],
   "source": [
    "random.seed(895572877675748)\n",
    "logs = logger()\n",
    "assert logs['unreliable1'] == 1\n",
    "assert logs['unreliable2'] == 297436\n",
    "assert logs['unreliable3'] == 8"
   ]
  }
 ],
 "metadata": {
  "anaconda-cloud": {},
  "celltoolbar": "Create Assignment",
  "kernelspec": {
   "display_name": "Python [default]",
   "language": "python",
   "name": "python3"
  },
  "language_info": {
   "codemirror_mode": {
    "name": "ipython",
    "version": 3
   },
   "file_extension": ".py",
   "mimetype": "text/x-python",
   "name": "python",
   "nbconvert_exporter": "python",
   "pygments_lexer": "ipython3",
   "version": "3.5.2"
  }
 },
 "nbformat": 4,
 "nbformat_minor": 0
}
