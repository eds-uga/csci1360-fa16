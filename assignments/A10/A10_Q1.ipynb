{
 "cells": [
  {
   "cell_type": "markdown",
   "metadata": {
    "collapsed": true,
    "nbgrader": {
     "grade": false,
     "grade_id": "q1_prompt",
     "locked": true,
     "solution": false
    }
   },
   "source": [
    "# Q1\n",
    "\n",
    "In this question, you'll be introduced to the `scikit-image` package. Only a small portion of the package will be explored; you're encouraged to check it out if this interests you!"
   ]
  },
  {
   "cell_type": "markdown",
   "metadata": {
    "collapsed": true,
    "nbgrader": {
     "grade": false,
     "grade_id": "q1a_prompt",
     "locked": true,
     "solution": false
    }
   },
   "source": [
    "### A\n",
    "\n",
    "`scikit-image` is a pretty awesome all-purpose lightweight image analysis package for Python. In this question, you'll work with its [`data`](http://scikit-image.org/docs/stable/api/skimage.data.html) submodule.\n",
    "\n",
    "Scikit-image comes prepackaged with a great deal of sample data for you to experiment with. In the `skimage.data` submodule, you'll find quite a few functions that return this sample data. **Go the documentation page (linked in the previous paragraph), pick a sample function, call it, and display it using matplotlib's `imshow()` function.**"
   ]
  },
  {
   "cell_type": "code",
   "execution_count": null,
   "metadata": {
    "collapsed": true,
    "nbgrader": {
     "grade": true,
     "grade_id": "q1a",
     "locked": false,
     "points": 10,
     "solution": true
    }
   },
   "outputs": [],
   "source": [
    "import matplotlib.pyplot as plt\n",
    "import numpy as np\n",
    "import skimage.data\n",
    "\n",
    "### BEGIN SOLUTION\n",
    "\n",
    "### END SOLUTION"
   ]
  },
  {
   "cell_type": "markdown",
   "metadata": {
    "nbgrader": {
     "grade": false,
     "grade_id": "q1b_prompt",
     "locked": true,
     "solution": false
    }
   },
   "source": [
    "### B\n",
    "\n",
    "Now, we'll measure some properties of the image you chose. This will require use of the [`measure`](http://scikit-image.org/docs/stable/api/skimage.measure.html) submodule.\n",
    "\n",
    "You'll need to call two functions from this module. First, you'll need to label discrete regions of your image--effectively, identify \"objects\" in it. **This will use the `skimage.measure.label()` function, which takes two arguments: your image, and the pixel value to be considered background**. You'll need to experiment a little with this second argument to find the \"right\" value for your image!\n",
    "\n",
    "(**IMPORTANT**: If your image is RGB, you'll need to convert it to grayscale before calling `label()`; you can do this with the `skimage.color.rgb2gray()` function)\n",
    "\n",
    "**Second, you'll need to give the labels you get from the `label()` function to `skimage.measure.regionprops`.** This will return a dictionary with a bunch of useful information about your image. You'll use that information to answer some questions in part C below."
   ]
  },
  {
   "cell_type": "code",
   "execution_count": null,
   "metadata": {
    "collapsed": true,
    "nbgrader": {
     "grade": true,
     "grade_id": "q1b",
     "locked": false,
     "points": 10,
     "solution": true
    }
   },
   "outputs": [],
   "source": [
    "import skimage.measure\n",
    "import skimage.color\n",
    "\n",
    "### BEGIN SOLUTION\n",
    "\n",
    "### END SOLUTION"
   ]
  },
  {
   "cell_type": "markdown",
   "metadata": {
    "nbgrader": {
     "grade": false,
     "grade_id": "q1c_prompt",
     "locked": true,
     "solution": false
    }
   },
   "source": [
    "### C\n",
    "\n",
    "Go to scikit-image's [documentation for the `regionprops` function](http://scikit-image.org/docs/stable/api/skimage.measure.html#skimage.measure.regionprops) to see the properties of the dictionary that the function returns; pay special attention to the fact that these properties are computed for *every object identified* by the `label()` function.\n",
    "\n",
    "**Which object (by index) has the *largest* area? Which has the smallest? What are the respective perimeters of the objects with the largest and smallest areas? What are their centroid coordinates? What are their eccentricities?**"
   ]
  },
  {
   "cell_type": "markdown",
   "metadata": {
    "nbgrader": {
     "grade": true,
     "grade_id": "q1c",
     "locked": false,
     "points": 10,
     "solution": true
    }
   },
   "source": []
  }
 ],
 "metadata": {
  "anaconda-cloud": {},
  "celltoolbar": "Create Assignment",
  "kernelspec": {
   "display_name": "Python [default]",
   "language": "python",
   "name": "python3"
  },
  "language_info": {
   "codemirror_mode": {
    "name": "ipython",
    "version": 3
   },
   "file_extension": ".py",
   "mimetype": "text/x-python",
   "name": "python",
   "nbconvert_exporter": "python",
   "pygments_lexer": "ipython3",
   "version": "3.5.2"
  }
 },
 "nbformat": 4,
 "nbformat_minor": 0
}
