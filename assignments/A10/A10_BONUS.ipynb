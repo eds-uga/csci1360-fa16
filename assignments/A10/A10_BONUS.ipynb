{
 "cells": [
  {
   "cell_type": "markdown",
   "metadata": {
    "nbgrader": {
     "grade": false,
     "grade_id": "bonus_prompt",
     "locked": true,
     "solution": false
    }
   },
   "source": [
    "# BONUS\n",
    "\n",
    "scikit-image has some fairly impressive functionality, despite its relatively lightweight packaging. In fact, one function in particular can replicate almost the entirety of what you did in Q2: `skimage.segmentation.slic`. Check out [its documentation page](http://scikit-image.org/docs/stable/api/skimage.segmentation.html#skimage.segmentation.slic) and see if you can replicate your Q2 results.\n",
    "\n",
    "**You'll need to read in the `noisy.png` image (included with this assignment), convert it to grayscale, and run the `slic` function on it. Use the scikit-image documentation (in particular, the [`io` submodule](http://scikit-image.org/docs/dev/api/skimage.io.html) to see how to read in images. Display the image before and after segmentation. Feel free to import any other packages you'll need (e.g. matplotlib), but you have to use scikit-image to read in the image and to segment it.**"
   ]
  },
  {
   "cell_type": "code",
   "execution_count": null,
   "metadata": {
    "collapsed": true,
    "nbgrader": {
     "grade": true,
     "grade_id": "bonus",
     "locked": false,
     "points": 20,
     "solution": true
    }
   },
   "outputs": [],
   "source": []
  }
 ],
 "metadata": {
  "anaconda-cloud": {},
  "celltoolbar": "Create Assignment",
  "kernelspec": {
   "display_name": "Python [default]",
   "language": "python",
   "name": "python3"
  },
  "language_info": {
   "codemirror_mode": {
    "name": "ipython",
    "version": 3
   },
   "file_extension": ".py",
   "mimetype": "text/x-python",
   "name": "python",
   "nbconvert_exporter": "python",
   "pygments_lexer": "ipython3",
   "version": "3.5.2"
  }
 },
 "nbformat": 4,
 "nbformat_minor": 0
}
