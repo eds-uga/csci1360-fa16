{
 "cells": [
  {
   "cell_type": "markdown",
   "metadata": {
    "nbgrader": {
     "grade": false,
     "grade_id": "bonus_prompt",
     "locked": true,
     "solution": false
    }
   },
   "source": [
    "# BONUS\n",
    "\n",
    "This will test your ability to make creative use of loops."
   ]
  },
  {
   "cell_type": "markdown",
   "metadata": {
    "nbgrader": {
     "grade": false,
     "grade_id": "ba_prompt",
     "locked": true,
     "solution": false
    }
   },
   "source": [
    "### A\n",
    "\n",
    "Write a function that creates a matrix of 0s using the list-of-lists strategy.\n",
    "\n",
    " - named `make_matrix`\n",
    " - takes 2 arguments: number of rows (integer) and number of columns (integer)\n",
    " - returns 1 list: the list-of-lists matrix with the specified rows and columns (all the values set to 0)"
   ]
  },
  {
   "cell_type": "code",
   "execution_count": null,
   "metadata": {
    "collapsed": true,
    "nbgrader": {
     "grade": false,
     "grade_id": "ba",
     "locked": false,
     "points": 10,
     "solution": true
    }
   },
   "outputs": [],
   "source": []
  },
  {
   "cell_type": "code",
   "execution_count": null,
   "metadata": {
    "collapsed": true,
    "nbgrader": {
     "grade": true,
     "grade_id": "ba_test",
     "locked": true,
     "points": 10,
     "solution": false
    }
   },
   "outputs": [],
   "source": [
    "import numpy as np\n",
    "\n",
    "z1 = np.zeros((5, 10)).tolist()\n",
    "np.testing.assert_allclose(z1, make_matrix(5, 10))\n",
    "\n",
    "z2 = np.zeros((7, 3)).tolist()\n",
    "np.testing.assert_allclose(z2, make_matrix(7, 3))"
   ]
  },
  {
   "cell_type": "markdown",
   "metadata": {
    "nbgrader": {
     "grade": false,
     "grade_id": "bb_prompt",
     "locked": true,
     "solution": false
    }
   },
   "source": [
    "### B\n",
    "\n",
    "Write a function that tests whether every element of a list is even or not. For each individual element of the list, you need to evaluate whether or not that element is even and add the outcome of that test to a list (yep, a list of booleans).\n",
    "\n",
    " - named `is_even_list`\n",
    " - takes 1 argument: a list of numbers\n",
    " - returns 1 list: a list of booleans"
   ]
  },
  {
   "cell_type": "code",
   "execution_count": null,
   "metadata": {
    "collapsed": true,
    "nbgrader": {
     "grade": false,
     "grade_id": "bb",
     "locked": false,
     "points": 10,
     "solution": true
    }
   },
   "outputs": [],
   "source": []
  },
  {
   "cell_type": "code",
   "execution_count": null,
   "metadata": {
    "collapsed": false,
    "nbgrader": {
     "grade": true,
     "grade_id": "bb_test1",
     "locked": true,
     "points": 10,
     "solution": false
    }
   },
   "outputs": [],
   "source": [
    "import numpy as np\n",
    "\n",
    "t1 = [1, 2, 3, 4, 5, 6, 7]\n",
    "a1 = [False, True, False, True, False, True, False]\n",
    "np.testing.assert_array_equal(a1, is_even_list(t1))\n",
    "\n",
    "t2 = [7, 13, 19, 29, 37, 42, 100, 101]\n",
    "a2 = [False, False, False, False, False, True, True, False]\n",
    "np.testing.assert_array_equal(a2, is_even_list(t2))"
   ]
  }
 ],
 "metadata": {
  "anaconda-cloud": {},
  "celltoolbar": "Create Assignment",
  "kernelspec": {
   "display_name": "Python [default]",
   "language": "python",
   "name": "python3"
  },
  "language_info": {
   "codemirror_mode": {
    "name": "ipython",
    "version": 3
   },
   "file_extension": ".py",
   "mimetype": "text/x-python",
   "name": "python",
   "nbconvert_exporter": "python",
   "pygments_lexer": "ipython3",
   "version": "3.5.2"
  }
 },
 "nbformat": 4,
 "nbformat_minor": 0
}
