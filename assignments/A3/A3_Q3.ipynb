{
 "cells": [
  {
   "cell_type": "markdown",
   "metadata": {
    "nbgrader": {
     "grade": false,
     "grade_id": "q3_prompt",
     "locked": true,
     "solution": false
    }
   },
   "source": [
    "# Q3\n",
    "\n",
    "This question will focusing on indexing lists and dictionaries directly, no loops needed."
   ]
  },
  {
   "cell_type": "markdown",
   "metadata": {
    "nbgrader": {
     "grade": false,
     "grade_id": "q3a_prompt",
     "locked": true,
     "solution": false
    }
   },
   "source": [
    "### A\n",
    "\n",
    "Reassign `index` to be the middle *index* of the list `list_of_numbers`. **DO NOT** hard-code a number (hard-coding means using literals; see [L2, slide 27](http://nbviewer.jupyter.org/format/slides/github/eds-uga/csci1360-fa16/blob/master/lectures/L2.ipynb#/27))."
   ]
  },
  {
   "cell_type": "code",
   "execution_count": 1,
   "metadata": {
    "collapsed": true,
    "nbgrader": {
     "grade": true,
     "grade_id": "q3a",
     "locked": false,
     "points": 4,
     "solution": true
    }
   },
   "outputs": [],
   "source": [
    "import numpy as np\n",
    "np.random.seed(8948394)\n",
    "\n",
    "list_of_numbers = np.random.randint(10, size = 100000).tolist()\n",
    "index = -1\n",
    "\n",
    "### BEGIN SOLUTION\n",
    "\n",
    "### END SOLUTION"
   ]
  },
  {
   "cell_type": "markdown",
   "metadata": {
    "nbgrader": {
     "grade": false,
     "grade_id": "q3b_prompt",
     "locked": true,
     "solution": false
    }
   },
   "source": [
    "### B\n",
    "\n",
    "Reassign `middle` to be the middle *value* of the list `list_of_numbers`. **DO NOT** hard-code a number (hard-coding means using literals; see [L2, slide 27](http://nbviewer.jupyter.org/format/slides/github/eds-uga/csci1360-fa16/blob/master/lectures/L2.ipynb#/27))."
   ]
  },
  {
   "cell_type": "code",
   "execution_count": 2,
   "metadata": {
    "collapsed": true,
    "nbgrader": {
     "grade": true,
     "grade_id": "q3b",
     "locked": false,
     "points": 4,
     "solution": true
    }
   },
   "outputs": [],
   "source": [
    "import numpy as np\n",
    "np.random.seed(95448)\n",
    "\n",
    "list_of_numbers = np.random.randint(10, size = 100000).tolist()\n",
    "middle = -1\n",
    "\n",
    "### BEGIN SOLUTION\n",
    "\n",
    "### END SOLUTION"
   ]
  },
  {
   "cell_type": "markdown",
   "metadata": {
    "nbgrader": {
     "grade": false,
     "grade_id": "q3c_prompt",
     "locked": true,
     "solution": false
    }
   },
   "source": [
    "### C\n",
    "\n",
    "Write a single boolean statement that tests whether the defined `key` exists in the defined `dictionary`."
   ]
  },
  {
   "cell_type": "code",
   "execution_count": null,
   "metadata": {
    "collapsed": true,
    "nbgrader": {
     "grade": true,
     "grade_id": "q3c",
     "locked": false,
     "points": 4,
     "solution": true
    }
   },
   "outputs": [],
   "source": [
    "dictionary = {\"voila\": \"in\", \"view\": \"a\", \"humble\": \"vaudvillian\", \"veteran\": \"cast\", \"vicariously\": \"as\", \"both\": \"victim\", \"and\": \"villain\"}\n",
    "key = \"villain\"\n",
    "\n",
    "### BEGIN SOLUTION\n",
    "\n",
    "### END SOLUTION"
   ]
  },
  {
   "cell_type": "markdown",
   "metadata": {
    "nbgrader": {
     "grade": false,
     "grade_id": "q3d_prompt",
     "locked": true,
     "solution": false
    }
   },
   "source": [
    "### D\n",
    "\n",
    "Write a single boolean statement that tests whether the defined `value` exists in the defined `dictionary`."
   ]
  },
  {
   "cell_type": "code",
   "execution_count": 3,
   "metadata": {
    "collapsed": true,
    "nbgrader": {
     "grade": true,
     "grade_id": "q3d",
     "locked": false,
     "points": 4,
     "solution": true
    }
   },
   "outputs": [],
   "source": [
    "dictionary = {\"voila\": \"in\", \"view\": \"a\", \"humble\": \"vaudvillian\", \"veteran\": \"cast\", \"vicariously\": \"as\", \"both\": \"victim\", \"and\": \"villain\"}\n",
    "value = \"villain\"\n",
    "\n",
    "### BEGIN SOLUTION\n",
    "\n",
    "### END SOLUTION"
   ]
  },
  {
   "cell_type": "markdown",
   "metadata": {
    "nbgrader": {
     "grade": false,
     "grade_id": "q3e_prompt",
     "locked": true,
     "solution": false
    }
   },
   "source": [
    "### E\n",
    "\n",
    "Write code to split the following string `sentence` into words, and store only the second-to-last word in the variable `last_word`."
   ]
  },
  {
   "cell_type": "code",
   "execution_count": 4,
   "metadata": {
    "collapsed": true,
    "nbgrader": {
     "grade": true,
     "grade_id": "q3e",
     "locked": false,
     "points": 4,
     "solution": true
    }
   },
   "outputs": [],
   "source": [
    "sentence = \"A data scientist is someone who is better at computer science than a statistician, and better at statistics than a computer scientist.\"\n",
    "last_word = None\n",
    "\n",
    "### BEGIN SOLUTION\n",
    "\n",
    "### END SOLUTION"
   ]
  }
 ],
 "metadata": {
  "anaconda-cloud": {},
  "celltoolbar": "Create Assignment",
  "kernelspec": {
   "display_name": "Python [default]",
   "language": "python",
   "name": "python3"
  },
  "language_info": {
   "codemirror_mode": {
    "name": "ipython",
    "version": 3
   },
   "file_extension": ".py",
   "mimetype": "text/x-python",
   "name": "python",
   "nbconvert_exporter": "python",
   "pygments_lexer": "ipython3",
   "version": "3.5.2"
  }
 },
 "nbformat": 4,
 "nbformat_minor": 0
}
