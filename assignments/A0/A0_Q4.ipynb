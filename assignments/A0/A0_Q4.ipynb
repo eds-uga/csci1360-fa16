{
 "cells": [
  {
   "cell_type": "markdown",
   "metadata": {
    "nbgrader": {
     "grade": false,
     "grade_id": "q4_prompt",
     "locked": true,
     "solution": false
    }
   },
   "source": [
    "# Q4\n",
    "\n",
    "This question will walk you through the process of how a coding assignment in JupyterHub will work."
   ]
  },
  {
   "cell_type": "markdown",
   "metadata": {
    "nbgrader": {
     "grade": false,
     "grade_id": "q4a_prompt",
     "locked": true,
     "solution": false
    }
   },
   "source": [
    "### A\n",
    "\n",
    "There's one question below--a small code snippet. Don't worry about what it does; instead, focus on the **double-quotes**.\n",
    "\n",
    "See how they're right next to each other? Put something between those quotes. Anything at all. The autograder for this question will literally look to see if there's so much as a single blank space between the quotes, and will call the answer correct. `\" \"` would be correct; so would `\"this is a lot more than just a space\"`. Make something up! But whatever you do, *don't delete the quotes*.\n",
    "\n",
    " 1. Copy the *whole* line that looks like: `instring = \"\"`\n",
    " 2. Paste it on top of the line that looks like: `raise NotImplementedError`\n",
    " 3. Put something inside the double-quotes! Anything!\n",
    " \n",
    "**Step 2 is crucial, otherwise your code will fail!**"
   ]
  },
  {
   "cell_type": "code",
   "execution_count": 1,
   "metadata": {
    "collapsed": true,
    "nbgrader": {
     "grade": false,
     "grade_id": "q4a",
     "locked": false,
     "solution": true
    }
   },
   "outputs": [],
   "source": [
    "instring = \"\"\n",
    "\n",
    "### BEGIN SOLUTION\n",
    "\n",
    "### END SOLUTION\n",
    "\n",
    "# IGNORE EVERYTHING BELOW THIS LINE!!! THANKS!!!\n",
    "\n",
    "def things_and_stuff(some_string):\n",
    "    return \"Here's what you wrote: {}\".format(some_string)\n",
    "out = things_and_stuff(instring)"
   ]
  },
  {
   "cell_type": "code",
   "execution_count": null,
   "metadata": {
    "collapsed": false,
    "nbgrader": {
     "grade": true,
     "grade_id": "q4a_tests",
     "locked": true,
     "points": 20,
     "solution": false
    }
   },
   "outputs": [],
   "source": [
    "assert type(out) == str\n",
    "assert len(out) > 0"
   ]
  },
  {
   "cell_type": "markdown",
   "metadata": {
    "nbgrader": {
     "grade": false,
     "grade_id": "q4b_prompt",
     "locked": true,
     "solution": false
    }
   },
   "source": [
    "### B\n",
    "\n",
    "Here's the bread and butter of the course: you'll be doing your assignments in Jupyter notebooks.\n",
    "\n",
    "With that done, all that's left is to submit your code. Go back to the \"Assignments\" tab. Notice that, in the \"Downloaded assignments\" tab, there's a little arrow next to \"A0\". Click it, and a drop-down will appear with a handy \"Validate\" button on the far right. This button is awesome--it runs all the autograder tests before you even submit! So you automatically know what [autograded] questions work, and which don't. Of course, there can (and will!) still be manually-graded questions, but it should give you a good idea how you're doing.\n",
    "\n",
    "Go ahead and click validate. Provided you followed the directions, you should see this popup:\n",
    "\n",
    "![successkid](http://cs.uga.edu/~squinn/courses/su16/csci1360e/assets/successkid.png)\n",
    "\n",
    "All tests passed, well done! All that's left is to send the assignment back to me so I can officially record your grade. Hit the blue \"Submit\" button on the right. Once it goes through, notice the timestamp that shows up:\n",
    "\n",
    "![timestamp](http://cs.uga.edu/~squinn/courses/su16/csci1360e/assets/timestamp.png)\n",
    "\n",
    "This is the server's officially-recorded time of completion for your assignment. You can submit as many times as you want! Only the last submission will ever be graded.\n",
    "\n",
    "**This step is crucial. If you don't submit, I will have no way of knowing that you completed your assignment.**\n",
    "\n",
    "### Did everything work with submitting A0?"
   ]
  },
  {
   "cell_type": "markdown",
   "metadata": {
    "nbgrader": {
     "grade": true,
     "grade_id": "q4b",
     "locked": false,
     "points": 5,
     "solution": true
    }
   },
   "source": []
  }
 ],
 "metadata": {
  "celltoolbar": "Create Assignment",
  "kernelspec": {
   "display_name": "Python 3",
   "language": "python",
   "name": "python3"
  },
  "language_info": {
   "codemirror_mode": {
    "name": "ipython",
    "version": 3
   },
   "file_extension": ".py",
   "mimetype": "text/x-python",
   "name": "python",
   "nbconvert_exporter": "python",
   "pygments_lexer": "ipython3",
   "version": "3.5.2"
  }
 },
 "nbformat": 4,
 "nbformat_minor": 0
}
