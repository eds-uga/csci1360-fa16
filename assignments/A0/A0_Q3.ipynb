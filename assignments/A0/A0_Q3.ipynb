{
 "cells": [
  {
   "cell_type": "markdown",
   "metadata": {
    "collapsed": true,
    "nbgrader": {
     "grade": false,
     "grade_id": "q3_prompt",
     "locked": true,
     "solution": false
    }
   },
   "source": [
    "# Q3\n",
    "\n",
    "### THIS QUESTION IS OPTIONAL. You do not need to install Python on your machine if you don't want to! Please still fill out the question box below in A.\n",
    "\n",
    "Between mybinder and JupyterHub, you have plenty of online resources at your disposal for running very nice Python environments and testing out small snippets of code. But you don't want \"nice.\" You want the real deal. It's certainly more than possible to ace this course without ever installing Python on your local machine, but just in case you really want to give it a shot...\n",
    "\n",
    "It's pretty easy, actually. Well, if you wanted to install *base* Python, that can be a royal headache; different operating systems (Windows vs Unix), different versions (Python 2 vs Python 3), and how to get that pesky `$PATH` variable to cooperate? Fortunately, my recommendation is *not* to use base Python.\n",
    "\n",
    "Instead, we'll use a Python distribution: **Anaconda**. Anaconda is basically a fully-functional, prepackaged Python distribution that is ready-built for any of the three major operating systems: Windows, OS X, and Linux. It comes with a ton of very useful third-party packages, so (at least in this class) we won't even need to worry about installing anything beyond Anaconda itself. But it also comes with a couple package managers, so even if you wanted or needed extra packages, the tools are already provided. Pretty sweet deal!"
   ]
  },
  {
   "cell_type": "markdown",
   "metadata": {
    "nbgrader": {
     "grade": false,
     "grade_id": "q3a_prompt",
     "locked": true,
     "solution": false
    }
   },
   "source": [
    "### A\n",
    "\n",
    "Go to the Anaconda downloads page: [https://www.continuum.io/downloads](https://www.continuum.io/downloads) . Click on the link for your operating system, and download the graphical installer (you'll most likely want 64-bit).\n",
    "\n",
    "**MAKE SURE YOU DOWNLOAD ANACONDA FOR PYTHON 3**.\n",
    "\n",
    "Once the install is finished, let's test that it worked: Fire up a command prompt / Terminal window. Type `python`.\n",
    "\n",
    "If all is well, you should see exactly what we saw in the JupyterHub terminal.\n",
    "\n",
    "![pythonshell](http://cs.uga.edu/~squinn/courses/su16/csci1360e/assets/pythonshell.png)\n",
    "\n",
    "### In the box below, inform me whether or not you were able to successfully complete A. If you did not attempt A, please mention that as well, and if you're comfortable with it, your reasons why."
   ]
  },
  {
   "cell_type": "markdown",
   "metadata": {
    "nbgrader": {
     "grade": true,
     "grade_id": "q3a",
     "locked": false,
     "points": 25,
     "solution": true
    }
   },
   "source": []
  }
 ],
 "metadata": {
  "celltoolbar": "Create Assignment",
  "kernelspec": {
   "display_name": "Python 3",
   "language": "python",
   "name": "python3"
  },
  "language_info": {
   "codemirror_mode": {
    "name": "ipython",
    "version": 3
   },
   "file_extension": ".py",
   "mimetype": "text/x-python",
   "name": "python",
   "nbconvert_exporter": "python",
   "pygments_lexer": "ipython3",
   "version": "3.5.2"
  }
 },
 "nbformat": 4,
 "nbformat_minor": 0
}
