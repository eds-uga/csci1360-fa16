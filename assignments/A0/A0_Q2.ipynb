{
 "cells": [
  {
   "cell_type": "markdown",
   "metadata": {
    "nbgrader": {
     "grade": false,
     "grade_id": "q2_prompt",
     "locked": true,
     "solution": false
    }
   },
   "source": [
    "# Q2\n",
    "\n",
    "For [yesterdays Lecture 1 slides](http://nbviewer.jupyter.org/github/eds-uga/csci1360-fa16/blob/master/lectures/L1.ipynb), you viewed a live rendering of the Jupyter notebook. The raw notebook itself is a [JSON file](https://en.wikipedia.org/wiki/JSON); not something we really want to have to mess with ourselves. However, the whole point of these fancy Jupyter notebooks is that they're supposed to allow interactivity. What's the point if, in the end, they're just glorified HTML?\n",
    "\n",
    "There are a couple ways we can interactively view the notebook files. In doing so, you have full access to the source of the notebooks. You can change them, edit them, add to them, subtract from them; they're designed this way so, when the lectures start containing Python code, you can run these notebooks interactively, change the code yourself, and re-run it to see what the changes do.\n",
    "\n",
    "There are two ways of running the Jupyter notebooks interactively. If you're not interested in interactive notebooks, you can also download them in your favorite static format. We'll walk through them all."
   ]
  },
  {
   "cell_type": "markdown",
   "metadata": {
    "nbgrader": {
     "grade": false,
     "grade_id": "q2a_prompt",
     "locked": true,
     "solution": false
    }
   },
   "source": [
    "### A\n",
    "\n",
    "[mybinder](http://mybinder.org/) is an awesome service set up by some of the researchers at HHMI Janelia Farms for the expressed purpose of running Jupyter notebooks interactively. Their servers are public, but they're completely free; they're run as a service to the scientific and educational communities.\n",
    "\n",
    "I've already set up the notebooks to be viewed through mybinder, so all you have to do is navigate to the course's GitHub repository:\n",
    "\n",
    "**[https://github.com/eds-uga/csci1360e-su16](https://github.com/eds-uga/csci1360e-su16)**\n",
    "\n",
    "and click the little mybinder button about 2/3 of the way down the page:\n",
    "\n",
    "![mybinder](https://camo.githubusercontent.com/70c5b4d050d4019f4f20b170d75679a9316ac5e5/687474703a2f2f6d7962696e6465722e6f72672f62616467652e737667)\n",
    "\n",
    "After you click the link, **be patient**. The Janelia Farms servers will be spinning up virtual machines to host the Jupyter notebook for you; this can take some time, considering their resources aren't unlimited and this service is used by a lot of people.\n",
    "\n",
    "Eventually, you should see an interface *pretty much identical* to the one you saw in JupyterHub earlier, except with some stuff in it! Click the `\"lectures\"` folder, and then click on `\"L1.ipynb\"` notebook.\n",
    "\n",
    "In just a second, you should see a somewhat familiar sight:\n",
    "\n",
    "![lecture1](http://cs.uga.edu/~squinn/courses/su16/csci1360e/assets/lecture1.png)\n",
    "\n",
    "I saw \"somewhat\", because it looks a tiny bit different. That's the interactivity talking! If you double-click on any part of the notebook, the cell will activate, and you'll be given access to the raw content. For Lecture 1 it's pretty boring; all the content is [Markdown](https://en.wikipedia.org/wiki/Markdown), a type of mark-up language very similar to HTML. You're welcome to change it, tweak it, and add/remove things! After you've made changes, simply make sure the cell you want to re-execute is active, and click the \"Play\" button.\n",
    "\n",
    "### Were you able to get A to work? If so, what are your thoughts on it? If not, what went wrong?"
   ]
  },
  {
   "cell_type": "markdown",
   "metadata": {
    "nbgrader": {
     "grade": true,
     "grade_id": "q2a",
     "locked": false,
     "points": 10,
     "solution": true
    }
   },
   "source": []
  },
  {
   "cell_type": "markdown",
   "metadata": {
    "nbgrader": {
     "grade": false,
     "grade_id": "q2b_prompt",
     "locked": true,
     "solution": false
    }
   },
   "source": [
    "### B\n",
    "\n",
    "mybinder is a really nice service, but it requires an internet connection. That's not always a given. If you want to interact with the notebook content, test out some code, and generally push things around but know you won't have an internet connection, it's possible to host the notebooks locally.\n",
    "\n",
    "**This requires installing Python**. Before proceeding any further, go to the Bonus question at the end for instructions on how to install Python on your local machine.\n",
    "\n",
    "**If you are only interested in STATIC downloads**, such as getting a PDF version of the lecture slides, **skip to part 3 directly below**.\n",
    "\n",
    "If you're still reading, I'll assume you've already installed Python on your machine and tested to make sure it works.\n",
    "\n",
    "First, we'll download the GitHub repository where the notebooks are stored. Go to the GitHub repository: **[https://github.com/eds-uga/csci1360-fa16](https://github.com/eds-uga/csci1360-fa16)**.\n",
    "\n",
    "On the main page, click the green button on the right that says \"Clone or download\", and choose \"Download ZIP\". This will give you a ZIP archive of the entire repository. Extract the archive.\n",
    "\n",
    "Once it's downloaded and extracted, open up a command prompt / Terminal window. *In the command prompt*, navigate to the folder you just downloaded and extracted. This is usually done with the command `cd <foldername>`.\n",
    "\n",
    "When you're in the directory with the `*.ipynb` lecture files (you can test by typing \"`ls`\" if you're using Linux or OS X, or \"`dir`\" if you're using Windows; in either case, running that command should output a list of files in the current directory), run the following command to start up Jupyter:\n",
    "\n",
    "`jupyter notebook`\n",
    "\n",
    "This will spin up a Jupyter server and open up a browser tab in the folder where you issued the command. You should see a window exactly like the one you saw in JupyterHub, this time with the lecture notebooks visible. Simply click on one of the notebooks, and you're up and running!\n",
    "\n",
    "### Were you able to get B to work? If so, what are your thoughts on it? If not, what went wrong?"
   ]
  },
  {
   "cell_type": "markdown",
   "metadata": {
    "nbgrader": {
     "grade": true,
     "grade_id": "q2b",
     "locked": false,
     "points": 10,
     "solution": true
    }
   },
   "source": []
  },
  {
   "cell_type": "markdown",
   "metadata": {
    "nbgrader": {
     "grade": false,
     "grade_id": "q2c_prompt",
     "locked": true,
     "solution": false
    }
   },
   "source": [
    "### C\n",
    "\n",
    "When you're viewing the notebooks interactively, such as through mybinder or locally using Jupyter, you have the option to export them in a variety of different formats. If you want offline access to the lecture slides *but don't care about interactivity*, then you can follow these steps:\n",
    "\n",
    " 1. Start up a notebook using mybinder (as in part 1) **or** locally-hosted Jupyter (as in part 2).\n",
    " 2. Go to \"File\" -> \"Download as\".\n",
    " 3. Select your favorite format! I would recommend PDF, or failing that, HTML.\n",
    " \n",
    "This will provide static renderings of the notebooks for you to view at your leisure. They're completely inert, but if you just want offline access to the content, this is the easiest way.\n",
    "\n",
    "### What is your preferred static format?"
   ]
  },
  {
   "cell_type": "markdown",
   "metadata": {
    "nbgrader": {
     "grade": true,
     "grade_id": "q2c",
     "locked": false,
     "points": 5,
     "solution": true
    }
   },
   "source": []
  }
 ],
 "metadata": {
  "celltoolbar": "Create Assignment",
  "kernelspec": {
   "display_name": "Python 3",
   "language": "python",
   "name": "python3"
  },
  "language_info": {
   "codemirror_mode": {
    "name": "ipython",
    "version": 3
   },
   "file_extension": ".py",
   "mimetype": "text/x-python",
   "name": "python",
   "nbconvert_exporter": "python",
   "pygments_lexer": "ipython3",
   "version": "3.5.2"
  }
 },
 "nbformat": 4,
 "nbformat_minor": 0
}
