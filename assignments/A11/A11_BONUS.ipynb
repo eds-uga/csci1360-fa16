{
 "cells": [
  {
   "cell_type": "markdown",
   "metadata": {
    "nbgrader": {
     "grade": false,
     "grade_id": "bonus_prompt",
     "locked": true,
     "solution": false
    }
   },
   "source": [
    "# BONUS\n",
    "\n",
    "In this question, we'll look at *clustering*, an unsupervised machine learning technique for unlabeled data."
   ]
  },
  {
   "cell_type": "markdown",
   "metadata": {
    "nbgrader": {
     "grade": false,
     "grade_id": "ba_prompt",
     "locked": true,
     "solution": false
    }
   },
   "source": [
    "### A\n",
    "\n",
    "In this part, you'll compare two different clustering algorithms on two different datasets.\n",
    "\n",
    "First, you'll use **K-Means** to cluster the data. [The documentation is here.](http://scikit-learn.org/stable/modules/generated/sklearn.cluster.KMeans.html#sklearn.cluster.KMeans) Some relevant points include:\n",
    " - You'll set the number of clusters as `n_clusters`.\n",
    " - You fit the data using the `fit()` method.\n",
    "\n",
    "Second, you'll use **Spectral Clustering** to cluster the data. [The documentation is here.](http://scikit-learn.org/stable/modules/generated/sklearn.cluster.SpectralClustering.html#sklearn.cluster.SpectralClustering) The arguments and methods are the same as K-Means.\n",
    "\n",
    "Third, you'll test both methods on **two datasets: `X1` and `X2`**.\n",
    " - Both datasets have 100 data points, and are 2-dimensional.\n",
    " - `X1` has 3 clusters. `X2` has only 2.\n",
    " \n",
    "Fourth, you'll call `predict()` with the same dataset on which you called `fit()` in order to predict what cluster each point belongs to. This will return a vector `y` with the predictions. **Plot the 2D data and color the points using the predicted vector to see how the points are clustered.**"
   ]
  },
  {
   "cell_type": "code",
   "execution_count": null,
   "metadata": {
    "collapsed": true,
    "nbgrader": {
     "grade": true,
     "grade_id": "ba",
     "locked": false,
     "points": 20,
     "solution": true
    }
   },
   "outputs": [],
   "source": [
    "%matplotlib inline\n",
    "import matplotlib.pyplot as plt\n",
    "import numpy as np\n",
    "import sklearn.cluster as cluster\n",
    "import sklearn.datasets as datasets\n",
    "\n",
    "np.random.seed(342585)\n",
    "X1, _ = datasets.make_blobs(shuffle = False)   # DATASET 1: there are 3 clusters\n",
    "X2, _ = datasets.make_circles(shuffle = False) # DATASET 2: there are 2 clusters\n",
    "\n",
    "### BEGIN SOLUTION\n",
    "\n",
    "### END SOLUTION"
   ]
  },
  {
   "cell_type": "markdown",
   "metadata": {
    "nbgrader": {
     "grade": false,
     "grade_id": "bb_prompt",
     "locked": true,
     "solution": false
    }
   },
   "source": [
    "### B\n",
    "\n",
    "Mention at the beginning of your answer whether or not you successfully completed Part A above, then continue:\n",
    "\n",
    "**If you did Part A**: Discuss your results. How do the two algorithms differ, if at all? Can you speculate as to the relative complexities of the two algorithms? Do you have any ideas for when you might use one over the other?\n",
    "\n",
    "**If you did NOT do Part A**: Read the [K-means](http://scikit-learn.org/stable/modules/clustering.html#k-means) and [spectral clustering](http://scikit-learn.org/stable/modules/clustering.html#spectral-clustering) sections of the scikit-learn user guide. What are the strengths and weaknesses of the two algorithms? Under what circumstances would you advise using one over the other?"
   ]
  },
  {
   "cell_type": "markdown",
   "metadata": {
    "nbgrader": {
     "grade": true,
     "grade_id": "bb",
     "locked": false,
     "points": 10,
     "solution": true
    }
   },
   "source": []
  }
 ],
 "metadata": {
  "celltoolbar": "Create Assignment",
  "kernelspec": {
   "display_name": "Python 3",
   "language": "python",
   "name": "python3"
  },
  "language_info": {
   "codemirror_mode": {
    "name": "ipython",
    "version": 3
   },
   "file_extension": ".py",
   "mimetype": "text/x-python",
   "name": "python",
   "nbconvert_exporter": "python",
   "pygments_lexer": "ipython3",
   "version": "3.5.2"
  }
 },
 "nbformat": 4,
 "nbformat_minor": 0
}
