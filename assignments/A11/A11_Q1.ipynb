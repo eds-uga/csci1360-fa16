{
 "cells": [
  {
   "cell_type": "markdown",
   "metadata": {
    "nbgrader": {
     "grade": false,
     "grade_id": "q1_prompt",
     "locked": true,
     "solution": false
    }
   },
   "source": [
    "# Q1\n",
    "\n",
    "In this question, you'll design a very simple classifier to work on a real-world dataset.\n",
    "\n",
    "The [*iris dataset*](http://scikit-learn.org/stable/modules/generated/sklearn.datasets.load_iris.html#sklearn.datasets.load_iris) is a general-purpose dataset for classification. It consists of **150 total data points**, with 3 different classes (50 data points per class). Each data point is 4-dimensional.\n",
    "\n",
    "The data are flower observations. The four dimensions, or *features*, are respectively:\n",
    " - sepal length (cm)\n",
    " - sepal width (cm)\n",
    " - petal length (cm)\n",
    " - petal width (cm)\n",
    " \n",
    "The class is one of the following three: setosa, versicolor, or virginica. These classes are represented by 0, 1, and 2, respectively."
   ]
  },
  {
   "cell_type": "markdown",
   "metadata": {
    "nbgrader": {
     "grade": false,
     "grade_id": "q1a_prompt",
     "locked": true,
     "solution": false
    }
   },
   "source": [
    "### A\n",
    "\n",
    "In this part, you'll plot the data that you're going to use in the classification task. This is purely to familiarize you with the data that you'll be classifying in the next step.\n",
    "\n",
    "In the block of code below, all the imports you'll need are given. Furthermore, the raw dataset is extracted using `datasets.load_iris()`. However, the resulting object `iris` is a dictionary with lots of extraneous information: the keys are \"`target_names`\", \"`target`\", \"`DESCR`\", \"`feature_names`\", and \"`data`\". Furthermore, for the classification task, we won't be using the full Iris dataset, but rather a 2D subset of it.\n",
    "\n",
    "In your code:\n",
    "\n",
    " 1. Define two variables: `X` (the data) and `y` (the target variables, or classes).\n",
    "   - `X` should have shape (150, 2) and `y` should have shape (150,).\n",
    "   - `X` will be all the rows and the *first two columns* of the full Iris dataset.\n",
    "   - `y` should consist only of 150 integer numbers that are all either 0, 1, or 2.\n",
    " 2. Create a 2D scatter plot of `X`.\n",
    " 3. Color each dot in `X` of the scatter plot by the appropriate class, as specified in `y`.\n",
    "\n",
    "You should already have all the `import` statements you need, but feel free to import anything else you may need."
   ]
  },
  {
   "cell_type": "code",
   "execution_count": null,
   "metadata": {
    "collapsed": true,
    "nbgrader": {
     "grade": true,
     "grade_id": "q1a",
     "locked": false,
     "points": 5,
     "solution": true
    }
   },
   "outputs": [],
   "source": [
    "%matplotlib inline\n",
    "import matplotlib.pyplot as plt\n",
    "import numpy as np\n",
    "import sklearn.datasets as datasets\n",
    "import seaborn as sns\n",
    "\n",
    "iris = datasets.load_iris()\n",
    "\n",
    "### BEGIN SOLUTION\n",
    "\n",
    "### END SOLUTION"
   ]
  },
  {
   "cell_type": "markdown",
   "metadata": {
    "nbgrader": {
     "grade": false,
     "grade_id": "q1b_prompt",
     "locked": true,
     "solution": false
    }
   },
   "source": [
    "### B\n",
    "\n",
    "In this part, you'll write a classifier to predict the flower type (setosa, versicolor, or virginica) given the four features. It's the simplest possible classifier: a *k-nearest neighbor* classifier, or \"KNN\".\n",
    "\n",
    "KNN classifiers work by classifying a new data point according to what other data it's closest to. If the majority of the nearby points belong to a particular class, the new data point takes that class.\n",
    "\n",
    "How many neighbors do we consider? That's the \"K\" in \"KNN\". If we choose `k = 5`, then we look at the 5 nearest data points to the new data point, take a majority vote of those 5 data points' classes, and assign that majority class to the new data point.\n",
    "\n",
    "Using the Iris dataset: imagine a new data point comes into the 2D plot we had in the last problem, and `k = 3`. If 2 of the 3 nearest neighbors belong to class 0 (setosa) and the other one belongs to class 1 (versicolor), then we assign the new data point to be class 0.\n",
    "\n",
    "`scikit-learn` has already done the heavy lifting of writing all the code to implement nearest neighbors in Python. You just have to *train* and *test* the KNN classifier.\n",
    "\n",
    "In your code:\n",
    "\n",
    " - Define a function `train_knn()`.\n",
    " - `train_knn` should take 3 arguments: a data matrix `X`, a target array `y`, and a number of nearest neighbors `k`.\n",
    " - It should return a trained KNN model.\n",
    "\n",
    "Your function should 1) create a KNN model, initialized with the correct number of neighbors, and 2) train (or *fit*) the model with a dataset and its labels. Look at the [scikit-learn documentation for K-Nearest Neighbors](http://scikit-learn.org/stable/modules/generated/sklearn.neighbors.KNeighborsClassifier.html#sklearn.neighbors.KNeighborsClassifier)."
   ]
  },
  {
   "cell_type": "code",
   "execution_count": null,
   "metadata": {
    "collapsed": true,
    "nbgrader": {
     "grade": false,
     "grade_id": "q1b",
     "locked": false,
     "solution": true
    }
   },
   "outputs": [],
   "source": [
    "import sklearn.neighbors as neighbors\n",
    "\n",
    "### BEGIN SOLUTION\n",
    "\n",
    "### END SOLUTION"
   ]
  },
  {
   "cell_type": "code",
   "execution_count": null,
   "metadata": {
    "collapsed": true,
    "nbgrader": {
     "grade": true,
     "grade_id": "q1b_test1",
     "locked": true,
     "points": 5,
     "solution": false
    }
   },
   "outputs": [],
   "source": [
    "try:\n",
    "    train_knn\n",
    "except:\n",
    "    assert False\n",
    "else:\n",
    "    assert True"
   ]
  },
  {
   "cell_type": "code",
   "execution_count": null,
   "metadata": {
    "collapsed": true,
    "nbgrader": {
     "grade": true,
     "grade_id": "q1b_test2",
     "locked": true,
     "points": 10,
     "solution": false
    }
   },
   "outputs": [],
   "source": [
    "np.random.seed(23843)\n",
    "X = np.random.random((10, 2))\n",
    "y = np.random.randint(2, size = 10)\n",
    "\n",
    "m1 = train_knn(X, y, 3)\n",
    "assert m1.n_neighbors == 3\n",
    "\n",
    "x = m1.kneighbors()[1]\n",
    "assert set(x[0].tolist()) == set([3, 6, 8])\n",
    "\n",
    "m2 = train_knn(X, y, 11)\n",
    "assert m2.n_neighbors == 11\n",
    "try:\n",
    "    m2.kneighbors()\n",
    "except ValueError:\n",
    "    assert True\n",
    "else:\n",
    "    assert False"
   ]
  },
  {
   "cell_type": "markdown",
   "metadata": {
    "nbgrader": {
     "grade": false,
     "grade_id": "q1c_prompt",
     "locked": true,
     "solution": false
    }
   },
   "source": [
    "### C\n",
    "\n",
    "In this part, you'll write an accompanying function to test the classification accuracy of your trained model.\n",
    "\n",
    "In your code:\n",
    "\n",
    " - Define a function `test_knn()`.\n",
    " - `test_knn` should take 3 arguments:  a data matrix `X`, a target array `y`, and a trained KNN model. It should return a prediction accuracy between 0 (completely incorrect) and 1 (completely correct).\n",
    " \n",
    "Your function can use the `score()` method available on the KNN model. Look at the [scikit-learn documentation for K-Nearest Neighbors](http://scikit-learn.org/stable/modules/generated/sklearn.neighbors.KNeighborsClassifier.html#sklearn.neighbors.KNeighborsClassifier)."
   ]
  },
  {
   "cell_type": "code",
   "execution_count": null,
   "metadata": {
    "collapsed": true,
    "nbgrader": {
     "grade": false,
     "grade_id": "q1c",
     "locked": false,
     "solution": true
    }
   },
   "outputs": [],
   "source": []
  },
  {
   "cell_type": "code",
   "execution_count": null,
   "metadata": {
    "collapsed": true,
    "nbgrader": {
     "grade": true,
     "grade_id": "q1c_test1",
     "locked": true,
     "points": 5,
     "solution": false
    }
   },
   "outputs": [],
   "source": [
    "try:\n",
    "    test_knn\n",
    "except:\n",
    "    assert False\n",
    "else:\n",
    "    assert True"
   ]
  },
  {
   "cell_type": "code",
   "execution_count": null,
   "metadata": {
    "collapsed": true,
    "nbgrader": {
     "grade": true,
     "grade_id": "q1c_test2",
     "locked": true,
     "points": 10,
     "solution": false
    }
   },
   "outputs": [],
   "source": [
    "np.random.seed(65456)\n",
    "X = np.random.random((10, 2))\n",
    "y = np.random.randint(2, size = 10)\n",
    "\n",
    "m1 = train_knn(X[:8], y[:8], 3)\n",
    "acc1 = test_knn(X[8:], y[8:], m1)\n",
    "np.testing.assert_allclose(acc1, 0.0)\n",
    "\n",
    "m2 = train_knn(X[2:], y[2:], 1)\n",
    "acc2 = test_knn(X[:2], y[:2], m2)\n",
    "np.testing.assert_allclose(acc2, 0.5)"
   ]
  },
  {
   "cell_type": "markdown",
   "metadata": {
    "nbgrader": {
     "grade": false,
     "grade_id": "q1d_prompt",
     "locked": true,
     "solution": false
    }
   },
   "source": [
    "### D\n",
    "\n",
    "In this part, you'll test the functions you just wrote and see what value of `k` gives you the best classifier!\n",
    "\n",
    "Using the Iris data from Part A, slice out corresponding subsets from `X` and `y` for training and for testing. Change the relative sizes of the training and testing sets. Vary the value of `k`. Show your work!\n",
    "\n",
    "Remember:\n",
    " - Any data you *don't* use in your training set, you'll use in your testing set. In this way, you use the whole dataset for training + testing.\n",
    " - You may want to focus on using odd values of `k`, otherwise you'll potentially have tie votes that are broken arbitrarily.\n",
    " - Feel free to import any packages you may want. No other packages are required, and no plots are needed, though you're welcome to make any you'd like."
   ]
  },
  {
   "cell_type": "code",
   "execution_count": null,
   "metadata": {
    "collapsed": true,
    "nbgrader": {
     "grade": true,
     "grade_id": "q1d",
     "locked": false,
     "points": 15,
     "solution": true
    }
   },
   "outputs": [],
   "source": []
  },
  {
   "cell_type": "markdown",
   "metadata": {
    "nbgrader": {
     "grade": false,
     "grade_id": "q1e_prompt",
     "locked": true,
     "solution": false
    }
   },
   "source": [
    "### E\n",
    "\n",
    "Describe your findings from Part D. What effect did the size of the training set (and, therefore, the testing set) have on the classification accuracy of your KNN model? What effect did the value of `k` have on your classification accuracy? Explain these behaviors, along with any other thoughts you may have on the process."
   ]
  },
  {
   "cell_type": "markdown",
   "metadata": {
    "nbgrader": {
     "grade": true,
     "grade_id": "q1e",
     "locked": false,
     "points": 10,
     "solution": true
    }
   },
   "source": []
  }
 ],
 "metadata": {
  "celltoolbar": "Create Assignment",
  "kernelspec": {
   "display_name": "Python 3",
   "language": "python",
   "name": "python3"
  },
  "language_info": {
   "codemirror_mode": {
    "name": "ipython",
    "version": 3
   },
   "file_extension": ".py",
   "mimetype": "text/x-python",
   "name": "python",
   "nbconvert_exporter": "python",
   "pygments_lexer": "ipython3",
   "version": "3.5.2"
  }
 },
 "nbformat": 4,
 "nbformat_minor": 0
}
