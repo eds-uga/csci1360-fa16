{
 "cells": [
  {
   "cell_type": "markdown",
   "metadata": {
    "nbgrader": {
     "grade": false,
     "grade_id": "q4_prompt",
     "locked": true,
     "solution": false
    }
   },
   "source": [
    "# Q4\n",
    "\n",
    "Exception handling."
   ]
  },
  {
   "cell_type": "markdown",
   "metadata": {
    "nbgrader": {
     "grade": false,
     "grade_id": "q4a_prompt",
     "locked": true,
     "solution": false
    }
   },
   "source": [
    "### A\n",
    "\n",
    "In this question, you'll write an error handler for a function that *almost always* fails, `will_it_blend`.\n",
    "\n",
    "Your function will be called `will_it_blend_safely`\n",
    "\n",
    " - takes no arguments\n",
    " - returns `True` if `will_it_blend` doesn't throw any exceptions, `False` otherwise\n",
    "\n",
    "You cannot use any built-in Python functions."
   ]
  },
  {
   "cell_type": "code",
   "execution_count": null,
   "metadata": {
    "collapsed": true,
    "nbgrader": {
     "grade": false,
     "grade_id": "q4a",
     "locked": false,
     "solution": true
    }
   },
   "outputs": [],
   "source": [
    "import numpy as np\n",
    "\n",
    "def will_it_blend():\n",
    "    errors = [ValueError, AssertionError, AttributeError, ImportError, IndexError, KeyError, NameError, RuntimeError, TypeError]\n",
    "    error_index = np.random.randint(0, len(errors) + 1)\n",
    "    if error_index == len(errors):\n",
    "        return 0\n",
    "    else:\n",
    "        raise errors[error_index]\n",
    "        \n",
    "# Don't touch anything above this line.\n",
    "# YOUR FUNCTION HERE\n",
    "\n",
    "### BEGIN SOLUTION\n",
    "\n",
    "### END SOLUTION"
   ]
  },
  {
   "cell_type": "code",
   "execution_count": null,
   "metadata": {
    "collapsed": true,
    "nbgrader": {
     "grade": true,
     "grade_id": "q4a_test",
     "locked": true,
     "points": 10,
     "solution": false
    }
   },
   "outputs": [],
   "source": [
    "np.random.seed(4545)\n",
    "for i in range(5):\n",
    "    assert not will_it_blend_safely()\n",
    "assert will_it_blend_safely()\n",
    "\n",
    "np.random.seed(574738)\n",
    "assert will_it_blend_safely()"
   ]
  },
  {
   "cell_type": "markdown",
   "metadata": {
    "nbgrader": {
     "grade": false,
     "grade_id": "q4b_prompt",
     "locked": true,
     "solution": false
    }
   },
   "source": [
    "### B\n",
    "\n",
    "In this question, you'll write a new function, `will_it_blend_more_safely`, which changes its behavior based on the *specific* error that `will_it_blend` throws.\n",
    "\n",
    " - takes a variable number of arguments: names of Python errors\n",
    " - returns `True` if `will_it_blend` throws an error, *AND* that error is included in the argument list of `will_it_blend_more_safely`; `False` otherwise\n",
    " \n",
    "You won't derive any help from using your solution in Part A; you're implementing a function that's similar but doesn't use the same underlying principle.\n",
    "\n",
    "You can't use any built-in Python functions."
   ]
  },
  {
   "cell_type": "code",
   "execution_count": null,
   "metadata": {
    "collapsed": true,
    "nbgrader": {
     "grade": false,
     "grade_id": "q4b",
     "locked": false,
     "solution": true
    }
   },
   "outputs": [],
   "source": []
  },
  {
   "cell_type": "code",
   "execution_count": null,
   "metadata": {
    "collapsed": true,
    "nbgrader": {
     "grade": true,
     "grade_id": "q4b_test",
     "locked": true,
     "points": 10,
     "solution": false
    }
   },
   "outputs": [],
   "source": [
    "np.random.seed(84552)\n",
    "assert not will_it_blend_more_safely(ZeroDivisionError, AttributeError)\n",
    "assert will_it_blend_more_safely(AttributeError, NameError, UnicodeError)\n",
    "\n",
    "np.random.seed(75284)\n",
    "assert will_it_blend_more_safely(KeyError, NameError, RuntimeError, TypeError)\n",
    "assert will_it_blend_more_safely(KeyError, NameError, RuntimeError, TypeError)\n",
    "assert not will_it_blend_more_safely(KeyError, NameError, RuntimeError, TypeError)"
   ]
  }
 ],
 "metadata": {
  "anaconda-cloud": {},
  "celltoolbar": "Create Assignment",
  "kernelspec": {
   "display_name": "Python [default]",
   "language": "python",
   "name": "python3"
  },
  "language_info": {
   "codemirror_mode": {
    "name": "ipython",
    "version": 3
   },
   "file_extension": ".py",
   "mimetype": "text/x-python",
   "name": "python",
   "nbconvert_exporter": "python",
   "pygments_lexer": "ipython3",
   "version": "3.5.2"
  }
 },
 "nbformat": 4,
 "nbformat_minor": 0
}
