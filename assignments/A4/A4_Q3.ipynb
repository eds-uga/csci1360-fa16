{
 "cells": [
  {
   "cell_type": "markdown",
   "metadata": {
    "nbgrader": {
     "grade": false,
     "grade_id": "q3_prompt",
     "locked": true,
     "solution": false
    }
   },
   "source": [
    "# Q3\n",
    "\n",
    "While loops, conditionals, and loop control statements."
   ]
  },
  {
   "cell_type": "markdown",
   "metadata": {
    "nbgrader": {
     "grade": false,
     "grade_id": "q3a_prompt",
     "locked": true,
     "solution": false
    }
   },
   "source": [
    "### A\n",
    "\n",
    "Write a function `sum_of_list` which simply computes the cumulative sum of all the numbers in a list.\n",
    "\n",
    " - takes 1 argument: a list of numbers\n",
    " - returns 1 number: the sum of all the numbers\n",
    " \n",
    "You cannot use any built-in functions."
   ]
  },
  {
   "cell_type": "code",
   "execution_count": null,
   "metadata": {
    "collapsed": true,
    "nbgrader": {
     "grade": false,
     "grade_id": "q3a",
     "locked": false,
     "solution": true
    }
   },
   "outputs": [],
   "source": []
  },
  {
   "cell_type": "code",
   "execution_count": null,
   "metadata": {
    "collapsed": true,
    "nbgrader": {
     "grade": true,
     "grade_id": "q3a_test",
     "locked": true,
     "points": 5,
     "solution": false
    }
   },
   "outputs": [],
   "source": [
    "import numpy as np\n",
    "np.random.seed(65537)\n",
    "\n",
    "i1 = np.random.random(100)\n",
    "np.testing.assert_allclose(i1.sum(), sum_of_list(i1.tolist()))\n",
    "\n",
    "i2 = np.random.random(10)\n",
    "np.testing.assert_allclose(i2.sum(), sum_of_list(i2.tolist()))"
   ]
  },
  {
   "cell_type": "markdown",
   "metadata": {
    "nbgrader": {
     "grade": false,
     "grade_id": "q3b_prompt",
     "locked": true,
     "solution": false
    }
   },
   "source": [
    "### B\n",
    "\n",
    "Write a function `unordered_percentile` which determines the element of an input list that is the first to fall within a certain *percentile* of values.\n",
    "\n",
    " - takes 2 arguments: a list of numbers, and a floating-point percentile value (between 0 and 100)\n",
    " - returns an integer, corresponding to the index in the input list of the first number to exceed the specified percentile\n",
    " \n",
    "A percentile is sort of like an average; more concretely, it's like a median--in fact, the *median* is the 50th percentile, meaning 50% of the numbers are below it and 50% are above it. Likewise, if some data point is in the 95th percentile, this means 95% of the data is *less* than the specific point in question.\n",
    "\n",
    "As you can infer, this normally presumes the data are sorted. Here, we're not sorting the list beforehand, hence `unordered`. So we're computing percentile based on *observed* data, from left to right in the list. As you move left to right, you're computing a sum over the numbers, and once your sum exceeds the given percentile, return that index in the list where it happened.\n",
    "\n",
    "For example, if you have an input list `[5, 4, 3, 2, 1]` and percentile value of `90`, the function would return `3`, as the index 3 (with the number `2`) is the first to cross the 90th percentile threshold. If, however, the list were reversed (`[1, 2, 3, 4, 5]`) with the same percentile value (`90`), the function would return `4` (corresponding to the number `5`), since the cumulative sum doesn't cross the 90th percentile until the very last value.\n",
    "\n",
    "Use your function `sum_of_list` from Part A to help."
   ]
  },
  {
   "cell_type": "code",
   "execution_count": null,
   "metadata": {
    "collapsed": true,
    "nbgrader": {
     "grade": false,
     "grade_id": "q3b",
     "locked": false,
     "solution": true
    }
   },
   "outputs": [],
   "source": []
  },
  {
   "cell_type": "code",
   "execution_count": null,
   "metadata": {
    "collapsed": true,
    "nbgrader": {
     "grade": true,
     "grade_id": "q3b_test",
     "locked": true,
     "points": 5,
     "solution": false
    }
   },
   "outputs": [],
   "source": [
    "i1 = [5, 4, 3, 2, 1]\n",
    "p1 = 90\n",
    "a1 = 3\n",
    "assert a1 == unordered_percentile(i1, p1)\n",
    "\n",
    "i2 = [1, 2, 3, 4, 5]\n",
    "p2 = 90\n",
    "a2 = 4\n",
    "assert a2 == unordered_percentile(i2, p2)\n",
    "\n",
    "i3 = [12, 46, 50, 54, 27,  8, 45, 39, 25, 37]\n",
    "p3 = 50\n",
    "a3 = 4\n",
    "assert a3 == unordered_percentile(i3, p3)"
   ]
  },
  {
   "cell_type": "markdown",
   "metadata": {
    "nbgrader": {
     "grade": false,
     "grade_id": "q3c_prompt",
     "locked": true,
     "solution": false
    }
   },
   "source": [
    "### C\n",
    "\n",
    "Write a function `ordered_percentile`, which does the same thing as the function you wrote in Part B, except it first sorts the list in ascending order, then computes the percentile index.\n",
    "\n",
    " - takes 2 arguments: a list of numbers, and a floating-point percentile value (between 0 and 100)\n",
    " - returns an integer, corresponding to the index in the input list of the first number to exceed the specified percentile\n",
    " \n",
    "Percentile is computed exactly as before, but you'll need to sort the list beforehand. *Hint*: `list` objects in Python have an in-place [`sort()` method](https://docs.python.org/3.5/tutorial/datastructures.html#more-on-lists) you can use.\n",
    "\n",
    "The important point here is that you need to return the index **in the original, unsorted input list** of the number that crosses the percentile threshold. For example, with an input list `[5, 4, 3, 2, 1]` and percentile value of `90`, I'd first need to sort the list (`[1, 2, 3, 4, 5]`), then find the value which crossed the 90th percentile (`4`), then find the index of that number in the **original, unsorted list** and return that. In this case, that would be index 1.\n",
    "\n",
    "Other than `sort()`, you cannot use any built-in functions.\n",
    "\n",
    "*Hint*: you can make very handy use of your function from Part B here to vastly simplify the problem."
   ]
  },
  {
   "cell_type": "code",
   "execution_count": null,
   "metadata": {
    "collapsed": true,
    "nbgrader": {
     "grade": false,
     "grade_id": "q3c",
     "locked": false,
     "solution": true
    }
   },
   "outputs": [],
   "source": []
  },
  {
   "cell_type": "code",
   "execution_count": null,
   "metadata": {
    "collapsed": true,
    "nbgrader": {
     "grade": true,
     "grade_id": "q3c_test",
     "locked": true,
     "points": 5,
     "solution": false
    }
   },
   "outputs": [],
   "source": [
    "i1 = [5, 4, 3, 2, 1]\n",
    "p1 = 90\n",
    "a1 = 0\n",
    "assert a1 == ordered_percentile(i1, p1)\n",
    "\n",
    "i2 = [1, 2, 3, 4, 5]\n",
    "p2 = 90\n",
    "a2 = 4\n",
    "assert a2 == ordered_percentile(i2, p2)\n",
    "\n",
    "i3 = [12, 46, 50, 54, 27,  8, 45, 39, 25, 37]\n",
    "p3 = 50\n",
    "a3 = 6\n",
    "assert a3 == ordered_percentile(i3, p3)"
   ]
  },
  {
   "cell_type": "markdown",
   "metadata": {
    "nbgrader": {
     "grade": false,
     "grade_id": "q3d_prompt",
     "locked": true,
     "solution": false
    }
   },
   "source": [
    "### D\n",
    "\n",
    "Write a function `invariant_percentile` which determines if the percentile of a given list of numbers is the same, regardless of whether the list is ordered or unordered.\n",
    "\n",
    " - takes 2 arguments: a list of numbers, and a floating-point value between 0 and 100 to indicate the percentile threshold\n",
    " - returns `True` if the percentile value is the same whether the list is ordered or unordered, `False` otherwise\n",
    " \n",
    "In this function, you'll need to compute both the unordered and ordered percentiles of the input list (feel free to use your solutions from Part B and Part C!) and see if the resulting value that crosses the percentile threshold is the same. If so, return `True`; if not, return `False`.\n",
    "\n",
    "For example, the list `[5, 4, 3, 2, 1]` with a percentile of `60` would be `True`: in the unordered (original) input list, the `4` would cross the 60th percentile, while in the ordered list (`[1, 2, 3, 4, 5]`), the `4` would still be the value that crosses the 60th percentile."
   ]
  },
  {
   "cell_type": "code",
   "execution_count": null,
   "metadata": {
    "collapsed": true,
    "nbgrader": {
     "grade": false,
     "grade_id": "q3d",
     "locked": false,
     "solution": true
    }
   },
   "outputs": [],
   "source": []
  },
  {
   "cell_type": "code",
   "execution_count": null,
   "metadata": {
    "collapsed": true,
    "nbgrader": {
     "grade": true,
     "grade_id": "q3d_test",
     "locked": true,
     "points": 5,
     "solution": false
    }
   },
   "outputs": [],
   "source": [
    "i1 = [5, 4, 3, 2, 1]\n",
    "p1 = 60\n",
    "assert invariant_percentile(i1, p1)\n",
    "\n",
    "i2 = [5, 4, 3, 2, 1]\n",
    "p2 = 90\n",
    "assert not invariant_percentile(i2, p2)\n",
    "\n",
    "i3 = [12, 46, 50, 54, 27,  8, 45, 39, 25, 37]\n",
    "p3 = 3\n",
    "assert invariant_percentile(i3, p3)"
   ]
  }
 ],
 "metadata": {
  "anaconda-cloud": {},
  "celltoolbar": "Create Assignment",
  "kernelspec": {
   "display_name": "Python [default]",
   "language": "python",
   "name": "python3"
  },
  "language_info": {
   "codemirror_mode": {
    "name": "ipython",
    "version": 3
   },
   "file_extension": ".py",
   "mimetype": "text/x-python",
   "name": "python",
   "nbconvert_exporter": "python",
   "pygments_lexer": "ipython3",
   "version": "3.5.2"
  }
 },
 "nbformat": 4,
 "nbformat_minor": 0
}
