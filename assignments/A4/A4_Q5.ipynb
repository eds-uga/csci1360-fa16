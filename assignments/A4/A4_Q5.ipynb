{
 "cells": [
  {
   "cell_type": "markdown",
   "metadata": {
    "nbgrader": {
     "grade": false,
     "grade_id": "q5_prompt",
     "locked": true,
     "solution": false
    }
   },
   "source": [
    "# Q5\n",
    "\n",
    "In this question, we'll dive into some object-oriented programming in Python."
   ]
  },
  {
   "cell_type": "markdown",
   "metadata": {
    "nbgrader": {
     "grade": false,
     "grade_id": "q5a_prompt",
     "locked": true,
     "solution": false
    }
   },
   "source": [
    "### A\n",
    "\n",
    "In this part, you'll design a class to represent dice. Your class should behave as follows:\n",
    "\n",
    " - named `Dice`\n",
    " - has a constructor with 1 argument: number of sides of the dice\n",
    " - the number of sides defaults to 6\n",
    " - has a `roll` method, which rolls a random number between 1 and the number of sides (inclusive) and returns that number\n",
    " - has a `getRolls` method, which returns a dictionary of counts of all the rolls that have been made so far\n",
    " - has a `getSides` method, which returns the number of sides of the dice\n",
    " \n",
    "You'll need Python's built-in `random` package for the random number generator. You can import the package by typing `import random`. To generate a random number between `a` and `b` inclusive, run `random.randint(a, b)`. You cannot use any other built-in Python functions."
   ]
  },
  {
   "cell_type": "code",
   "execution_count": null,
   "metadata": {
    "collapsed": true,
    "nbgrader": {
     "grade": false,
     "grade_id": "q5a",
     "locked": false,
     "solution": true
    }
   },
   "outputs": [],
   "source": []
  },
  {
   "cell_type": "code",
   "execution_count": null,
   "metadata": {
    "collapsed": true,
    "nbgrader": {
     "grade": true,
     "grade_id": "q5a_test",
     "locked": true,
     "points": 10,
     "solution": false
    }
   },
   "outputs": [],
   "source": [
    "from collections import Counter\n",
    "\n",
    "d1 = Dice()\n",
    "i1 = [d1.roll() for i in range(100)]\n",
    "a1 = Counter(i1)\n",
    "o1 = d1.getRolls()\n",
    "for k, v in a1.items():\n",
    "    assert v == o1[k]\n",
    "    \n",
    "d2 = Dice(2)\n",
    "i2 = [d2.roll() for i in range(100)]\n",
    "assert 1 in i2 or 2 in i2\n",
    "assert 3 not in i2 and 0 not in i2\n",
    "assert 2 == d2.getSides()"
   ]
  },
  {
   "cell_type": "markdown",
   "metadata": {
    "nbgrader": {
     "grade": false,
     "grade_id": "q5b_prompt",
     "locked": true,
     "solution": false
    }
   },
   "source": [
    "### B\n",
    "\n",
    "Write a function `rolls_needed` which determines how many times you need to roll a single dice before a particular number comes up.\n",
    "\n",
    " - takes 2 arguments: a Dice object, and the number you want to roll to obtain\n",
    " - returns 1 integer: the number of times the dice was rolled before producing the requested number\n",
    " \n",
    "For example, if the Dice was only 1-sided and the request was the number `1`, then it would would only require 1 roll to obtain. If the dice was 2-sided and the request was the number `2`, it would take roughly 1.5 rolls to obtain (though you would return the integer count, since you're only doing this once).\n",
    "\n",
    "If the request number is invalid for any reason, you should throw a `ValueError`.\n",
    "\n",
    "You cannot use any built-in Python functions."
   ]
  },
  {
   "cell_type": "code",
   "execution_count": null,
   "metadata": {
    "collapsed": true,
    "nbgrader": {
     "grade": false,
     "grade_id": "q5b",
     "locked": false,
     "solution": true
    }
   },
   "outputs": [],
   "source": []
  },
  {
   "cell_type": "code",
   "execution_count": null,
   "metadata": {
    "collapsed": true,
    "nbgrader": {
     "grade": true,
     "grade_id": "q5b_test",
     "locked": true,
     "points": 10,
     "solution": false
    }
   },
   "outputs": [],
   "source": [
    "d1 = Dice(1)\n",
    "r1 = 1\n",
    "assert 1 == rolls_needed(d1, r1)\n",
    "\n",
    "d2 = Dice()\n",
    "r2 = 0\n",
    "try:\n",
    "    rolls_needed(d2, r2)\n",
    "except ValueError:\n",
    "    assert True\n",
    "else:\n",
    "    assert False"
   ]
  }
 ],
 "metadata": {
  "anaconda-cloud": {},
  "celltoolbar": "Create Assignment",
  "kernelspec": {
   "display_name": "Python [default]",
   "language": "python",
   "name": "python3"
  },
  "language_info": {
   "codemirror_mode": {
    "name": "ipython",
    "version": 3
   },
   "file_extension": ".py",
   "mimetype": "text/x-python",
   "name": "python",
   "nbconvert_exporter": "python",
   "pygments_lexer": "ipython3",
   "version": "3.5.2"
  }
 },
 "nbformat": 4,
 "nbformat_minor": 0
}
