{
 "cells": [
  {
   "cell_type": "markdown",
   "metadata": {
    "nbgrader": {
     "grade": false,
     "grade_id": "bonus_prompt",
     "locked": true,
     "solution": false
    }
   },
   "source": [
    "# BONUS\n",
    "\n",
    "These questions are all-or-nothing."
   ]
  },
  {
   "cell_type": "markdown",
   "metadata": {
    "nbgrader": {
     "grade": false,
     "grade_id": "ba_prompt",
     "locked": true,
     "solution": false
    }
   },
   "source": [
    "### A\n",
    "\n",
    "Write a function, `enhanced_average`, which computes the average of a list of numbers, with some tweaks.\n",
    "\n",
    " - Takes 2 arguments. 1 is required: the list of numbers. The second is optional: it's a list of weights (named **`weights`**) for the required list of numbers. If provided, it should be the same length as the required list. In that case, it should be used to compute a weighted average. If it's not provided, the average should be computed normally.\n",
    " - returns 1 number: the average (or weighted average, if the optional argument `weights` is provided).\n",
    " \n",
    "When you're computing a weighted average, you need to multiply each number in the required list by its corresponding weight in the `weights` list. You can think of the \"normal\" way of computing the mean (without weights) as being a weighted version, just where all the weights are 1.\n",
    "\n",
    "For example, if you have a list of numbers `[1, 2, 3]`, the unweighted mean is 2. However, with the weights `[1, 1, 10`], the weighted average is 2.75. Since the corresponding weight for 3 is 10, that means 3 counts as essentially 10 3s, whereas 1 and 2 are still weighted normally. Except, however, now you're dividing by the sum of the *weights* (12), except simply by how many numbers you have (3).\n",
    " \n",
    "If `weights` is not the same length as the required list your function should throw a `ValueError`."
   ]
  },
  {
   "cell_type": "code",
   "execution_count": null,
   "metadata": {
    "collapsed": true,
    "nbgrader": {
     "grade": false,
     "grade_id": "ba",
     "locked": false,
     "solution": true
    }
   },
   "outputs": [],
   "source": []
  },
  {
   "cell_type": "code",
   "execution_count": null,
   "metadata": {
    "collapsed": true,
    "nbgrader": {
     "grade": true,
     "grade_id": "ba_test",
     "locked": true,
     "points": 10,
     "solution": false
    }
   },
   "outputs": [],
   "source": [
    "import numpy as np\n",
    "np.random.seed(235764)\n",
    "\n",
    "i1 = np.random.randint(0, 100, 10).tolist()\n",
    "a1 = np.mean(i1)\n",
    "np.testing.assert_allclose(a1, enhanced_average(i1))\n",
    "\n",
    "i2 = np.random.randint(0, 100, 10).tolist()\n",
    "w2 = [0.0, 1, 0.0, 0.0, 0.0, 0.0, 0.0, 0.0, 0.0, 1]\n",
    "a2 = 60.5\n",
    "np.testing.assert_allclose(a2, enhanced_average(i2, weights = w2))\n",
    "\n",
    "i3 = np.random.randint(0, 100, 10).tolist()\n",
    "w3 = [0.1, 0.1, 0.1, 0.1, 0.1, 0.1, 0.1, 0.1, 0.2]\n",
    "try:\n",
    "    a = enhanced_average(i3, weights = w3)\n",
    "except ValueError:\n",
    "    assert True\n",
    "else:\n",
    "    assert False"
   ]
  },
  {
   "cell_type": "markdown",
   "metadata": {
    "nbgrader": {
     "grade": false,
     "grade_id": "bb_prompt",
     "locked": true,
     "solution": false
    }
   },
   "source": [
    "### B\n",
    "\n",
    "If you've ever taken a computer science course, you know that *sorting* is an integral part of the field. If lists are ordered, there are lots of operations that become significantly easier--for instance, searching for a specific item. There are many different ways of sorting, each with their advantages and drawbacks (though some are objectively better than others).\n",
    "\n",
    "Write your own sorting function, `my_sort`, which takes a list of numbers and sorts them in **ascending order** (least to greatest). You cannot use any built-in functions.\n",
    "\n",
    "Your function should also have an optional argument, `desc`, which if set to `True`, instead returns the sorted list in **descending order** (greatest to least)."
   ]
  },
  {
   "cell_type": "code",
   "execution_count": null,
   "metadata": {
    "collapsed": true,
    "nbgrader": {
     "grade": false,
     "grade_id": "bb",
     "locked": false,
     "solution": true
    }
   },
   "outputs": [],
   "source": []
  },
  {
   "cell_type": "code",
   "execution_count": null,
   "metadata": {
    "collapsed": true,
    "nbgrader": {
     "grade": true,
     "grade_id": "bb_test",
     "locked": true,
     "points": 10,
     "solution": false
    }
   },
   "outputs": [],
   "source": [
    "import numpy as np\n",
    "\n",
    "np.random.seed(85973)\n",
    "i1 = np.random.random(10).tolist()\n",
    "np.testing.assert_allclose(np.sort(i1), my_sort(i1))\n",
    "\n",
    "i2 = np.random.random(100).tolist()\n",
    "a2 = np.sort(i2).tolist()\n",
    "a2.reverse()\n",
    "np.testing.assert_allclose(a2, my_sort(i2, desc = True))"
   ]
  }
 ],
 "metadata": {
  "anaconda-cloud": {},
  "celltoolbar": "Create Assignment",
  "kernelspec": {
   "display_name": "Python [default]",
   "language": "python",
   "name": "python3"
  },
  "language_info": {
   "codemirror_mode": {
    "name": "ipython",
    "version": 3
   },
   "file_extension": ".py",
   "mimetype": "text/x-python",
   "name": "python",
   "nbconvert_exporter": "python",
   "pygments_lexer": "ipython3",
   "version": "3.5.2"
  }
 },
 "nbformat": 4,
 "nbformat_minor": 0
}
