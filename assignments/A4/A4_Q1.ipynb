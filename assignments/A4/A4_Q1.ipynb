{
 "cells": [
  {
   "cell_type": "markdown",
   "metadata": {
    "nbgrader": {
     "grade": false,
     "grade_id": "q1_prompt",
     "locked": true,
     "solution": false
    }
   },
   "source": [
    "# Q1\n",
    "\n",
    "More, more, more looping and conditionals."
   ]
  },
  {
   "cell_type": "markdown",
   "metadata": {
    "nbgrader": {
     "grade": false,
     "grade_id": "q1a_prompt",
     "locked": true,
     "solution": false
    }
   },
   "source": [
    "### A\n",
    "\n",
    "In this part, you'll write a function `full_reverse` which performs a slightly more sophisticated ordering reversal strategy than before.\n",
    "\n",
    " - takes 1 argument, a list of strings\n",
    " - returns a list of strings, where both the **order** of the strings and the **strings themselves** have all been reversed\n",
    " \n",
    "For example, if I call `full_reverse(['ab', 'cd'])`, I should get back a list that contains `['dc', 'ba']`, whereby both the two elements have been flipped in the list, and the letters in each string have also been reversed.\n",
    "\n",
    "You **cannot** use the built-in `reverse` method. Sorry!"
   ]
  },
  {
   "cell_type": "code",
   "execution_count": null,
   "metadata": {
    "collapsed": true,
    "nbgrader": {
     "grade": false,
     "grade_id": "q1a",
     "locked": false,
     "solution": true
    }
   },
   "outputs": [],
   "source": []
  },
  {
   "cell_type": "code",
   "execution_count": null,
   "metadata": {
    "collapsed": true,
    "nbgrader": {
     "grade": true,
     "grade_id": "q1a_test1",
     "locked": true,
     "points": 2,
     "solution": false
    }
   },
   "outputs": [],
   "source": [
    "try:\n",
    "    full_reverse\n",
    "except:\n",
    "    assert False\n",
    "else:\n",
    "    assert True"
   ]
  },
  {
   "cell_type": "code",
   "execution_count": null,
   "metadata": {
    "collapsed": true,
    "nbgrader": {
     "grade": true,
     "grade_id": "q1a_test2",
     "locked": true,
     "points": 4,
     "solution": false
    }
   },
   "outputs": [],
   "source": [
    "i1 = ['ab', 'cd']\n",
    "a1 = set(['dc', 'ba'])\n",
    "assert a1 == set(full_reverse(i1))\n",
    "\n",
    "i2 = [\"race\", \"car\"]\n",
    "a2 = set([\"rac\", \"ecar\"])\n",
    "assert a2 == set(full_reverse(i2))"
   ]
  },
  {
   "cell_type": "code",
   "execution_count": null,
   "metadata": {
    "collapsed": true,
    "nbgrader": {
     "grade": true,
     "grade_id": "q1a_test3",
     "locked": true,
     "points": 4,
     "solution": false
    }
   },
   "outputs": [],
   "source": [
    "assert set([]) == set(full_reverse([]))\n",
    "assert set([\"a\"]) == set(full_reverse([\"a\"]))\n",
    "assert set([\"abcde\"]) == set(full_reverse([\"edcba\"]))"
   ]
  },
  {
   "cell_type": "markdown",
   "metadata": {
    "nbgrader": {
     "grade": false,
     "grade_id": "q1b_prompt",
     "locked": true,
     "solution": false
    }
   },
   "source": [
    "### B\n",
    "\n",
    "In this question, you'll use your solution from Part A to write a function named `is_full_palindrome`.\n",
    "\n",
    " - takes 1 argument, a list of strings (same as Part A)\n",
    " - returns a boolean, either `True` or `False`\n",
    " \n",
    "This function should return `True` if the input list is a *full palindrome*--this means that, after you've performed the `full_reverse` function on an input, the output from that function should be identical to the original input.\n",
    "\n",
    "For example, `is_full_palindrome([\"racecar\", \"abcba\", \"racecar\"])` should return `True`, but `is_full_palindrome([\"racecar\", \"abcab\", \"noxinnixon\"])` should return `False` (because when the order of the list itself is reversed, the elements no longer line up with the original, even though the *individual* elements are themselves palindromes).\n",
    "\n",
    "You can potentially do this problem without using your answer from Part A, but that would be a more difficult route, since you'd probably end duplicating your code from Part A anyway.\n",
    "\n",
    "**Hint**: Empty lists and single-letter strings are considered palindromes!"
   ]
  },
  {
   "cell_type": "code",
   "execution_count": null,
   "metadata": {
    "collapsed": true,
    "nbgrader": {
     "grade": false,
     "grade_id": "q1b",
     "locked": false,
     "solution": true
    }
   },
   "outputs": [],
   "source": []
  },
  {
   "cell_type": "code",
   "execution_count": null,
   "metadata": {
    "collapsed": true,
    "nbgrader": {
     "grade": true,
     "grade_id": "q1b_test1",
     "locked": true,
     "points": 2,
     "solution": false
    }
   },
   "outputs": [],
   "source": [
    "try:\n",
    "    is_full_palindrome\n",
    "except:\n",
    "    assert False\n",
    "else:\n",
    "    assert True"
   ]
  },
  {
   "cell_type": "code",
   "execution_count": null,
   "metadata": {
    "collapsed": true,
    "nbgrader": {
     "grade": true,
     "grade_id": "q1b_test2",
     "locked": true,
     "points": 4,
     "solution": false
    }
   },
   "outputs": [],
   "source": [
    "i1 = [\"racecar\", \"abcba\", \"racecar\"]\n",
    "assert is_full_palindrome(i1)\n",
    "\n",
    "i2 = [\"racecar\", \"abcab\", \"noxinnixon\"]\n",
    "assert not is_full_palindrome(i2)\n",
    "\n",
    "i3 = [\"not\", \"even\", \"close\"]\n",
    "assert not is_full_palindrome(i3)"
   ]
  },
  {
   "cell_type": "code",
   "execution_count": null,
   "metadata": {
    "collapsed": true,
    "nbgrader": {
     "grade": true,
     "grade_id": "q1b_test3",
     "locked": true,
     "points": 4,
     "solution": false
    }
   },
   "outputs": [],
   "source": [
    "assert is_full_palindrome([])\n",
    "assert is_full_palindrome([\"a\"])\n",
    "assert is_full_palindrome([\"b\", \"c\", \"b\"])\n",
    "assert not is_full_palindrome([\"a\", \"b\", \"c\", \"e\", \"b\", \"a\"])"
   ]
  }
 ],
 "metadata": {
  "anaconda-cloud": {},
  "celltoolbar": "Create Assignment",
  "kernelspec": {
   "display_name": "Python [default]",
   "language": "python",
   "name": "python3"
  },
  "language_info": {
   "codemirror_mode": {
    "name": "ipython",
    "version": 3
   },
   "file_extension": ".py",
   "mimetype": "text/x-python",
   "name": "python",
   "nbconvert_exporter": "python",
   "pygments_lexer": "ipython3",
   "version": "3.5.2"
  }
 },
 "nbformat": 4,
 "nbformat_minor": 0
}
