{
 "cells": [
  {
   "cell_type": "markdown",
   "metadata": {
    "nbgrader": {
     "grade": false,
     "grade_id": "q2_prompt",
     "locked": true,
     "solution": false
    }
   },
   "source": [
    "# Q2\n",
    "\n",
    "More on writing functions!"
   ]
  },
  {
   "cell_type": "markdown",
   "metadata": {
    "nbgrader": {
     "grade": false,
     "grade_id": "q2a_prompt",
     "locked": true,
     "solution": false
    }
   },
   "source": [
    "### A\n",
    "\n",
    "Write a function, `flexible_mean`, which computes the average of any number of numbers.\n",
    "\n",
    " - takes a variable number of floating-point arguments\n",
    " - returns 1 number: the average of all the arguments\n",
    " \n",
    "For example, `flexible_mean(1.0, 2.0)` should return `1.5`.\n",
    "\n",
    "You cannot use any built-in functions."
   ]
  },
  {
   "cell_type": "code",
   "execution_count": null,
   "metadata": {
    "collapsed": true,
    "nbgrader": {
     "grade": false,
     "grade_id": "q2a",
     "locked": false,
     "solution": true
    }
   },
   "outputs": [],
   "source": []
  },
  {
   "cell_type": "code",
   "execution_count": null,
   "metadata": {
    "collapsed": true,
    "nbgrader": {
     "grade": true,
     "grade_id": "q2a_test",
     "locked": true,
     "points": 5,
     "solution": false
    }
   },
   "outputs": [],
   "source": [
    "import numpy as np\n",
    "\n",
    "np.testing.assert_allclose(1.5, flexible_mean(1.0, 2.0))\n",
    "np.testing.assert_allclose(0.0, flexible_mean(-100, 100))\n",
    "np.testing.assert_allclose(1303.359375, flexible_mean(1, 5452, 43, 34, 40.23, 605.2, 4239.2, 12.245))"
   ]
  },
  {
   "cell_type": "markdown",
   "metadata": {
    "nbgrader": {
     "grade": false,
     "grade_id": "q2b_prompt",
     "locked": true,
     "solution": false
    }
   },
   "source": [
    "### B\n",
    "\n",
    "Write a function, `make_dict`, which creates a dictionary from a variable number of key / value arguments.\n",
    "\n",
    " - takes a variable number of key-value arguments\n",
    " - returns 1 dictionary of all the key-values given to the function\n",
    " \n",
    "For example, `make_dict(one = \"two\", three = \"four\")` should return `{\"one\": \"two\", \"three\": \"four\"}`.\n",
    "\n",
    "You cannot use any built-in functions."
   ]
  },
  {
   "cell_type": "code",
   "execution_count": null,
   "metadata": {
    "collapsed": true,
    "nbgrader": {
     "grade": false,
     "grade_id": "q2b",
     "locked": false,
     "solution": true
    }
   },
   "outputs": [],
   "source": []
  },
  {
   "cell_type": "code",
   "execution_count": null,
   "metadata": {
    "collapsed": true,
    "nbgrader": {
     "grade": true,
     "grade_id": "q2b_test",
     "locked": true,
     "points": 5,
     "solution": false
    }
   },
   "outputs": [],
   "source": [
    "assert make_dict(one = \"two\", three = \"four\") == {\"one\": \"two\", \"three\": \"four\"}\n",
    "assert make_dict() == {}"
   ]
  },
  {
   "cell_type": "markdown",
   "metadata": {
    "nbgrader": {
     "grade": false,
     "grade_id": "q2c_prompt",
     "locked": true,
     "solution": false
    }
   },
   "source": [
    "### C\n",
    "\n",
    "Write a function `find_all` which locates all the indices of a particular element to search.\n",
    "\n",
    " - takes 2 arguments: a list of items, and a single element to search for in the list\n",
    " - returns 1 list: a list of *indices* into the input list that correspond to elements in the input list that match what we were looking for\n",
    " \n",
    "For example, `find_all([1, 2, 3, 4, 5, 2], 2)` would return `[1, 5]`.\n",
    "\n",
    "You cannot use any built-in functions."
   ]
  },
  {
   "cell_type": "code",
   "execution_count": null,
   "metadata": {
    "collapsed": true,
    "nbgrader": {
     "grade": false,
     "grade_id": "q2c",
     "locked": false,
     "solution": true
    }
   },
   "outputs": [],
   "source": []
  },
  {
   "cell_type": "code",
   "execution_count": null,
   "metadata": {
    "collapsed": true,
    "nbgrader": {
     "grade": true,
     "grade_id": "q2c_test",
     "locked": true,
     "points": 5,
     "solution": false
    }
   },
   "outputs": [],
   "source": [
    "l1 = [1, 2, 3, 4, 5, 2]\n",
    "s1 = 2\n",
    "a1 = [1, 5]\n",
    "assert set(a1) == set(find_all(l1, s1))\n",
    "\n",
    "l2 = [\"a\", \"random\", \"set\", \"of\", \"strings\", \"for\", \"an\", \"interesting\", \"strings\", \"problem\"]\n",
    "s2 = \"strings\"\n",
    "a2 = [4, 8]\n",
    "assert set(a2) == set(find_all(l2, s2))\n",
    "\n",
    "l3 = [1, 2, 3, 4, 5, 6, 7, 8, 9, 10]\n",
    "s3 = 11\n",
    "a3 = []\n",
    "assert set(a3) == set(find_all(l3, s3))"
   ]
  },
  {
   "cell_type": "markdown",
   "metadata": {
    "nbgrader": {
     "grade": false,
     "grade_id": "q2d_prompt",
     "locked": true,
     "solution": false
    }
   },
   "source": [
    "### D\n",
    "\n",
    "Using your answer from part C, write a function called `element_counts` which provides counts of very specific elements in a list.\n",
    "\n",
    " - takes 2 arguments: a list of your data, and a list of elements you want counted in your data\n",
    " - returns a dictionary: keys are the elements you wanted counted, and values are their counts in the data\n",
    " \n",
    "For example, `element_counts([1, 2, 3, 4, 5, 2], [2, 5])` would return `{2: 2, 5: 1}`, as there were two 2s in the data list, and one 5.\n",
    "\n",
    "You cannot use any built-in functions."
   ]
  },
  {
   "cell_type": "code",
   "execution_count": null,
   "metadata": {
    "collapsed": true,
    "nbgrader": {
     "grade": false,
     "grade_id": "q2d",
     "locked": false,
     "solution": true
    }
   },
   "outputs": [],
   "source": []
  },
  {
   "cell_type": "code",
   "execution_count": null,
   "metadata": {
    "collapsed": true,
    "nbgrader": {
     "grade": true,
     "grade_id": "q2d_test",
     "locked": true,
     "points": 5,
     "solution": false
    }
   },
   "outputs": [],
   "source": [
    "l1 = [1, 2, 3, 4, 5, 2]\n",
    "s1 = [2, 5]\n",
    "a1 = {2: 2, 5: 1}\n",
    "assert a1 == element_counts(l1, s1)\n",
    "\n",
    "l2 = [\"a\", \"random\", \"set\", \"of\", \"strings\", \"for\", \"an\", \"interesting\", \"strings\", \"problem\"]\n",
    "s2 = [\"strings\", \"of\", \"notinthelist\"]\n",
    "a2 = {\"strings\": 2, \"of\": 1, \"notinthelist\": 0}\n",
    "assert a2 == element_counts(l2, s2)"
   ]
  }
 ],
 "metadata": {
  "anaconda-cloud": {},
  "celltoolbar": "Create Assignment",
  "kernelspec": {
   "display_name": "Python [default]",
   "language": "python",
   "name": "python3"
  },
  "language_info": {
   "codemirror_mode": {
    "name": "ipython",
    "version": 3
   },
   "file_extension": ".py",
   "mimetype": "text/x-python",
   "name": "python",
   "nbconvert_exporter": "python",
   "pygments_lexer": "ipython3",
   "version": "3.5.2"
  }
 },
 "nbformat": 4,
 "nbformat_minor": 0
}
