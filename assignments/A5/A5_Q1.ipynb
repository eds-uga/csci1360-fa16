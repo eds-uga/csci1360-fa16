{
 "cells": [
  {
   "cell_type": "markdown",
   "metadata": {
    "nbgrader": {
     "grade": false,
     "grade_id": "q1_prompt",
     "locked": true,
     "solution": false
    }
   },
   "source": [
    "# Q1\n",
    "\n",
    "In this question, you'll write some basic functions."
   ]
  },
  {
   "cell_type": "markdown",
   "metadata": {
    "nbgrader": {
     "grade": false,
     "grade_id": "q1a_prompt",
     "locked": true,
     "solution": false
    }
   },
   "source": [
    "### A\n",
    "\n",
    "Write a function `add_index` that adds an amount to each element of a list equal to the index of that element in the list, plus an optional offset.\n",
    "\n",
    " - input: 2 arguments. Required argument is a list of numbers. Optional argument (default: 0) is the offset that is added to each element, in addition to the value of the element's index.\n",
    " - output: the same list of numbers, which each element incremented by its index value\n",
    " \n",
    "For example, `add_index([1, 2, 3])` should return `[1, 3, 5]`. Another example: `add_index([1, 2, 3], 5)` should return `[6, 8, 10]`.\n",
    "\n",
    "You cannot use any built-in or imported functions."
   ]
  },
  {
   "cell_type": "code",
   "execution_count": null,
   "metadata": {
    "collapsed": true,
    "nbgrader": {
     "grade": false,
     "grade_id": "q1a",
     "locked": false,
     "solution": true
    }
   },
   "outputs": [],
   "source": []
  },
  {
   "cell_type": "code",
   "execution_count": null,
   "metadata": {
    "collapsed": true,
    "nbgrader": {
     "grade": true,
     "grade_id": "q1a_test",
     "locked": true,
     "points": 10,
     "solution": false
    }
   },
   "outputs": [],
   "source": [
    "i1 = [1, 2, 3]\n",
    "a1 = [1, 3, 5]\n",
    "assert set(a1) == set(add_index(i1))\n",
    "\n",
    "i2 = [0, 0, 0, 9, 10, 11]\n",
    "o2 = 12\n",
    "a2 = [12, 13, 14, 24, 26, 28]\n",
    "assert set(a2) == set(add_index(i2, o2))"
   ]
  },
  {
   "cell_type": "markdown",
   "metadata": {
    "nbgrader": {
     "grade": false,
     "grade_id": "q1b_prompt",
     "locked": true,
     "solution": false
    }
   },
   "source": [
    "---\n",
    "### B\n",
    "\n",
    "Write a function, `remove_odds`, which deletes all the odd numbers from a list of numbers.\n",
    "\n",
    " - input: 1 argument, a list of numbers\n",
    " - output: the same list of numbers, but with all the odd elements stripped out\n",
    " \n",
    "For example, `remove_odds([1, 2, 3, 4, 5])` should return `[2, 4]`. 0 counts as even.\n",
    "\n",
    "You cannot use any built-in or imported functions."
   ]
  },
  {
   "cell_type": "code",
   "execution_count": null,
   "metadata": {
    "collapsed": true,
    "nbgrader": {
     "grade": false,
     "grade_id": "q1b",
     "locked": false,
     "solution": true
    }
   },
   "outputs": [],
   "source": []
  },
  {
   "cell_type": "code",
   "execution_count": null,
   "metadata": {
    "collapsed": true,
    "nbgrader": {
     "grade": true,
     "grade_id": "q1b_test",
     "locked": true,
     "points": 10,
     "solution": false
    }
   },
   "outputs": [],
   "source": [
    "i1 = [1, 2, 3]\n",
    "a1 = [2]\n",
    "assert set(a1) == set(remove_odds(i1))\n",
    "\n",
    "i2 = [0, 0, 0, 9, 10, 11]\n",
    "a2 = [0, 0, 0, 10]\n",
    "assert set(a2) == set(remove_odds(i2))"
   ]
  },
  {
   "cell_type": "markdown",
   "metadata": {
    "nbgrader": {
     "grade": false,
     "grade_id": "q1c_prompt",
     "locked": true,
     "solution": false
    }
   },
   "source": [
    "---\n",
    "### C\n",
    "\n",
    "Write a function, `is_palindrome`, which determines whether or not a list is a palindrome.\n",
    "\n",
    " - input: 1 argument, a list\n",
    " - output: a boolean, `True` if the input list is a palindrome, `False` otherwise\n",
    " \n",
    "Recall a palindrome is typically a word or sequence of words that reads identically forwards as backwards.\n",
    "\n",
    "For example, `is_palindrome([1, 2, 1])` would return `True`, but `is_palindrome([1, 1, 2, 1])` would return `False`.\n",
    "\n",
    "You cannot use any built-in or imported functions."
   ]
  },
  {
   "cell_type": "code",
   "execution_count": null,
   "metadata": {
    "collapsed": true,
    "nbgrader": {
     "grade": false,
     "grade_id": "q1c",
     "locked": false,
     "solution": true
    }
   },
   "outputs": [],
   "source": []
  },
  {
   "cell_type": "code",
   "execution_count": null,
   "metadata": {
    "collapsed": true,
    "nbgrader": {
     "grade": true,
     "grade_id": "q1c_test",
     "locked": true,
     "points": 10,
     "solution": false
    }
   },
   "outputs": [],
   "source": [
    "i1 = [1, 2, 1]\n",
    "assert is_palindrome(i1)\n",
    "\n",
    "i2 = [1, 1, 2, 1]\n",
    "assert not is_palindrome(i2)\n",
    "\n",
    "i3 = [1, 2, 3, 4, 5, 4, 3, 2, 1]\n",
    "assert is_palindrome(i3)\n",
    "\n",
    "i4 = [1, 2, 3, 4, 5, 5, 4, 3, 2, 1]\n",
    "assert is_palindrome(i4)\n",
    "\n",
    "i5 = [1, 2, 3, 4, 5, 5, 4, 3, 2]\n",
    "assert not is_palindrome(i5)"
   ]
  },
  {
   "cell_type": "markdown",
   "metadata": {
    "nbgrader": {
     "grade": false,
     "grade_id": "q1d_prompt",
     "locked": true,
     "solution": false
    }
   },
   "source": [
    "---\n",
    "### D\n",
    "\n",
    "Write a function `strip_n` that chops a certain number of elements off the front and back of a list.\n",
    "\n",
    " - input: 2 arguments, a list of numbers, and the number of list elements to remove from the front and back of the list\n",
    " - output: 1 list, the modified input list with specified number of leading and tailing elements removed\n",
    " \n",
    "If the number of elements specified to strip from the list is infeasible--for example, asking to chop 3 elements off the front and back of a 1-element list--raise a `ValueError`.\n",
    " \n",
    "For example, `strip_n([1, 2, 3], 1)` should return `[2]`.\n",
    "\n",
    "You cannot use any built-in functions or additional imports."
   ]
  },
  {
   "cell_type": "code",
   "execution_count": null,
   "metadata": {
    "collapsed": true,
    "nbgrader": {
     "grade": false,
     "grade_id": "q1d",
     "locked": false,
     "solution": true
    }
   },
   "outputs": [],
   "source": []
  },
  {
   "cell_type": "code",
   "execution_count": null,
   "metadata": {
    "collapsed": true,
    "nbgrader": {
     "grade": true,
     "grade_id": "q1d_test",
     "locked": true,
     "points": 10,
     "solution": false
    }
   },
   "outputs": [],
   "source": [
    "i1 = [1, 2, 3]\n",
    "n1 = 1\n",
    "a1 = [2]\n",
    "assert set(a1) == set(strip_n(i1, n1))\n",
    "\n",
    "i2 = [1, 2, 3, 4]\n",
    "n2 = 2\n",
    "a2 = []\n",
    "assert set(a2) == set(strip_n(i2, n2))\n",
    "\n",
    "i3 = [1, 2, 3, 4, 5]\n",
    "n3 = 3\n",
    "try:\n",
    "    strip_n(i3, n3)\n",
    "except ValueError:\n",
    "    assert True\n",
    "else:\n",
    "    assert False"
   ]
  }
 ],
 "metadata": {
  "anaconda-cloud": {},
  "celltoolbar": "Create Assignment",
  "kernelspec": {
   "display_name": "Python [default]",
   "language": "python",
   "name": "python3"
  },
  "language_info": {
   "codemirror_mode": {
    "name": "ipython",
    "version": 3
   },
   "file_extension": ".py",
   "mimetype": "text/x-python",
   "name": "python",
   "nbconvert_exporter": "python",
   "pygments_lexer": "ipython3",
   "version": "3.5.2"
  }
 },
 "nbformat": 4,
 "nbformat_minor": 0
}
