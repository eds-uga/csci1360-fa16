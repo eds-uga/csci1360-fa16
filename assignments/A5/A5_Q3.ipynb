{
 "cells": [
  {
   "cell_type": "markdown",
   "metadata": {
    "nbgrader": {
     "grade": false,
     "grade_id": "q3_prompt",
     "locked": true,
     "solution": false
    }
   },
   "source": [
    "# Q3\n",
    "\n",
    "In this question, we'll explore the basics of using NumPy arrays."
   ]
  },
  {
   "cell_type": "markdown",
   "metadata": {
    "nbgrader": {
     "grade": false,
     "grade_id": "q3a_prompt",
     "locked": true,
     "solution": false
    }
   },
   "source": [
    "### A\n",
    "\n",
    "NumPy arrays are wonderful improvements over native Python lists for many reasons, the biggest of which is its ability to perform \"vectorized\" operations over entire arrays without having to write loops.\n",
    "\n",
    "Write a function, `difference`, which takes two NumPy arrays as arguments and returns their difference (in order of the arguments themselves; if you're getting an `AssertionError`, try flipping the ordering of the arguments in your function).\n",
    "\n",
    " - takes two arguments: both NumPy arrays of floats\n",
    " - returns 1 floating point number: the difference of the two vectors (second array from first array).\n",
    " \n",
    "You will need to check if the arrays are the same length; if not, raise a `ValueError`.\n",
    "\n",
    "You cannot use any loops, built-in functions, or NumPy functions."
   ]
  },
  {
   "cell_type": "code",
   "execution_count": null,
   "metadata": {
    "collapsed": true,
    "nbgrader": {
     "grade": false,
     "grade_id": "q3a",
     "locked": false,
     "solution": true
    }
   },
   "outputs": [],
   "source": []
  },
  {
   "cell_type": "code",
   "execution_count": null,
   "metadata": {
    "collapsed": true,
    "nbgrader": {
     "grade": true,
     "grade_id": "q3a_test",
     "locked": true,
     "points": 5,
     "solution": false
    }
   },
   "outputs": [],
   "source": [
    "import numpy as np\n",
    "\n",
    "np.random.seed(578435)\n",
    "x11 = np.random.random(10)\n",
    "x12 = np.random.random(10)\n",
    "d1 = np.array([ 0.24542374,  0.19098998,  0.20645088,  0.49097139, -0.56594091,\n",
    "       -0.13363814,  0.46859546, -0.32476466, -0.35938731,  0.17459786])\n",
    "np.testing.assert_allclose(d1, difference(x11, x12))\n",
    "\n",
    "np.random.seed(85743)\n",
    "x21 = np.random.random(20)\n",
    "x22 = np.random.random(20)\n",
    "d2 = np.array([-0.17964925, -0.57573602,  0.00109792, -0.06535934,  0.51321497,\n",
    "        0.63854404, -0.17318834,  0.05553455,  0.08780665, -0.12503945,\n",
    "        0.08794238, -0.53157235, -0.1133253 ,  0.34861933,  0.67987286,\n",
    "        0.01188672,  0.2099561 , -0.40800005, -0.28166673, -0.35814679])\n",
    "np.testing.assert_allclose(d2, difference(x21, x22))\n",
    "\n",
    "try:\n",
    "    difference(np.array([1, 2, 3]), np.array([4, 5, 6, 7]))\n",
    "except ValueError:\n",
    "    assert True\n",
    "else:\n",
    "    assert False"
   ]
  },
  {
   "cell_type": "markdown",
   "metadata": {
    "nbgrader": {
     "grade": false,
     "grade_id": "q3b_prompt",
     "locked": true,
     "solution": false
    }
   },
   "source": [
    "### B\n",
    "\n",
    "Write a function, `squares`, which takes a NumPy array and returns another NumPy array with all its elements squared.\n",
    "\n",
    " - takes 1 argument: a NumPy array\n",
    " - returns 1 value: a NumPy array where each element is the squared version of the input array\n",
    " \n",
    "You cannot use any loops, built-in functions, or NumPy functions."
   ]
  },
  {
   "cell_type": "code",
   "execution_count": null,
   "metadata": {
    "collapsed": true,
    "nbgrader": {
     "grade": false,
     "grade_id": "q3b",
     "locked": false,
     "solution": true
    }
   },
   "outputs": [],
   "source": []
  },
  {
   "cell_type": "code",
   "execution_count": null,
   "metadata": {
    "collapsed": true,
    "nbgrader": {
     "grade": true,
     "grade_id": "q3b_test",
     "locked": true,
     "points": 5,
     "solution": false
    }
   },
   "outputs": [],
   "source": [
    "import numpy as np\n",
    "\n",
    "np.random.seed(13735)\n",
    "x1 = np.random.random(10)\n",
    "y1 = np.array([ 0.10729775,  0.01234453,  0.37878359,  0.12131263,  0.89916465,\n",
    "        0.50676134,  0.9927178 ,  0.20673811,  0.88873398,  0.09033156])\n",
    "np.testing.assert_allclose(y1, squares(x1))\n",
    "\n",
    "np.random.seed(7853)\n",
    "x2 = np.random.random(35)\n",
    "y2 = np.array([  7.70558043e-02,   1.85146792e-01,   6.98666869e-01,\n",
    "         9.93510847e-02,   1.94026134e-01,   8.43335268e-02,\n",
    "         1.84097846e-04,   3.74604155e-03,   7.52840504e-03,\n",
    "         9.34739871e-01,   3.15736597e-01,   6.73512540e-02,\n",
    "         9.61011706e-02,   7.99394100e-01,   2.18175433e-01,\n",
    "         4.87808337e-01,   5.36032332e-01,   3.26047002e-01,\n",
    "         8.86429452e-02,   5.66360150e-01,   9.06164054e-01,\n",
    "         1.73105310e-01,   5.02681242e-01,   3.07929118e-01,\n",
    "         7.08507520e-01,   4.95455022e-02,   9.89891434e-02,\n",
    "         8.94874125e-02,   4.56261817e-01,   9.46454001e-01,\n",
    "         2.62274636e-01,   1.79655411e-01,   3.81695141e-01,\n",
    "         5.66890651e-01,   8.03936029e-01])\n",
    "np.testing.assert_allclose(y2, squares(x2))"
   ]
  },
  {
   "cell_type": "markdown",
   "metadata": {
    "nbgrader": {
     "grade": false,
     "grade_id": "q3c_prompt",
     "locked": true,
     "solution": false
    }
   },
   "source": [
    "### C\n",
    "\n",
    "Write a function, `sum_of_elements`, which sums up all the elements of a NumPy array and returns it.\n",
    "\n",
    " - takes 1 argument: a NumPy array\n",
    " - returns 1 floating-point value: the sum of the elements in the NumPy array\n",
    " \n",
    "You cannot use any loops, but you **can** use the `numpy.sum` function."
   ]
  },
  {
   "cell_type": "code",
   "execution_count": null,
   "metadata": {
    "collapsed": true,
    "nbgrader": {
     "grade": false,
     "grade_id": "q3c",
     "locked": false,
     "solution": true
    }
   },
   "outputs": [],
   "source": []
  },
  {
   "cell_type": "code",
   "execution_count": null,
   "metadata": {
    "collapsed": true,
    "nbgrader": {
     "grade": true,
     "grade_id": "q3c_test",
     "locked": true,
     "points": 5,
     "solution": false
    }
   },
   "outputs": [],
   "source": [
    "import numpy as np\n",
    "\n",
    "np.random.seed(7631)\n",
    "x1 = np.random.random(483)\n",
    "s1 = 233.48919473752667\n",
    "np.testing.assert_allclose(s1, sum_of_elements(x1))\n",
    "\n",
    "np.random.seed(13275)\n",
    "x2 = np.random.random(23)\n",
    "s2 = 12.146235770777777\n",
    "np.testing.assert_allclose(s2, sum_of_elements(x2))"
   ]
  },
  {
   "cell_type": "markdown",
   "metadata": {
    "nbgrader": {
     "grade": false,
     "grade_id": "q3d_prompt",
     "locked": true,
     "solution": false
    }
   },
   "source": [
    "### D\n",
    "\n",
    "You may not have realized it yet, but in the previous three parts, you've implemented almost all of what's needed to compute the distance between two NumPy arrays. All you have to do now is link the code you wrote in the previous three parts together in the right order.\n",
    "\n",
    "Write a function `distance` which takes two NumPy arrays and computes their distance.\n",
    "\n",
    " - takes 2 arguments: both NumPy arrays of the same length\n",
    " - returns 1 number: a non-zero floating point value that is the distance between the two arrays\n",
    " \n",
    "Remember how Euclidean distance $d$ between two vectors $\\vec{a}$ and $\\vec{b}$ is calculated:\n",
    "\n",
    "$$\n",
    "d(\\vec{a}, \\vec{b}) = \\sqrt{(a_1 - b_1)^2 + (a_2 - b_2)^2 + ... + (a_n - b_n) ^2}\n",
    "$$\n",
    "\n",
    "where $a_1$ and $b_1$ are the first elements of the arrays $\\vec{a}$ and $\\vec{b}$; $a_2$ and $b_2$ are the second elements, and so on.\n",
    "\n",
    "You've already implemented everything except the square root; in addition to that, you just need to arrange the functions you've written in the correct order inside your `distance` function.\n",
    "\n",
    "You cannot use any functions aside from those you've already written."
   ]
  },
  {
   "cell_type": "code",
   "execution_count": null,
   "metadata": {
    "collapsed": true,
    "nbgrader": {
     "grade": false,
     "grade_id": "q3d",
     "locked": false,
     "solution": true
    }
   },
   "outputs": [],
   "source": []
  },
  {
   "cell_type": "code",
   "execution_count": null,
   "metadata": {
    "collapsed": false,
    "nbgrader": {
     "grade": true,
     "grade_id": "q3d_test",
     "locked": true,
     "points": 5,
     "solution": false
    }
   },
   "outputs": [],
   "source": [
    "import numpy as np\n",
    "import numpy.linalg as nla\n",
    "\n",
    "np.random.seed(477582)\n",
    "x11 = np.random.random(10)\n",
    "x12 = np.random.random(10)\n",
    "np.testing.assert_allclose(nla.norm(x11 - x12), distance(x11, x12))\n",
    "\n",
    "np.random.seed(54782)\n",
    "x21 = np.random.random(584)\n",
    "x22 = np.random.random(584)\n",
    "np.testing.assert_allclose(nla.norm(x21 - x22), distance(x21, x22))"
   ]
  },
  {
   "cell_type": "code",
   "execution_count": null,
   "metadata": {
    "collapsed": true
   },
   "outputs": [],
   "source": []
  }
 ],
 "metadata": {
  "anaconda-cloud": {},
  "celltoolbar": "Create Assignment",
  "kernelspec": {
   "display_name": "Python 3",
   "language": "python",
   "name": "python3"
  },
  "language_info": {
   "codemirror_mode": {
    "name": "ipython",
    "version": 3
   },
   "file_extension": ".py",
   "mimetype": "text/x-python",
   "name": "python",
   "nbconvert_exporter": "python",
   "pygments_lexer": "ipython3",
   "version": "3.5.3"
  }
 },
 "nbformat": 4,
 "nbformat_minor": 0
}
