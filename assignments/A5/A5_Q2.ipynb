{
 "cells": [
  {
   "cell_type": "markdown",
   "metadata": {
    "collapsed": true,
    "nbgrader": {
     "grade": false,
     "grade_id": "q2_prompt",
     "locked": true,
     "solution": false
    }
   },
   "source": [
    "# Q2\n",
    "\n",
    "In this question, we'll work with objects to develop a movie tracker."
   ]
  },
  {
   "cell_type": "markdown",
   "metadata": {
    "nbgrader": {
     "grade": false,
     "grade_id": "q2a_prompt",
     "locked": true,
     "solution": false
    }
   },
   "source": [
    "### A\n",
    "\n",
    "Write a `Movie` class. It should have the following attributes:\n",
    "\n",
    " - `title`: string title of the movie\n",
    " - `starring`: list of actors and actresses (strings) in the movie\n",
    " - `year`: integer year of release\n",
    " - `stars`: number of stars, 0-5\n",
    " - `genre`: string indicating the genre of the movie\n",
    " \n",
    "It should have the following methods:\n",
    "\n",
    " - A constructor with arguments for all the class attributes\n",
    " - `getTitle()`: returns the title of the movie\n",
    " - `getStarring()`: returns the list of starring actors and actresses\n",
    " - `addActor(actor)`: adds an actor's name to the list of those starring\n",
    " - `remActor(actor)`: removes the specified actor from the list of those starring (case-insensitive)\n",
    " - `getStars()`: returns the number of stars for the movie\n",
    " \n",
    "No `import` statements allowed."
   ]
  },
  {
   "cell_type": "code",
   "execution_count": null,
   "metadata": {
    "collapsed": true,
    "nbgrader": {
     "grade": false,
     "grade_id": "q2a",
     "locked": false,
     "solution": true
    }
   },
   "outputs": [],
   "source": []
  },
  {
   "cell_type": "code",
   "execution_count": null,
   "metadata": {
    "collapsed": false,
    "nbgrader": {
     "grade": true,
     "grade_id": "q2a_test1",
     "locked": true,
     "points": 5,
     "solution": false
    }
   },
   "outputs": [],
   "source": [
    "assert Movie"
   ]
  },
  {
   "cell_type": "code",
   "execution_count": null,
   "metadata": {
    "collapsed": true,
    "nbgrader": {
     "grade": true,
     "grade_id": "q2a_test2",
     "locked": true,
     "points": 5,
     "solution": false
    }
   },
   "outputs": [],
   "source": [
    "m = Movie(title = \"Avengers: Infinity War\", year = 2018, stars = 4.9, genre = \"Action/Adventure\", \"Chris Evans\", \"Robert Downey, Jr.\", \"Scarlett Johansson\")\n",
    "assert m.title == \"Avengers: Infinity War\"\n",
    "assert m.year == 2018\n",
    "assert set(m.starring) == set([\"Chris Evans\", \"Robert Downey, Jr.\", \"Scarlett Johansson\"])\n",
    "assert m.genre == \"Action/Adventure\"\n",
    "assert int(m.stars) == 4"
   ]
  },
  {
   "cell_type": "code",
   "execution_count": null,
   "metadata": {
    "collapsed": true,
    "nbgrader": {
     "grade": true,
     "grade_id": "q2a_test3",
     "locked": true,
     "points": 5,
     "solution": false
    }
   },
   "outputs": [],
   "source": [
    "m = Movie(title = \"Avengers: Untitled\", year = 2019, stars = 4.95, genre = \"Action/Adventure\", \"Person 1\", \"Person 2\", \"Unnamed Avenger\", \"Who now?\")\n",
    "assert m.getTitle() == \"Avengers: Untitled\"\n",
    "assert set(m.getStarring()) == set([\"Person 1\", \"Person 2\", \"Unnamed Avenger\", \"Who now?\"])\n",
    "assert int(m.getStars()) == int(4.95)\n",
    "\n",
    "m.addActor(\"Probably Robert Downey\")\n",
    "assert set(m.getStarring()) == set([\"Person 1\", \"Person 2\", \"Unnamed Avenger\", \"Who now?\", \"Probably Robert Downey\"])\n",
    "\n",
    "m.remActor(\"person 2\")\n",
    "assert set(m.getStarring()) == set([\"Person 1\", \"Unnamed Avenger\", \"Who now?\", \"Probably Robert Downey\"])"
   ]
  },
  {
   "cell_type": "markdown",
   "metadata": {
    "nbgrader": {
     "grade": false,
     "grade_id": "q2b_prompt",
     "locked": true,
     "solution": false
    }
   },
   "source": [
    "### B\n",
    "\n",
    "Write a `MovieTracker` class. It will be used to track multiple `Movie` instances simultaneously. It should have the following attributes:\n",
    "\n",
    " - `movies`: a list of `Movie` instances\n",
    " \n",
    "It should have the following methods:\n",
    "\n",
    " - A constructor that takes no arguments and initializes the class attribute to be an empty list\n",
    " - `addMovie(movie)`: adds a new `Movie` object to its internal list of movies\n",
    " - `remMovie(movie)`: removes the specified `Movie` object; equality is determined by movie title (case-insensitive)\n",
    " - `avgRating()`: returns the average rating (stars) of all the movies in the tracker\n",
    " - `getGenre(genre)`: returns all the movies in the tracker that belong to the specified genre (case-insensitive), otherwise returns an empty list\n",
    " - `ratingAtLeast(rating)`: returns all the movies in the tracker with at least the specified rating, otherwise returns an empty list"
   ]
  },
  {
   "cell_type": "code",
   "execution_count": null,
   "metadata": {
    "collapsed": true,
    "nbgrader": {
     "grade": false,
     "grade_id": "q2b",
     "locked": false,
     "solution": true
    }
   },
   "outputs": [],
   "source": []
  },
  {
   "cell_type": "code",
   "execution_count": null,
   "metadata": {
    "collapsed": true,
    "nbgrader": {
     "grade": true,
     "grade_id": "q2b_test1",
     "locked": true,
     "points": 5,
     "solution": false
    }
   },
   "outputs": [],
   "source": [
    "assert MovieTracker"
   ]
  },
  {
   "cell_type": "code",
   "execution_count": null,
   "metadata": {
    "collapsed": true,
    "nbgrader": {
     "grade": true,
     "grade_id": "q2b_test2",
     "locked": true,
     "points": 5,
     "solution": false
    }
   },
   "outputs": [],
   "source": [
    "m1 = Movie(title = \"Avengers: Infinity War\", year = 2018, stars = 4.9, genre = \"Action/Adventure\", \"Chris Evans\", \"Robert Downey, Jr.\", \"Scarlett Johansson\")\n",
    "\n",
    "mt = MovieTracker()\n",
    "mt.addMovie(m1)\n",
    "assert len(mt.movies) == 1\n",
    "assert mt.avgRating() == 4.9\n",
    "assert len(mt.ratingAtLeast(5.0)) == 0"
   ]
  },
  {
   "cell_type": "code",
   "execution_count": null,
   "metadata": {
    "collapsed": true,
    "nbgrader": {
     "grade": true,
     "grade_id": "q2b_test3",
     "locked": true,
     "points": 5,
     "solution": false
    }
   },
   "outputs": [],
   "source": [
    "m1 = Movie(title = \"Avengers: Infinity War\", year = 2018, stars = 4.9, genre = \"Action/Adventure\", \"Chris Evans\", \"Robert Downey, Jr.\", \"Scarlett Johansson\")\n",
    "m2 = Movie(title = \"Avengers: Untitled\", year = 2019, stars = 4.95, genre = \"Action/Adventure\", \"Person 1\", \"Person 2\", \"Unnamed Avenger\", \"Who now?\")\n",
    "\n",
    "mt = MovieTracker()\n",
    "mt.addMovie(m1)\n",
    "mt.addMovie(m2)\n",
    "assert len(mt.movies) == 2\n",
    "assert mt.avgRating() == 4.925\n",
    "assert len(mt.ratingAtLeast(4)) == 2\n",
    "assert len(mt.getGenre(\"action/adventure\")) == 2\n",
    "mt.remMovie(\"avengers: untitled\")\n",
    "assert len(mt.movies) == 1"
   ]
  },
  {
   "cell_type": "markdown",
   "metadata": {
    "nbgrader": {
     "grade": false,
     "grade_id": "q2c_prompt",
     "locked": true,
     "solution": false
    }
   },
   "source": [
    "### C\n",
    "\n",
    "In this part, you'll write children classes of the `Movie` class based on genre. Create at least three children classes that specify a genre in their name (e.g. `ComedyMovie`, `DramaMovie`, etc).\n",
    "\n",
    "**Make sure to write a constructor for each class**, but otherwise no need to override any existing functionality or add new functionality."
   ]
  },
  {
   "cell_type": "code",
   "execution_count": null,
   "metadata": {
    "collapsed": true,
    "nbgrader": {
     "grade": true,
     "grade_id": "q2c",
     "locked": false,
     "points": 10,
     "solution": true
    }
   },
   "outputs": [],
   "source": []
  }
 ],
 "metadata": {
  "anaconda-cloud": {},
  "celltoolbar": "Create Assignment",
  "kernelspec": {
   "display_name": "Python [default]",
   "language": "python",
   "name": "python3"
  },
  "language_info": {
   "codemirror_mode": {
    "name": "ipython",
    "version": 3
   },
   "file_extension": ".py",
   "mimetype": "text/x-python",
   "name": "python",
   "nbconvert_exporter": "python",
   "pygments_lexer": "ipython3",
   "version": "3.5.2"
  }
 },
 "nbformat": 4,
 "nbformat_minor": 0
}
