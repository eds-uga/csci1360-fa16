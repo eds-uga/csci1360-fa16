{
 "cells": [
  {
   "cell_type": "markdown",
   "metadata": {
    "collapsed": true,
    "nbgrader": {
     "grade": false,
     "grade_id": "a8_title",
     "locked": true,
     "solution": false
    }
   },
   "source": [
    "# Assignment 8\n",
    "CSCI 1360: Foundations for Informatics and Analytics"
   ]
  },
  {
   "cell_type": "markdown",
   "metadata": {
    "nbgrader": {
     "grade": false,
     "grade_id": "a8_dates",
     "locked": true,
     "solution": false
    }
   },
   "source": [
    "## Important Dates\n",
    "\n",
    " - Released: 2016-10-27 at 12am [EDT](http://www.timeanddate.com/worldclock/usa/athens)\n",
    " - Deadline: 2016-11-03 at 11:59:59pm [EDT](http://www.timeanddate.com/worldclock/usa/athens)"
   ]
  },
  {
   "cell_type": "markdown",
   "metadata": {
    "nbgrader": {
     "grade": false,
     "grade_id": "a8_grades",
     "locked": true,
     "solution": false
    }
   },
   "source": [
    "## Grading Breakdown\n",
    "\n",
    " - Q1: 40pts\n",
    " - Q2: 30pts\n",
    " - Q3: 30pts\n",
    "\n",
    "Total: 100pts (+ BONUS 15pts)"
   ]
  },
  {
   "cell_type": "markdown",
   "metadata": {
    "nbgrader": {
     "grade": false,
     "grade_id": "a8_overview",
     "locked": true,
     "solution": false
    }
   },
   "source": [
    "## Overview\n",
    "\n",
    "This assignment will focus on computing probabilities and statistics.\n",
    "\n",
    "If you have any questions or difficulties with the assignment, don't hesitate to post them in `#questions`!"
   ]
  }
 ],
 "metadata": {
  "anaconda-cloud": {},
  "celltoolbar": "Create Assignment",
  "kernelspec": {
   "display_name": "Python [default]",
   "language": "python",
   "name": "python3"
  },
  "language_info": {
   "codemirror_mode": {
    "name": "ipython",
    "version": 3
   },
   "file_extension": ".py",
   "mimetype": "text/x-python",
   "name": "python",
   "nbconvert_exporter": "python",
   "pygments_lexer": "ipython3",
   "version": "3.5.2"
  }
 },
 "nbformat": 4,
 "nbformat_minor": 0
}
