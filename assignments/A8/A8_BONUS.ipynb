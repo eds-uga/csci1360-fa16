{
 "cells": [
  {
   "cell_type": "markdown",
   "metadata": {
    "nbgrader": {
     "grade": false,
     "grade_id": "qbonus_prompt",
     "locked": true,
     "solution": false
    }
   },
   "source": [
    "# BONUS\n",
    "\n",
    "In this question, we'll use Bayes' Theorem again to help us figure out what to do in the classic Monty Hall problem.\n",
    "\n",
    "You're a contestant on a popular game show. You've made it to the final decision, in which you're presented with 3 doors. Behind 1 of the 3 doors is a BRAND NEW CAR; behind the other two are goats. Your job is to pick a door, and you'll win whatever is behind it.\n",
    "\n",
    "![montyhall](http://code.jasonbhill.com/wp-content/uploads/2014/04/montyhall_3doors.png)\n",
    "\n",
    "Your statistical and probabilistical prowess don't really help here, unfortunately; you have no prior knowledge of the doors or their contents, and so can only assume that each door is equally likely to have the car behind it. Not having any better option, you choose Door #1.\n",
    "\n",
    "\"BUT WAIT!\" the host says. \"Before I reveal the contents of Door #1, I'm going to open Door #3 and show you that there's a goat there! Now I'll ask: is Door #1 your final answer?\"\n",
    "\n",
    "You have an opportunity to switch, if you want, but you want to make sure you're playing the odds (if there are any to play). Using your knowledge of Bayes' Theorem and probability, prove whether it's beneficial to switch, to stick with your initial choice, or if there's no advantage either way. Show your work!"
   ]
  },
  {
   "cell_type": "markdown",
   "metadata": {
    "collapsed": true,
    "nbgrader": {
     "grade": true,
     "grade_id": "qbonus",
     "locked": false,
     "points": 15,
     "solution": true
    }
   },
   "source": []
  }
 ],
 "metadata": {
  "anaconda-cloud": {},
  "celltoolbar": "Create Assignment",
  "kernelspec": {
   "display_name": "Python [default]",
   "language": "python",
   "name": "python3"
  },
  "language_info": {
   "codemirror_mode": {
    "name": "ipython",
    "version": 3
   },
   "file_extension": ".py",
   "mimetype": "text/x-python",
   "name": "python",
   "nbconvert_exporter": "python",
   "pygments_lexer": "ipython3",
   "version": "3.5.2"
  }
 },
 "nbformat": 4,
 "nbformat_minor": 0
}
