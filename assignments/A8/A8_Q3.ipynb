{
 "cells": [
  {
   "cell_type": "markdown",
   "metadata": {
    "nbgrader": {
     "grade": false,
     "grade_id": "q3_prompt",
     "locked": true,
     "solution": false
    }
   },
   "source": [
    "# Q3\n",
    "\n",
    "In this question, you'll compute basic statitistics of data and determine the best way to represent it under different circumstances."
   ]
  },
  {
   "cell_type": "markdown",
   "metadata": {
    "nbgrader": {
     "grade": false,
     "grade_id": "q3b_prompt",
     "locked": true,
     "solution": false
    }
   },
   "source": [
    "### A\n",
    "\n",
    "In this question, you'll work with 2-dimensional data. The following code uses a subset of the [UCI ML Boston housing prices dataset](http://archive.ics.uci.edu/ml/datasets/Housing). It has been used in many machine learning papers, usually in a regression application. However, in our case, we'll look at how to summarize this data.\n",
    "\n",
    "At the end of the following code block, you'll see a matrix `X` that is created for you. This matrix has 506 rows (data points), and 2 columns (dimensions), and is visualized in a scatter plot. You'll notice most of the data clusters together between 0 and 10 on the x-axis, but there are a few data points that are clear outliers.\n",
    "\n",
    "Your job is to **compute a summary statistic of this data that is robust to these outliers.** Using your knowledge of summary statistics from lecture, compute a single 2D data point that summarizes the data. You can check your work by passing the data `X` and your summary statistic `s` to the function **`plot_data_and_stat`**, which will visualize the data in blue dots, and the statistic as a yellow pentagon. If your statistic is robust to outliers, it should fall in the big cluster of data points, not in the open space between them.\n",
    "\n",
    "Your method can include some data pre-processing! You just can't use any pre-packaged \"outlier detection\" methods, unless you implement it yourself, of course. But it can be as complex or as simple as you'd like, so long as it adheres to the robust-to-outliers requirement."
   ]
  },
  {
   "cell_type": "code",
   "execution_count": 24,
   "metadata": {
    "collapsed": false,
    "nbgrader": {
     "grade": false,
     "grade_id": "q3b_setup",
     "locked": true,
     "solution": false
    }
   },
   "outputs": [
    {
     "name": "stdout",
     "output_type": "stream",
     "text": [
      "(506, 2)\n"
     ]
    },
    {
     "data": {
      "image/png": "[encoded data removed]",
      "text/plain": [
       "<matplotlib.figure.Figure at 0x1131b76a0>"
      ]
     },
     "metadata": {},
     "output_type": "display_data"
    }
   ],
   "source": [
    "%matplotlib inline\n",
    "\n",
    "import numpy as np\n",
    "import matplotlib.pyplot as plt\n",
    "import seaborn as sns\n",
    "from sklearn.datasets import load_boston\n",
    "\n",
    "# Call this with just the data X to visualize it.\n",
    "def plot_data(X, alpha = 1.0):\n",
    "    plt.scatter(X[:, 0], X[:, 1], alpha = alpha)\n",
    "\n",
    "##############\n",
    "# Call this WITH YOUR 2D SUMMARY STATISTIC to visualize it simultaneously with the data.\n",
    "# \"statistic\" should be a 2-element array.\n",
    "# - 1st element is x-value\n",
    "# - 2nd element is y-value\n",
    "##############\n",
    "def plot_data_and_stat(X, statistic):\n",
    "    plt.scatter(X[:, 0], X[:, 1], alpha = 0.05, label = 'Data')\n",
    "    plt.plot(statistic[0], statistic[1], c = 'y', marker = 'p', ms = 12.0, mec = 'k', mew = 1.0, label = 'Mean')\n",
    "    plt.legend(loc = 0)\n",
    "\n",
    "##########################\n",
    "# \n",
    "# SETUP CODE STARTS HERE\n",
    "# \n",
    "##########################\n",
    "    \n",
    "X = load_boston()['data'][:, [8, 10]]  # two clusters\n",
    "print(X.shape)\n",
    "plot_data(X)"
   ]
  },
  {
   "cell_type": "code",
   "execution_count": null,
   "metadata": {
    "collapsed": false,
    "nbgrader": {
     "grade": true,
     "grade_id": "q3b",
     "locked": false,
     "points": 15,
     "solution": true
    }
   },
   "outputs": [],
   "source": []
  },
  {
   "cell_type": "markdown",
   "metadata": {
    "nbgrader": {
     "grade": false,
     "grade_id": "q3c_prompt",
     "locked": true,
     "solution": false
    }
   },
   "source": [
    "### B\n",
    "\n",
    "#### Justify your solution in the previous question. Are there any circumstances where you'd advise against this approach (i.e., are there any weaknesses to your solution)?"
   ]
  },
  {
   "cell_type": "markdown",
   "metadata": {
    "nbgrader": {
     "grade": true,
     "grade_id": "q3c",
     "locked": false,
     "points": 15,
     "solution": true
    }
   },
   "source": []
  }
 ],
 "metadata": {
  "anaconda-cloud": {},
  "celltoolbar": "Create Assignment",
  "kernelspec": {
   "display_name": "Python [default]",
   "language": "python",
   "name": "python3"
  },
  "language_info": {
   "codemirror_mode": {
    "name": "ipython",
    "version": 3
   },
   "file_extension": ".py",
   "mimetype": "text/x-python",
   "name": "python",
   "nbconvert_exporter": "python",
   "pygments_lexer": "ipython3",
   "version": "3.5.2"
  }
 },
 "nbformat": 4,
 "nbformat_minor": 0
}
