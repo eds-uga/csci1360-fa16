{
 "cells": [
  {
   "cell_type": "markdown",
   "metadata": {
    "nbgrader": {
     "grade": false,
     "grade_id": "q1_prompt",
     "locked": true,
     "solution": false
    }
   },
   "source": [
    "# Q1\n",
    "\n",
    "In this question, you'll go over some of the core terms and concepts in statistics."
   ]
  },
  {
   "cell_type": "markdown",
   "metadata": {
    "collapsed": true,
    "nbgrader": {
     "grade": false,
     "grade_id": "q1a_prompt",
     "locked": true,
     "solution": false
    }
   },
   "source": [
    "### A\n",
    "\n",
    "Write a function, `mean`, which computes the mean of a list of numbers.\n",
    "\n",
    "The function takes one argument: a list or 1D NumPy array of numbers. It returns one floating-point number: the average value.\n",
    "\n",
    "You can use `numpy.array` but no other NumPy functions or built-in Python functions."
   ]
  },
  {
   "cell_type": "code",
   "execution_count": null,
   "metadata": {
    "collapsed": true,
    "nbgrader": {
     "grade": false,
     "grade_id": "q1a",
     "locked": false,
     "solution": true
    }
   },
   "outputs": [],
   "source": []
  },
  {
   "cell_type": "code",
   "execution_count": null,
   "metadata": {
    "collapsed": true,
    "nbgrader": {
     "grade": true,
     "grade_id": "q1a_test1",
     "locked": true,
     "points": 2,
     "solution": false
    }
   },
   "outputs": [],
   "source": [
    "try:\n",
    "    mean\n",
    "except:\n",
    "    assert False\n",
    "else:\n",
    "    assert True"
   ]
  },
  {
   "cell_type": "code",
   "execution_count": null,
   "metadata": {
    "collapsed": true,
    "nbgrader": {
     "grade": true,
     "grade_id": "q1a_test2",
     "locked": true,
     "points": 6,
     "solution": false
    }
   },
   "outputs": [],
   "source": [
    "import numpy as np\n",
    "\n",
    "np.random.seed(2342348)\n",
    "x = np.random.random(100)\n",
    "np.testing.assert_allclose(0.51465810266723755, mean(x))\n",
    "\n",
    "np.random.seed(5825)\n",
    "y = np.random.random(1000)\n",
    "np.testing.assert_allclose(0.50133630983357202, mean(y))"
   ]
  },
  {
   "cell_type": "markdown",
   "metadata": {
    "nbgrader": {
     "grade": false,
     "grade_id": "q1b_prompt",
     "locked": true,
     "solution": false
    }
   },
   "source": [
    "### B\n",
    "\n",
    "Write a function, `variance`, which computes the variance of a list of numbers.\n",
    "\n",
    "The function takes one argument: a list or 1D NumPy array of numbers. It returns one floating-point number: the variance of all the numbers.\n",
    "\n",
    "Recall the formula for variance:\n",
    "\n",
    "$$\n",
    "variance = \\frac{1}{N - 1} \\sum_{i = 1}^{N} (x_i - \\mu_x)^2\n",
    "$$\n",
    "\n",
    "where $N$ is the number of numbers in your list, $x_i$ is the number at index $i$ in the list, and $\\mu_x$ is the average value of all the $x$ values.\n",
    "\n",
    "You can use `numpy.array` and your `mean` function from Part A, but no other NumPy functions or built-in Python functions."
   ]
  },
  {
   "cell_type": "code",
   "execution_count": null,
   "metadata": {
    "collapsed": true,
    "nbgrader": {
     "grade": false,
     "grade_id": "q1b",
     "locked": false,
     "solution": true
    }
   },
   "outputs": [],
   "source": []
  },
  {
   "cell_type": "code",
   "execution_count": null,
   "metadata": {
    "collapsed": true,
    "nbgrader": {
     "grade": true,
     "grade_id": "q1b_test1",
     "locked": true,
     "points": 2,
     "solution": false
    }
   },
   "outputs": [],
   "source": [
    "try:\n",
    "    variance\n",
    "except:\n",
    "    assert False\n",
    "else:\n",
    "    assert True"
   ]
  },
  {
   "cell_type": "code",
   "execution_count": null,
   "metadata": {
    "collapsed": true,
    "nbgrader": {
     "grade": true,
     "grade_id": "q1b_test2",
     "locked": true,
     "points": 6,
     "solution": false
    }
   },
   "outputs": [],
   "source": [
    "import numpy as np\n",
    "\n",
    "np.random.seed(5987968)\n",
    "x = np.random.random(8491)\n",
    "v = x.var(ddof = 1)\n",
    "np.testing.assert_allclose(v, variance(x))\n",
    "\n",
    "np.random.seed(4159)\n",
    "y = np.random.random(25)\n",
    "w = y.var(ddof = 1)\n",
    "np.testing.assert_allclose(w, variance(y))"
   ]
  },
  {
   "cell_type": "markdown",
   "metadata": {
    "nbgrader": {
     "grade": false,
     "grade_id": "q1c_prompt",
     "locked": true,
     "solution": false
    }
   },
   "source": [
    "### C\n",
    "\n",
    "The lecture on statistics mentions latent variables, specifically how you *cannot* know what the underlying process is that's generating your data; all you have is the data, on which you have to impose certain assumptions in order to derive hypotheses about what generated the data in the first place.\n",
    "\n",
    "To illustrate this, the code provided below generates sample data from distributions with mean and variance that are *normally* not known to you. You'll use the functions you wrote in parts A and B to compute the statistics on the sample data itself and observe how these statistics change.\n",
    "\n",
    "In the space provided, compute and print the mean and variance of each of the three samples:\n",
    " - `sample1`\n",
    " - `sample2`\n",
    " - `sample3`\n",
    " \n",
    "Use the functions you wrote in Parts A and B."
   ]
  },
  {
   "cell_type": "code",
   "execution_count": null,
   "metadata": {
    "collapsed": true,
    "nbgrader": {
     "grade": true,
     "grade_id": "q1c",
     "locked": false,
     "points": 8,
     "solution": true
    }
   },
   "outputs": [],
   "source": [
    "import numpy as np\n",
    "np.random.seed(5735636)\n",
    "\n",
    "sample1 = np.random.normal(loc = 10, scale = 5, size = 10)\n",
    "sample2 = np.random.normal(loc = 10, scale = 5, size = 1000)\n",
    "sample3 = np.random.normal(loc = 10, scale = 5, size = 1000000)\n",
    "\n",
    "#########################\n",
    "# DON'T MODIFY ANYTHING #\n",
    "#   ABOVE THIS BLOCK    #\n",
    "#########################\n",
    "\n",
    "### BEGIN SOLUTION\n",
    "\n",
    "### END SOLUTION"
   ]
  },
  {
   "cell_type": "markdown",
   "metadata": {
    "nbgrader": {
     "grade": false,
     "grade_id": "q1d_prompt",
     "locked": true,
     "solution": false
    }
   },
   "source": [
    "### D\n",
    "\n",
    "Since you don't usually know the *true* mean and variance of the process that presumably generated your data, the mean and variance you compute yourself are *estimates* of the true mean and variance. Explain what you saw in the estimates you computed above as they related to the number of samples. What implications does this have for computing statistics as part of real-world analyses?"
   ]
  },
  {
   "cell_type": "markdown",
   "metadata": {
    "nbgrader": {
     "grade": true,
     "grade_id": "q1d",
     "locked": false,
     "points": 6,
     "solution": true
    }
   },
   "source": []
  }
 ],
 "metadata": {
  "anaconda-cloud": {},
  "celltoolbar": "Create Assignment",
  "kernelspec": {
   "display_name": "Python [default]",
   "language": "python",
   "name": "python3"
  },
  "language_info": {
   "codemirror_mode": {
    "name": "ipython",
    "version": 3
   },
   "file_extension": ".py",
   "mimetype": "text/x-python",
   "name": "python",
   "nbconvert_exporter": "python",
   "pygments_lexer": "ipython3",
   "version": "3.5.2"
  }
 },
 "nbformat": 4,
 "nbformat_minor": 0
}
