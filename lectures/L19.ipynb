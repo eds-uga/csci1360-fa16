{
 "cells": [
  {
   "cell_type": "markdown",
   "metadata": {
    "slideshow": {
     "slide_type": "slide"
    }
   },
   "source": [
    "# Lecture 19: Natural Language Processing I\n",
    "\n",
    "CSCI 1360: Foundations for Informatics and Analytics"
   ]
  },
  {
   "cell_type": "markdown",
   "metadata": {
    "slideshow": {
     "slide_type": "slide"
    }
   },
   "source": [
    "## Overview and Objectives"
   ]
  },
  {
   "cell_type": "markdown",
   "metadata": {
    "slideshow": {
     "slide_type": "fragment"
    }
   },
   "source": [
    "We've covered about all the core basics of Python and are now solidly into how we wield these tools in the realm of data science. One extremely common, almost unavoidable application is text processing. It's a messy, complex, but very rewarding subarea that has reams of literature devoted to it, whereas we have this single lecture. By the end of this lecture, you should be able to:"
   ]
  },
  {
   "cell_type": "markdown",
   "metadata": {
    "slideshow": {
     "slide_type": "fragment"
    }
   },
   "source": [
    " - Differentiate structured from unstructured data\n",
    " - Understand the different string parsing tools available through Python\n",
    " - Grasp some of the basic preprocessing steps required when text is involved\n",
    " - Define the \"bag of words\" text representation"
   ]
  },
  {
   "cell_type": "markdown",
   "metadata": {
    "slideshow": {
     "slide_type": "slide"
    }
   },
   "source": [
    "## Part 1: Text Preprocessing"
   ]
  },
  {
   "cell_type": "markdown",
   "metadata": {
    "slideshow": {
     "slide_type": "fragment"
    }
   },
   "source": [
    "\"Preprocessing\" is something of a recursively ambiguous: it's the processing before the processing (what?)."
   ]
  },
  {
   "cell_type": "markdown",
   "metadata": {
    "slideshow": {
     "slide_type": "fragment"
    }
   },
   "source": [
    "More colloquially, it's the processing that you do in order to put your data in a useful format for the *actual* analysis you intend to perform. As we saw in the previous lecture, this is what data scientists spend the majority of their time doing, so it's important to know and understand the basic steps."
   ]
  },
  {
   "cell_type": "markdown",
   "metadata": {
    "slideshow": {
     "slide_type": "slide"
    }
   },
   "source": [
    "The vast majority of interesting data is in *unstructured* format. You can think of this kind of like data in its natural habitat. Like wild animals, though, data in unstructured form requires significantly more effort to study effectively."
   ]
  },
  {
   "cell_type": "markdown",
   "metadata": {
    "slideshow": {
     "slide_type": "fragment"
    }
   },
   "source": [
    "![unstructured](https://www.laserfiche.com/content/uploads/2015/05/unstructured_data.png)"
   ]
  },
  {
   "cell_type": "markdown",
   "metadata": {
    "slideshow": {
     "slide_type": "fragment"
    }
   },
   "source": [
    "Our goal in preprocessing is, in a sense, to turn *unstructured* data into *structured* data, or data that has a logical flow and format. CSV and JSON formats would be considered structured."
   ]
  },
  {
   "cell_type": "markdown",
   "metadata": {
    "slideshow": {
     "slide_type": "slide"
    }
   },
   "source": [
    "To start, let's go back to the *Alice in Wonderland* example from the previous lecture ([you can download the text version of the book here](http://www.gutenberg.org/cache/epub/11/pg11.txt))."
   ]
  },
  {
   "cell_type": "code",
   "execution_count": 1,
   "metadata": {
    "collapsed": false,
    "slideshow": {
     "slide_type": "fragment"
    }
   },
   "outputs": [
    {
     "name": "stdout",
     "output_type": "stream",
     "text": [
      "﻿Project Gutenberg's Alice's Adventures in Wonderland, by Lewis Carroll\n"
     ]
    }
   ],
   "source": [
    "book = None\n",
    "try:  # Good coding practices!\n",
    "    f = open(\"alice.txt\", \"r\")\n",
    "    book = f.read()\n",
    "except FileNotFoundError:\n",
    "    print(\"Could not find alice.txt.\")\n",
    "else:\n",
    "    f.close()\n",
    "    print(book[:71])  # Print the first 71 characters."
   ]
  },
  {
   "cell_type": "markdown",
   "metadata": {
    "slideshow": {
     "slide_type": "fragment"
    }
   },
   "source": [
    "Recalling the mechanics of file I/O from the previous lecture, you'll see we opened up a file descriptor to `alice.txt` and read the whole file in a single go, storing all the text as a single string `book`. We then closed the file descriptor and printed out the first line (or first 71 characters), while wrapping the entire operation in a try / except block."
   ]
  },
  {
   "cell_type": "markdown",
   "metadata": {
    "slideshow": {
     "slide_type": "slide"
    }
   },
   "source": [
    "But as we saw before, it's also pretty convenient to split up a large text file by lines. You could use the `readlines()` method instead, but you can take a string and split it up into a list of strings as well."
   ]
  },
  {
   "cell_type": "code",
   "execution_count": 2,
   "metadata": {
    "collapsed": false,
    "slideshow": {
     "slide_type": "fragment"
    }
   },
   "outputs": [
    {
     "name": "stdout",
     "output_type": "stream",
     "text": [
      "<class 'str'>\n",
      "<class 'list'>\n"
     ]
    }
   ],
   "source": [
    "print(type(book))\n",
    "lines = book.split(\"\\n\")  # Split the string. Where should the splits happen? On newline characters, of course.\n",
    "print(type(lines))"
   ]
  },
  {
   "cell_type": "markdown",
   "metadata": {
    "slideshow": {
     "slide_type": "fragment"
    }
   },
   "source": [
    "*voilà!* `lines` is now a list of strings."
   ]
  },
  {
   "cell_type": "code",
   "execution_count": 3,
   "metadata": {
    "collapsed": false,
    "slideshow": {
     "slide_type": "fragment"
    }
   },
   "outputs": [
    {
     "name": "stdout",
     "output_type": "stream",
     "text": [
      "3736\n"
     ]
    }
   ],
   "source": [
    "print(len(lines))"
   ]
  },
  {
   "cell_type": "markdown",
   "metadata": {
    "slideshow": {
     "slide_type": "fragment"
    }
   },
   "source": [
    "...a list of over 3,700 lines of text, no less o_O"
   ]
  },
  {
   "cell_type": "markdown",
   "metadata": {
    "slideshow": {
     "slide_type": "slide"
    }
   },
   "source": [
    "### Newline characters"
   ]
  },
  {
   "cell_type": "markdown",
   "metadata": {
    "slideshow": {
     "slide_type": "fragment"
    }
   },
   "source": [
    "Let's go over this point in a little more detail."
   ]
  },
  {
   "cell_type": "markdown",
   "metadata": {
    "slideshow": {
     "slide_type": "fragment"
    }
   },
   "source": [
    "A \"newline\" character is an actual character--like \"a\" or \"b\" or \"1\" or \":\"--that represents pressing the \"enter\" key. However, like tabs and spaces, this character falls under the category of a \"whitespace\" character, meaning that in print you can't actually *see* it; the computer hides it."
   ]
  },
  {
   "cell_type": "markdown",
   "metadata": {
    "slideshow": {
     "slide_type": "fragment"
    }
   },
   "source": [
    "However, in programming languages like Python (and Java, and C, and Matlab, and R, and and and...), they need a way to explicitly represent these whitespace characters, specifically when processing text like we're doing right now."
   ]
  },
  {
   "cell_type": "markdown",
   "metadata": {
    "slideshow": {
     "slide_type": "slide"
    }
   },
   "source": [
    "So, even though you can't see tabs or newlines in the actual text--go ahead and open up *Alice in Wonderland* and tell me if you can see the actual characters representing newlines and tabs--you *can* see these characters in Python."
   ]
  },
  {
   "cell_type": "markdown",
   "metadata": {
    "slideshow": {
     "slide_type": "fragment"
    }
   },
   "source": [
    " - Tabs are represented by a backslash followed by the letter \"t\", the whole thing in quotes: `\"\\t\"`\n",
    " - Newlines are represented by a backslash followed by the letter \"n\", the whole thing in quotes: `\"\\n\"`"
   ]
  },
  {
   "cell_type": "markdown",
   "metadata": {
    "slideshow": {
     "slide_type": "fragment"
    }
   },
   "source": [
    "\"But wait!\" you say, \"Slash-t and slash-n are two characters each, not one! What kind of shenanigans are you trying to pull?\""
   ]
  },
  {
   "cell_type": "markdown",
   "metadata": {
    "slideshow": {
     "slide_type": "fragment"
    }
   },
   "source": [
    "Yes, it's weird. If you build a career in text processing, you'll find the backslash has a long and storied history as a kind of \"meta\"-character, in that it tells whatever programming language that the character *after* it is a super-special snowflake. So in some sense, the backslash-t and backslash-n constructs are actually **one** character, because the backslash is the text equivalent of a formal introduction."
   ]
  },
  {
   "cell_type": "markdown",
   "metadata": {
    "slideshow": {
     "slide_type": "slide"
    }
   },
   "source": [
    "### Back to text parsing"
   ]
  },
  {
   "cell_type": "markdown",
   "metadata": {
    "slideshow": {
     "slide_type": "fragment"
    }
   },
   "source": [
    "When we called `split()` on the string holding the entire *Alice in Wonderland* book, we passed in the argument `\"\\n\"`, which is the newline character. In doing so, we instructed Python to"
   ]
  },
  {
   "cell_type": "markdown",
   "metadata": {
    "slideshow": {
     "slide_type": "fragment"
    }
   },
   "source": [
    " - *Split up* the original string (hence, the name of the function) into a list of strings"
   ]
  },
  {
   "cell_type": "markdown",
   "metadata": {
    "slideshow": {
     "slide_type": "fragment"
    }
   },
   "source": [
    " - The end of one list and the beginning of the next list would be delimited by the occurrence of a newline character `\"\\n\"` in the original string. In a sense, we're treating the book as a \"newline-delimited\" format"
   ]
  },
  {
   "cell_type": "markdown",
   "metadata": {
    "slideshow": {
     "slide_type": "fragment"
    }
   },
   "source": [
    " - Return a list of strings, where each string is one line of the book"
   ]
  },
  {
   "cell_type": "markdown",
   "metadata": {
    "slideshow": {
     "slide_type": "slide"
    }
   },
   "source": [
    "An important distinction for text processing neophytes: this splits the book up on a *line by line* basis, **NOT** a *sentence by sentence* basis. There are a lot of implicit semantic assumptions we hold from a lifetime of taking our native language for granted, but which Python has absolutely no understanding of beyond what we tell it to do."
   ]
  },
  {
   "cell_type": "markdown",
   "metadata": {
    "slideshow": {
     "slide_type": "fragment"
    }
   },
   "source": [
    "You certainly could, in theory, split the book on punctuation, rather than newlines. This is a bit trickier to do without regular expressions (see Part 3), but to give an example of splitting by period:"
   ]
  },
  {
   "cell_type": "code",
   "execution_count": 4,
   "metadata": {
    "collapsed": false,
    "slideshow": {
     "slide_type": "fragment"
    }
   },
   "outputs": [
    {
     "name": "stdout",
     "output_type": "stream",
     "text": [
      "﻿Project Gutenberg's Alice's Adventures in Wonderland, by Lewis Carroll\n",
      "\n",
      "This eBook is for the use of anyone anywhere at no cost and with\n",
      "almost no restrictions whatsoever\n"
     ]
    }
   ],
   "source": [
    "sentences = book.split(\".\")\n",
    "print(sentences[0])"
   ]
  },
  {
   "cell_type": "markdown",
   "metadata": {
    "slideshow": {
     "slide_type": "fragment"
    }
   },
   "source": [
    "You can already see some problems with this approach: not all sentences end with periods. Sure, you could split things again on question marks and exclamation points, but this still wouldn't tease out the case of the title--which has NO punctuation to speak of!--and doesn't account for important literary devices like semicolons and parentheses. These are valid punctuation characters in English! But how would you handle them?"
   ]
  },
  {
   "cell_type": "markdown",
   "metadata": {
    "slideshow": {
     "slide_type": "slide"
    }
   },
   "source": [
    "### Cleaning up trailing whitespace"
   ]
  },
  {
   "cell_type": "markdown",
   "metadata": {
    "slideshow": {
     "slide_type": "fragment"
    }
   },
   "source": [
    "You may have noticed that, whenever you invoke the `print()` statement, you automatically get a new line even though I doubt you've ever added a `\"\\n\"` to the end of the string you're printing."
   ]
  },
  {
   "cell_type": "code",
   "execution_count": 5,
   "metadata": {
    "collapsed": false,
    "slideshow": {
     "slide_type": "fragment"
    }
   },
   "outputs": [
    {
     "name": "stdout",
     "output_type": "stream",
     "text": [
      "Even though there's no newline in the string I wrote, Python's print function still adds one.\n",
      "\n",
      "There's a blank line above.\n"
     ]
    }
   ],
   "source": [
    "print(\"Even though there's no newline in the string I wrote, Python's print function still adds one.\")\n",
    "print()  # Blank line!\n",
    "print(\"There's a blank line above.\")"
   ]
  },
  {
   "cell_type": "markdown",
   "metadata": {
    "slideshow": {
     "slide_type": "slide"
    }
   },
   "source": [
    "This is fine for 99% of cases, except when the string already happens to have a newline at the end."
   ]
  },
  {
   "cell_type": "code",
   "execution_count": 6,
   "metadata": {
    "collapsed": false,
    "slideshow": {
     "slide_type": "fragment"
    }
   },
   "outputs": [
    {
     "name": "stdout",
     "output_type": "stream",
     "text": [
      "Here's a string with an explicit newline --> \n",
      "\n",
      "\n",
      "Now there are TWO blank lines above!\n"
     ]
    }
   ],
   "source": [
    "print(\"Here's a string with an explicit newline --> \\n\")\n",
    "print()\n",
    "print(\"Now there are TWO blank lines above!\")"
   ]
  },
  {
   "cell_type": "markdown",
   "metadata": {
    "slideshow": {
     "slide_type": "slide"
    }
   },
   "source": [
    "\"But wait!\" you say again, \"You read in the text file and split it on newlines a few slides ago, but when you printed out the first line, there was no extra blank line underneath! Why did that work today but not in previous lectures?\""
   ]
  },
  {
   "cell_type": "markdown",
   "metadata": {
    "slideshow": {
     "slide_type": "fragment"
    }
   },
   "source": [
    "An excellent question. It has to do with the approach we took. Previously, we used the `readline()` method, which hands you back one line of text at a time *with the trailing newline intact*:"
   ]
  },
  {
   "cell_type": "code",
   "execution_count": 7,
   "metadata": {
    "collapsed": false,
    "slideshow": {
     "slide_type": "fragment"
    }
   },
   "outputs": [
    {
     "name": "stdout",
     "output_type": "stream",
     "text": [
      "﻿Project Gutenberg's Alice's Adventures in Wonderland, by Lewis Carroll\n",
      "\n",
      "This eBook is for the use of anyone anywhere at no cost and with\n",
      "\n",
      "There are blank lines because of the trailing newline characters.\n"
     ]
    }
   ],
   "source": [
    "readlines = None\n",
    "try:\n",
    "    with open(\"alice.txt\", \"r\") as f:\n",
    "        readlines = f.readlines()\n",
    "except:\n",
    "    print(\"Something went wrong.\")\n",
    "print(readlines[0])\n",
    "print(readlines[2])\n",
    "print(\"There are blank lines because of the trailing newline characters.\")"
   ]
  },
  {
   "cell_type": "markdown",
   "metadata": {
    "slideshow": {
     "slide_type": "slide"
    }
   },
   "source": [
    "On the other hand, when you call `split()` on a string, it not only identifies all the instances of the character you specify as the endpoints of each successive list, but it also *removes those characters* from the ensuing lists."
   ]
  },
  {
   "cell_type": "code",
   "execution_count": 8,
   "metadata": {
    "collapsed": false,
    "slideshow": {
     "slide_type": "fragment"
    }
   },
   "outputs": [
    {
     "name": "stdout",
     "output_type": "stream",
     "text": [
      "﻿Project Gutenberg's Alice's Adventures in Wonderland, by Lewis Carroll\n",
      "\n",
      "﻿Project Gutenberg's Alice's Adventures in Wonderland, by Lewis Carroll\n",
      "No trailing newline when using split()!\n"
     ]
    }
   ],
   "source": [
    "print(readlines[0])  # This used readlines(), so it STILL HAS trailing newlines.\n",
    "print(lines[0])      # This used split(), so the newlines were REMOVED.\n",
    "print(\"No trailing newline when using split()!\")"
   ]
  },
  {
   "cell_type": "markdown",
   "metadata": {
    "slideshow": {
     "slide_type": "slide"
    }
   },
   "source": [
    "Is this getting confusing? If so, just remember the following: "
   ]
  },
  {
   "cell_type": "markdown",
   "metadata": {
    "slideshow": {
     "slide_type": "fragment"
    }
   },
   "source": [
    "**In general, make liberal use of the `strip()` function for strings you read in from files.**"
   ]
  },
  {
   "cell_type": "markdown",
   "metadata": {
    "slideshow": {
     "slide_type": "fragment"
    }
   },
   "source": [
    "This function *strips* (hence, the name) any whitespace off the front AND end of a string. So in the following example:"
   ]
  },
  {
   "cell_type": "code",
   "execution_count": 9,
   "metadata": {
    "collapsed": false,
    "slideshow": {
     "slide_type": "fragment"
    }
   },
   "outputs": [
    {
     "name": "stdout",
     "output_type": "stream",
     "text": [
      "Border --> |this is the important part| <-- Border\n"
     ]
    }
   ],
   "source": [
    "trailing_whitespace = \"       \\t   this is the important part \\n \\n    \\t \"\n",
    "no_whitespace = trailing_whitespace.strip()\n",
    "print(\"Border --> |{}| <-- Border\".format(no_whitespace))"
   ]
  },
  {
   "cell_type": "markdown",
   "metadata": {
    "slideshow": {
     "slide_type": "fragment"
    }
   },
   "source": [
    "All the pesky spaces, tabs, and newlines have been stripped off the string. This is *extremely* useful and pretty much a must when you're preprocessing text."
   ]
  },
  {
   "cell_type": "markdown",
   "metadata": {
    "slideshow": {
     "slide_type": "slide"
    }
   },
   "source": [
    "### Capitalization"
   ]
  },
  {
   "cell_type": "markdown",
   "metadata": {
    "slideshow": {
     "slide_type": "fragment"
    }
   },
   "source": [
    "This is one of those insidious that seems like such a tiny detail but can radically alter your analysis if left unnoticed: developing a strategy for how you're going to handle uppercase versus lowercase. "
   ]
  },
  {
   "cell_type": "markdown",
   "metadata": {
    "slideshow": {
     "slide_type": "fragment"
    }
   },
   "source": [
    "Take the following example from *Alice in Wonderland*, lines 410 and 411:"
   ]
  },
  {
   "cell_type": "code",
   "execution_count": 10,
   "metadata": {
    "collapsed": false,
    "slideshow": {
     "slide_type": "fragment"
    }
   },
   "outputs": [
    {
     "name": "stdout",
     "output_type": "stream",
     "text": [
      "about it. And yet I wish I could show you our cat Dinah: I think you'd\n",
      "take a fancy to cats if you could only see her. She is such a dear quiet\n"
     ]
    }
   ],
   "source": [
    "print(lines[410])\n",
    "print(lines[411])"
   ]
  },
  {
   "cell_type": "markdown",
   "metadata": {
    "slideshow": {
     "slide_type": "fragment"
    }
   },
   "source": [
    "You'll notice the word \"and\" appears twice: once at the beginning of the sentence in line 410, and again in the middle of the sentence in line 411. It's the same word, but given their difference in capitalization, it's entirely likely that your analysis framework would treat those as *two separate words*. After all, `\"and\" != \"And\"`. Go ahead and try!"
   ]
  },
  {
   "cell_type": "markdown",
   "metadata": {
    "slideshow": {
     "slide_type": "slide"
    }
   },
   "source": [
    "A common strategy is to simply lowercase *everything*. Yes, you likely lose a little bit of information, as it becomes more difficult to identify proper nouns, but a significant source of confusion--is it a proper noun, or just the start of a sentence? has the meaning of the word changed if it's in lowercase versus ALL CAPS? what if you're comparing multiple styles of writing and the authors use different literary forms of capitalizatoin?--is removed entirely."
   ]
  },
  {
   "cell_type": "markdown",
   "metadata": {
    "slideshow": {
     "slide_type": "fragment"
    }
   },
   "source": [
    "You can do this with the Python string's **`lower()`** method:"
   ]
  },
  {
   "cell_type": "code",
   "execution_count": 11,
   "metadata": {
    "collapsed": false,
    "slideshow": {
     "slide_type": "fragment"
    }
   },
   "outputs": [
    {
     "name": "stdout",
     "output_type": "stream",
     "text": [
      "﻿Project Gutenberg's Alice's Adventures in Wonderland, by Lewis Carroll\n",
      "﻿project gutenberg's alice's adventures in wonderland, by lewis carroll\n"
     ]
    }
   ],
   "source": [
    "print(lines[0])\n",
    "title = lines[0].lower()\n",
    "print(title)"
   ]
  },
  {
   "cell_type": "markdown",
   "metadata": {
    "slideshow": {
     "slide_type": "fragment"
    }
   },
   "source": [
    "Now everything is, in some sense, \"equivalent.\""
   ]
  },
  {
   "cell_type": "markdown",
   "metadata": {
    "slideshow": {
     "slide_type": "slide"
    }
   },
   "source": [
    "## Part 2: The \"Bag of Words\""
   ]
  },
  {
   "cell_type": "markdown",
   "metadata": {
    "slideshow": {
     "slide_type": "fragment"
    }
   },
   "source": [
    "The \"[bag of words](https://en.wikipedia.org/wiki/Bag-of-words_model)\" model is one of the most popular ways of representing a large collection of text, and one of the easiest ways to structure text."
   ]
  },
  {
   "cell_type": "markdown",
   "metadata": {
    "slideshow": {
     "slide_type": "fragment"
    }
   },
   "source": [
    "The \"bag of words\" on display on the 8th floor of the Computer Science building at Carnegie Mellon University:\n",
    "\n",
    "![bagofwords](http://dobrokot.ru/pics/bag-of-words.jpg)"
   ]
  },
  {
   "cell_type": "markdown",
   "metadata": {
    "slideshow": {
     "slide_type": "slide"
    }
   },
   "source": [
    "When using this model, the implicit assumptions behind it are saying"
   ]
  },
  {
   "cell_type": "markdown",
   "metadata": {
    "slideshow": {
     "slide_type": "fragment"
    }
   },
   "source": [
    " - Relative word order and grammar **DON'T MATTER** to the overall meaning of the text."
   ]
  },
  {
   "cell_type": "markdown",
   "metadata": {
    "slideshow": {
     "slide_type": "fragment"
    }
   },
   "source": [
    " - Relative word frequencies **ABSOLUTELY MATTER** to the overall meaning of the text."
   ]
  },
  {
   "cell_type": "markdown",
   "metadata": {
    "slideshow": {
     "slide_type": "fragment"
    }
   },
   "source": [
    "Formally, the bag of words is a \"multiset\", but you can think of it like a Python dictionary. In fact, at its simplest, that's all the bag of words is: a count of how many times each word occurs in your text. But like dictionaries, ordering no longer matters."
   ]
  },
  {
   "cell_type": "markdown",
   "metadata": {
    "slideshow": {
     "slide_type": "slide"
    }
   },
   "source": [
    "To illustrate, let's go ahead and design a word counter for *Alice in Wonderland*! First, we'll initialize our dictionary of counts. To make our lives easier, we'll use a `defaultdict`, a special kind of dictionary you can use when you want automatic default values enforced for keys that don't exist."
   ]
  },
  {
   "cell_type": "code",
   "execution_count": 12,
   "metadata": {
    "collapsed": true,
    "slideshow": {
     "slide_type": "fragment"
    }
   },
   "outputs": [],
   "source": [
    "from collections import defaultdict\n",
    "word_counts = defaultdict(int)  # All values are integers."
   ]
  },
  {
   "cell_type": "markdown",
   "metadata": {
    "slideshow": {
     "slide_type": "fragment"
    }
   },
   "source": [
    "It otherwise behaves exactly like a regular Python dictionary, except we won't get a `KeyError` if we reference a key that doesn't exist; instead, a new key will be automatically created and a default value set. For the `int` type, this default value is 0."
   ]
  },
  {
   "cell_type": "markdown",
   "metadata": {
    "slideshow": {
     "slide_type": "slide"
    }
   },
   "source": [
    "Next, we'll iterate through the lines of the book. There are a couple things we need to do here:"
   ]
  },
  {
   "cell_type": "markdown",
   "metadata": {
    "slideshow": {
     "slide_type": "fragment"
    }
   },
   "source": [
    " - For each line, split the line into single words. We'll go back yet again to our good friend `split()`."
   ]
  },
  {
   "cell_type": "markdown",
   "metadata": {
    "slideshow": {
     "slide_type": "fragment"
    }
   },
   "source": [
    " - Now we'll have a list of words, so we'll need to iterate over these words, lowercasing them all and then adding them up."
   ]
  },
  {
   "cell_type": "markdown",
   "metadata": {
    "slideshow": {
     "slide_type": "slide"
    }
   },
   "source": [
    "So the code should look something like this:"
   ]
  },
  {
   "cell_type": "code",
   "execution_count": 13,
   "metadata": {
    "collapsed": true,
    "slideshow": {
     "slide_type": "fragment"
    }
   },
   "outputs": [],
   "source": [
    "for line in lines:  # Iterate through the lines of the book\n",
    "    words = line.split()  # If you don't give split() any arguments, the *default* split character is any whitespace.\n",
    "    for word in words:\n",
    "        w = word.lower()  # Convert to lowercase.\n",
    "        word_counts[w] += 1  # Add 1 to the count for that word in our word dictionary."
   ]
  },
  {
   "cell_type": "markdown",
   "metadata": {
    "slideshow": {
     "slide_type": "slide"
    }
   },
   "source": [
    "Let's take a look at what we have! First, we'll count how many unique words there are."
   ]
  },
  {
   "cell_type": "code",
   "execution_count": 14,
   "metadata": {
    "collapsed": false,
    "slideshow": {
     "slide_type": "fragment"
    }
   },
   "outputs": [
    {
     "name": "stdout",
     "output_type": "stream",
     "text": [
      "Unique words: 5581\n"
     ]
    }
   ],
   "source": [
    "print(\"Unique words: {}\".format(len(word_counts.keys())))"
   ]
  },
  {
   "cell_type": "markdown",
   "metadata": {
    "slideshow": {
     "slide_type": "fragment"
    }
   },
   "source": [
    "Next, we'll count the *total* number of words in the book."
   ]
  },
  {
   "cell_type": "code",
   "execution_count": 15,
   "metadata": {
    "collapsed": false,
    "slideshow": {
     "slide_type": "fragment"
    }
   },
   "outputs": [
    {
     "name": "stdout",
     "output_type": "stream",
     "text": [
      "Total words: 29461\n"
     ]
    }
   ],
   "source": [
    "print(\"Total words: {}\".format(sum(word_counts.values())))"
   ]
  },
  {
   "cell_type": "markdown",
   "metadata": {
    "slideshow": {
     "slide_type": "fragment"
    }
   },
   "source": [
    "Now we'll find the word that occurred most often:"
   ]
  },
  {
   "cell_type": "code",
   "execution_count": 16,
   "metadata": {
    "collapsed": false,
    "slideshow": {
     "slide_type": "fragment"
    }
   },
   "outputs": [
    {
     "name": "stdout",
     "output_type": "stream",
     "text": [
      "'the' occurred most often (1777 times).\n"
     ]
    }
   ],
   "source": [
    "maxcount = -1\n",
    "maxitem = None\n",
    "for k, v in word_counts.items():\n",
    "    if v > maxcount:\n",
    "        maxcount = v\n",
    "        maxitem = k\n",
    "print(\"'{}' occurred most often ({} times).\".format(maxitem, maxcount))"
   ]
  },
  {
   "cell_type": "markdown",
   "metadata": {
    "slideshow": {
     "slide_type": "fragment"
    }
   },
   "source": [
    "Well, there's a shocker. */sarcasm*"
   ]
  },
  {
   "cell_type": "markdown",
   "metadata": {
    "slideshow": {
     "slide_type": "slide"
    }
   },
   "source": [
    "Python has another incredibly useful utility class for whenever we're counting things: a `Counter`! This will let us easily find the *n* words with the highest counts."
   ]
  },
  {
   "cell_type": "code",
   "execution_count": 17,
   "metadata": {
    "collapsed": false,
    "slideshow": {
     "slide_type": "fragment"
    }
   },
   "outputs": [
    {
     "name": "stdout",
     "output_type": "stream",
     "text": [
      "[('the', 1777), ('and', 833), ('to', 782), ('a', 670), ('of', 610), ('she', 518), ('said', 421), ('in', 412), ('it', 374), ('was', 334), ('you', 332), ('i', 260), ('as', 258), ('that', 237), ('alice', 221), ('at', 220), ('with', 217), ('her', 208), ('had', 176), ('all', 173)]\n"
     ]
    }
   ],
   "source": [
    "from collections import Counter\n",
    "counts = Counter(word_counts)\n",
    "print(counts.most_common(20))  # Find the 20 words with the highest counts!"
   ]
  },
  {
   "cell_type": "markdown",
   "metadata": {
    "slideshow": {
     "slide_type": "fragment"
    }
   },
   "source": [
    "Pretty boring, right? Most of these words are referred to as *stop words*, or words that used pretty much in every context and therefore don't tell you anything particularly interesting. They're usually filtered out, but [because of some interesting corner cases](https://en.wikipedia.org/wiki/Stop_words), there's no universal \"stop word list\"; it's generally up to you to decide what words to remove (though pretty much all of the above top 20, with the exception of \"alice\", can be removed)."
   ]
  },
  {
   "cell_type": "markdown",
   "metadata": {
    "slideshow": {
     "slide_type": "fragment"
    }
   },
   "source": [
    "So, in addition to stripping out and splitting on whitespace, and lowercasing all the words, we also check if the word is part of some pre-built stop-word list. If it is, just throw it out; if not, then we'll count it."
   ]
  },
  {
   "cell_type": "markdown",
   "metadata": {
    "slideshow": {
     "slide_type": "slide"
    }
   },
   "source": [
    "## Part 3: String Formatting"
   ]
  },
  {
   "cell_type": "markdown",
   "metadata": {
    "slideshow": {
     "slide_type": "fragment"
    }
   },
   "source": [
    "We've seen previously how to convert strings and numbers (integers and floating-point values) back and forth; just using the `str()`, `int()`, and `float()` functions. Pretty easy."
   ]
  },
  {
   "cell_type": "markdown",
   "metadata": {
    "slideshow": {
     "slide_type": "fragment"
    }
   },
   "source": [
    "Here's a harder question: how do you represent a floating-point number as a string, but to only 2 decimal places?"
   ]
  },
  {
   "cell_type": "markdown",
   "metadata": {
    "slideshow": {
     "slide_type": "fragment"
    }
   },
   "source": [
    "Another hard question: how do you represent an integer as string, but with 3 leading zeros?"
   ]
  },
  {
   "cell_type": "markdown",
   "metadata": {
    "slideshow": {
     "slide_type": "slide"
    }
   },
   "source": [
    "You've probably noticed the bizarre notation I've used when printing out strings."
   ]
  },
  {
   "cell_type": "code",
   "execution_count": 18,
   "metadata": {
    "collapsed": false,
    "slideshow": {
     "slide_type": "fragment"
    }
   },
   "outputs": [
    {
     "name": "stdout",
     "output_type": "stream",
     "text": [
      "Here's the notation --> another string\n"
     ]
    }
   ],
   "source": [
    "print(\"Here's the notation --> {}\".format(\"another string\"))"
   ]
  },
  {
   "cell_type": "markdown",
   "metadata": {
    "slideshow": {
     "slide_type": "fragment"
    }
   },
   "source": [
    "By using the curly braces `{}` *inside* the string, I've effectively created a placeholder for another string to be inserted. That other string is the argument(s) to the `format()` function."
   ]
  },
  {
   "cell_type": "markdown",
   "metadata": {
    "slideshow": {
     "slide_type": "fragment"
    }
   },
   "source": [
    "But there's a lot more to the curly braces than just `{}`."
   ]
  },
  {
   "cell_type": "markdown",
   "metadata": {
    "slideshow": {
     "slide_type": "slide"
    }
   },
   "source": [
    "The simplest is just using the curly braces and nothing else. If you specify multiple pairs of curly braces, you'll need to specify an equal number of arguments to `format()`, and they'll be inserted into the string in the order you gave them to `format()`."
   ]
  },
  {
   "cell_type": "code",
   "execution_count": 19,
   "metadata": {
    "collapsed": false,
    "slideshow": {
     "slide_type": "fragment"
    }
   },
   "outputs": [
    {
     "name": "stdout",
     "output_type": "stream",
     "text": [
      "a, b, and c\n"
     ]
    }
   ],
   "source": [
    "print(\"{}, {}, and {}\".format(\"a\", \"b\", \"c\"))"
   ]
  },
  {
   "cell_type": "markdown",
   "metadata": {
    "slideshow": {
     "slide_type": "fragment"
    }
   },
   "source": [
    "Alternatively, you can specify the indices of the `format()` arguments inside the curly braces:"
   ]
  },
  {
   "cell_type": "code",
   "execution_count": 20,
   "metadata": {
    "collapsed": false,
    "slideshow": {
     "slide_type": "fragment"
    }
   },
   "outputs": [
    {
     "name": "stdout",
     "output_type": "stream",
     "text": [
      "a, c, and b\n"
     ]
    }
   ],
   "source": [
    "print(\"{0}, {2}, and {1}\".format(\"a\", \"b\", \"c\"))"
   ]
  },
  {
   "cell_type": "markdown",
   "metadata": {
    "slideshow": {
     "slide_type": "fragment"
    }
   },
   "source": [
    "Notice the 2nd and 3rd arguments were flipped in their final ordering!"
   ]
  },
  {
   "cell_type": "markdown",
   "metadata": {
    "slideshow": {
     "slide_type": "slide"
    }
   },
   "source": [
    "You can even provide arbitrary named arguments inside the curly braces, which `format()` will then expect."
   ]
  },
  {
   "cell_type": "code",
   "execution_count": 21,
   "metadata": {
    "collapsed": false,
    "slideshow": {
     "slide_type": "fragment"
    }
   },
   "outputs": [
    {
     "name": "stdout",
     "output_type": "stream",
     "text": [
      "a, b, and c\n"
     ]
    }
   ],
   "source": [
    "print(\"{first_arg}, {second_arg}, and {third_arg}\".format(second_arg = \"b\", first_arg = \"a\", third_arg = \"c\"))"
   ]
  },
  {
   "cell_type": "markdown",
   "metadata": {
    "slideshow": {
     "slide_type": "slide"
    }
   },
   "source": [
    "### Leading zeros and decimal precision"
   ]
  },
  {
   "cell_type": "markdown",
   "metadata": {
    "slideshow": {
     "slide_type": "fragment"
    }
   },
   "source": [
    "You can also use this same syntax to specify leading zeros and decimal precision, but the notation gets a little more complicated."
   ]
  },
  {
   "cell_type": "markdown",
   "metadata": {
    "slideshow": {
     "slide_type": "fragment"
    }
   },
   "source": [
    "You'll need to first enter a colon \":\", followed by the number 0, followed by the number of *places* that should be counted:"
   ]
  },
  {
   "cell_type": "code",
   "execution_count": 22,
   "metadata": {
    "collapsed": false,
    "slideshow": {
     "slide_type": "fragment"
    }
   },
   "outputs": [
    {
     "name": "stdout",
     "output_type": "stream",
     "text": [
      "One leading zero: 01\n",
      "Two leading zeros: 001\n",
      "One leading zero: 0100\n",
      "Two leading zeros: 00100\n"
     ]
    }
   ],
   "source": [
    "print(\"One leading zero: {:02}\".format(1))\n",
    "print(\"Two leading zeros: {:03}\".format(1))\n",
    "print(\"One leading zero: {:04}\".format(100))\n",
    "print(\"Two leading zeros: {:05}\".format(100))"
   ]
  },
  {
   "cell_type": "markdown",
   "metadata": {
    "slideshow": {
     "slide_type": "slide"
    }
   },
   "source": [
    "Decimal precision is very similar, but instead of a 0, you'll specify a decimal point \".\" followed by the level of precision you want (a number), followed by the letter \"f\" to signify that it's a floating-point:"
   ]
  },
  {
   "cell_type": "code",
   "execution_count": 23,
   "metadata": {
    "collapsed": false,
    "slideshow": {
     "slide_type": "fragment"
    }
   },
   "outputs": [
    {
     "name": "stdout",
     "output_type": "stream",
     "text": [
      "Unformatted: 3.141592653589793\n",
      "Two decimal places: 3.14\n"
     ]
    }
   ],
   "source": [
    "import numpy as np\n",
    "print(\"Unformatted: {}\".format(np.pi))\n",
    "print(\"Two decimal places: {:.2f}\".format(np.pi))"
   ]
  },
  {
   "cell_type": "markdown",
   "metadata": {
    "slideshow": {
     "slide_type": "fragment"
    }
   },
   "source": [
    "Finally, you can also include the comma in large numbers so you can actually read them more easily:"
   ]
  },
  {
   "cell_type": "code",
   "execution_count": 24,
   "metadata": {
    "collapsed": false,
    "slideshow": {
     "slide_type": "fragment"
    }
   },
   "outputs": [
    {
     "name": "stdout",
     "output_type": "stream",
     "text": [
      "Big number: 98483745834\n",
      "Big number with commas: 98,483,745,834\n"
     ]
    }
   ],
   "source": [
    "big_number = 98483745834\n",
    "print(\"Big number: {}\".format(big_number))\n",
    "print(\"Big number with commas: {:,}\".format(big_number))"
   ]
  },
  {
   "cell_type": "markdown",
   "metadata": {
    "slideshow": {
     "slide_type": "slide"
    }
   },
   "source": [
    "### Additional string functions"
   ]
  },
  {
   "cell_type": "markdown",
   "metadata": {
    "slideshow": {
     "slide_type": "fragment"
    }
   },
   "source": [
    "There is an entire ecosystem of [Python string functions](https://docs.python.org/3.5/library/stdtypes.html#string-methods) that I highly encourage you to investigate, but I'll go over a few of the most common here."
   ]
  },
  {
   "cell_type": "markdown",
   "metadata": {
    "slideshow": {
     "slide_type": "fragment"
    }
   },
   "source": [
    "`upper()` and `lower()`: we've seen the latter already, but the former can be just as useful."
   ]
  },
  {
   "cell_type": "markdown",
   "metadata": {
    "slideshow": {
     "slide_type": "fragment"
    }
   },
   "source": [
    "`count()` will give you the number of times a *substring* occurs in the actual string. If you're interested in one word in particular, this can be a very efficient way of finding it:"
   ]
  },
  {
   "cell_type": "code",
   "execution_count": 25,
   "metadata": {
    "collapsed": false,
    "slideshow": {
     "slide_type": "fragment"
    }
   },
   "outputs": [
    {
     "name": "stdout",
     "output_type": "stream",
     "text": [
      "'Wonderland' occurs 5 times.\n"
     ]
    }
   ],
   "source": [
    "print(\"'Wonderland' occurs {} times.\".format(book.count(\"Wonderland\")))"
   ]
  },
  {
   "cell_type": "markdown",
   "metadata": {
    "slideshow": {
     "slide_type": "slide"
    }
   },
   "source": [
    "What if you need to find the actual location in a string of that substring? As in, where is \"Wonderland\" first mentioned in the book? `find()` to the rescue!"
   ]
  },
  {
   "cell_type": "code",
   "execution_count": 26,
   "metadata": {
    "collapsed": false,
    "slideshow": {
     "slide_type": "fragment"
    }
   },
   "outputs": [
    {
     "name": "stdout",
     "output_type": "stream",
     "text": [
      "'Wonderland' is first found 43 characters in.\n"
     ]
    }
   ],
   "source": [
    "print(\"'Wonderland' is first found {} characters in.\".format(book.find(\"Wonderland\")))"
   ]
  },
  {
   "cell_type": "markdown",
   "metadata": {
    "slideshow": {
     "slide_type": "fragment"
    }
   },
   "source": [
    "...well, that's embarrassing; that's probably the \"Wonderland\" that's in the book title. How about the *second* occurrence, then? We can use the index of the first one to tell `find()` that we want to *start* looking from there."
   ]
  },
  {
   "cell_type": "code",
   "execution_count": 27,
   "metadata": {
    "collapsed": false,
    "slideshow": {
     "slide_type": "fragment"
    }
   },
   "outputs": [
    {
     "name": "stdout",
     "output_type": "stream",
     "text": [
      "'Wonderland' is first found 353 characters in.\n"
     ]
    }
   ],
   "source": [
    "print(\"'Wonderland' is first found {} characters in.\".format(book.find(\"Wonderland\", 43 + 1)))"
   ]
  },
  {
   "cell_type": "markdown",
   "metadata": {
    "slideshow": {
     "slide_type": "slide"
    }
   },
   "source": [
    "Now, I've decided I don't want this book to be *Alice in Wonderland*, but rather *Alice in Las Vegas*! How can I make this happen? `replace()`!"
   ]
  },
  {
   "cell_type": "code",
   "execution_count": 28,
   "metadata": {
    "collapsed": false,
    "slideshow": {
     "slide_type": "fragment"
    }
   },
   "outputs": [
    {
     "name": "stdout",
     "output_type": "stream",
     "text": [
      "﻿Project Gutenberg's Alice's Adventures in Las Vegas, by Lewis Carroll\n",
      "\n"
     ]
    }
   ],
   "source": [
    "my_book = book.replace(\"Wonderland\", \"Las Vegas\")\n",
    "print(my_book[:71])"
   ]
  },
  {
   "cell_type": "markdown",
   "metadata": {
    "slideshow": {
     "slide_type": "fragment"
    }
   },
   "source": [
    "I wonder if Alice will be Ocean's 14th?"
   ]
  },
  {
   "cell_type": "markdown",
   "metadata": {
    "slideshow": {
     "slide_type": "slide"
    }
   },
   "source": [
    "Two more very useful string functions are `startswith()` and `endswith()`. These are great if you're testing for leading or trailing characters or words."
   ]
  },
  {
   "cell_type": "code",
   "execution_count": 29,
   "metadata": {
    "collapsed": false,
    "slideshow": {
     "slide_type": "fragment"
    }
   },
   "outputs": [
    {
     "name": "stdout",
     "output_type": "stream",
     "text": [
      "Title: Alice's Adventures in Wonderland\n",
      "True\n",
      "True\n"
     ]
    }
   ],
   "source": [
    "print(lines[8])\n",
    "print(lines[8].startswith(\"Title\"))\n",
    "print(lines[8].endswith(\"Wonderland\"))"
   ]
  },
  {
   "cell_type": "markdown",
   "metadata": {
    "slideshow": {
     "slide_type": "slide"
    }
   },
   "source": [
    "Finally, the `join()` method. This is a little tricky to use, but insanely useful. It's cropped up on a couple previous assignments."
   ]
  },
  {
   "cell_type": "markdown",
   "metadata": {
    "slideshow": {
     "slide_type": "fragment"
    }
   },
   "source": [
    "You'll want to use this method whenever you have a list of strings that you want to \"glue\" together into a single string. Perhaps you have a list of words and want to put them back together into a sentence!"
   ]
  },
  {
   "cell_type": "code",
   "execution_count": 30,
   "metadata": {
    "collapsed": false,
    "slideshow": {
     "slide_type": "fragment"
    }
   },
   "outputs": [
    {
     "name": "stdout",
     "output_type": "stream",
     "text": [
      "['Title:', \"Alice's\", 'Adventures', 'in', 'Wonderland']\n"
     ]
    }
   ],
   "source": [
    "words = lines[8].split(\" \")\n",
    "print(words)"
   ]
  },
  {
   "cell_type": "markdown",
   "metadata": {
    "slideshow": {
     "slide_type": "fragment"
    }
   },
   "source": [
    "We can do this by specifying first the character we want to put in between all the words we're joining--in this case, just a space character--then calling `join()` on that character, and passing in the list of words we want to glue together as the argument to the function."
   ]
  },
  {
   "cell_type": "code",
   "execution_count": 31,
   "metadata": {
    "collapsed": false,
    "slideshow": {
     "slide_type": "fragment"
    }
   },
   "outputs": [
    {
     "name": "stdout",
     "output_type": "stream",
     "text": [
      "Title: Alice's Adventures in Wonderland\n"
     ]
    }
   ],
   "source": [
    "between_char = \" \"\n",
    "sentence = between_char.join(words)\n",
    "print(sentence)"
   ]
  },
  {
   "cell_type": "markdown",
   "metadata": {
    "slideshow": {
     "slide_type": "slide"
    }
   },
   "source": [
    "## Review Questions\n",
    "\n",
    "Some questions to discuss and consider:"
   ]
  },
  {
   "cell_type": "markdown",
   "metadata": {
    "slideshow": {
     "slide_type": "fragment"
    }
   },
   "source": [
    "1: Provide at least three examples of unstructured text data. What could be done to structure these data?\n",
    "\n",
    "2: Recall in the lecture when we computed the number of unique words in *Alice in Wonderland*. That number we got is actually **artificially high**. Can you explain why? How can we fix this? (hint: think about what we *didn't* strip off lines and words)\n",
    "\n",
    "3: Can you think of any weaknesses in the bag-of-words model? How could you potentially mitigate these weaknesses? (hint: instead of splitting by *word*...)\n",
    "\n",
    "4: I want to know how many times the word \"Alice\" is the first word of a sentence in *Alice in Wonderland*. Assuming the book has already been read into Python as a single string, describe the steps (in English or pseudocode) required to obtain this number.\n",
    "\n",
    "5: I have a 1D NumPy array of floating-point numbers I want to manually convert to a comma-separated string, where each number is printed to six-decimal precision. Using the `join()` function, explain in words or pseudocode how this would be done."
   ]
  },
  {
   "cell_type": "markdown",
   "metadata": {
    "slideshow": {
     "slide_type": "slide"
    }
   },
   "source": [
    "## Course Administrivia"
   ]
  },
  {
   "cell_type": "markdown",
   "metadata": {
    "slideshow": {
     "slide_type": "fragment"
    }
   },
   "source": [
    " - **A8 is out, and A7 is due.** Any questions?"
   ]
  },
  {
   "cell_type": "markdown",
   "metadata": {
    "slideshow": {
     "slide_type": "fragment"
    }
   },
   "source": [
    " - Next week we're going deeper into NLP techniques and tools, and then we'll have our 4th review session."
   ]
  },
  {
   "cell_type": "markdown",
   "metadata": {
    "slideshow": {
     "slide_type": "slide"
    }
   },
   "source": [
    "## Additional Resources\n",
    "\n",
    " 1. Grus, Joel. *Data Science from Scratch*, Chapter 9. 2015. ISBN-13: 978-1491901427\n",
    " 2. Saha, Amit. *Doing Math with Python*, Chapter 3. 2015. ISBN-13: 978-1593276409\n",
    " 3. *Alice in Wonderland*, by Lewis Carroll. Project Gutenburg. http://www.gutenberg.org/cache/epub/11/pg11.txt"
   ]
  }
 ],
 "metadata": {
  "anaconda-cloud": {},
  "celltoolbar": "Slideshow",
  "kernelspec": {
   "display_name": "Python [default]",
   "language": "python",
   "name": "python3"
  },
  "language_info": {
   "codemirror_mode": {
    "name": "ipython",
    "version": 3
   },
   "file_extension": ".py",
   "mimetype": "text/x-python",
   "name": "python",
   "nbconvert_exporter": "python",
   "pygments_lexer": "ipython3",
   "version": "3.5.2"
  }
 },
 "nbformat": 4,
 "nbformat_minor": 0
}
